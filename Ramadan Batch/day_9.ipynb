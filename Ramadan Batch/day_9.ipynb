{
 "cells": [
  {
   "attachments": {},
   "cell_type": "markdown",
   "metadata": {},
   "source": [
    "## Data Visualization"
   ]
  },
  {
   "cell_type": "code",
   "execution_count": 27,
   "metadata": {},
   "outputs": [],
   "source": [
    "import pandas as pd\n",
    "import numpy as np\n",
    "import seaborn as sns\n",
    "import plotly as px\n",
    "import matplotlib.pyplot as plt"
   ]
  },
  {
   "cell_type": "code",
   "execution_count": 28,
   "metadata": {},
   "outputs": [
    {
     "data": {
      "text/html": [
       "<div>\n",
       "<style scoped>\n",
       "    .dataframe tbody tr th:only-of-type {\n",
       "        vertical-align: middle;\n",
       "    }\n",
       "\n",
       "    .dataframe tbody tr th {\n",
       "        vertical-align: top;\n",
       "    }\n",
       "\n",
       "    .dataframe thead th {\n",
       "        text-align: right;\n",
       "    }\n",
       "</style>\n",
       "<table border=\"1\" class=\"dataframe\">\n",
       "  <thead>\n",
       "    <tr style=\"text-align: right;\">\n",
       "      <th></th>\n",
       "      <th>total_bill</th>\n",
       "      <th>tip</th>\n",
       "      <th>sex</th>\n",
       "      <th>smoker</th>\n",
       "      <th>day</th>\n",
       "      <th>time</th>\n",
       "      <th>size</th>\n",
       "    </tr>\n",
       "  </thead>\n",
       "  <tbody>\n",
       "    <tr>\n",
       "      <th>0</th>\n",
       "      <td>16.99</td>\n",
       "      <td>1.01</td>\n",
       "      <td>Female</td>\n",
       "      <td>No</td>\n",
       "      <td>Sun</td>\n",
       "      <td>Dinner</td>\n",
       "      <td>2</td>\n",
       "    </tr>\n",
       "    <tr>\n",
       "      <th>1</th>\n",
       "      <td>10.34</td>\n",
       "      <td>1.66</td>\n",
       "      <td>Male</td>\n",
       "      <td>No</td>\n",
       "      <td>Sun</td>\n",
       "      <td>Dinner</td>\n",
       "      <td>3</td>\n",
       "    </tr>\n",
       "    <tr>\n",
       "      <th>2</th>\n",
       "      <td>21.01</td>\n",
       "      <td>3.50</td>\n",
       "      <td>Male</td>\n",
       "      <td>No</td>\n",
       "      <td>Sun</td>\n",
       "      <td>Dinner</td>\n",
       "      <td>3</td>\n",
       "    </tr>\n",
       "    <tr>\n",
       "      <th>3</th>\n",
       "      <td>23.68</td>\n",
       "      <td>3.31</td>\n",
       "      <td>Male</td>\n",
       "      <td>No</td>\n",
       "      <td>Sun</td>\n",
       "      <td>Dinner</td>\n",
       "      <td>2</td>\n",
       "    </tr>\n",
       "    <tr>\n",
       "      <th>4</th>\n",
       "      <td>24.59</td>\n",
       "      <td>3.61</td>\n",
       "      <td>Female</td>\n",
       "      <td>No</td>\n",
       "      <td>Sun</td>\n",
       "      <td>Dinner</td>\n",
       "      <td>4</td>\n",
       "    </tr>\n",
       "  </tbody>\n",
       "</table>\n",
       "</div>"
      ],
      "text/plain": [
       "   total_bill   tip     sex smoker  day    time  size\n",
       "0       16.99  1.01  Female     No  Sun  Dinner     2\n",
       "1       10.34  1.66    Male     No  Sun  Dinner     3\n",
       "2       21.01  3.50    Male     No  Sun  Dinner     3\n",
       "3       23.68  3.31    Male     No  Sun  Dinner     2\n",
       "4       24.59  3.61  Female     No  Sun  Dinner     4"
      ]
     },
     "execution_count": 28,
     "metadata": {},
     "output_type": "execute_result"
    }
   ],
   "source": [
    "df = sns.load_dataset('tips')\n",
    "df.head()"
   ]
  },
  {
   "cell_type": "code",
   "execution_count": 29,
   "metadata": {},
   "outputs": [
    {
     "name": "stdout",
     "output_type": "stream",
     "text": [
      "<class 'pandas.core.frame.DataFrame'>\n",
      "RangeIndex: 244 entries, 0 to 243\n",
      "Data columns (total 7 columns):\n",
      " #   Column      Non-Null Count  Dtype   \n",
      "---  ------      --------------  -----   \n",
      " 0   total_bill  244 non-null    float64 \n",
      " 1   tip         244 non-null    float64 \n",
      " 2   sex         244 non-null    category\n",
      " 3   smoker      244 non-null    category\n",
      " 4   day         244 non-null    category\n",
      " 5   time        244 non-null    category\n",
      " 6   size        244 non-null    int64   \n",
      "dtypes: category(4), float64(2), int64(1)\n",
      "memory usage: 7.4 KB\n"
     ]
    }
   ],
   "source": [
    "df.info()"
   ]
  },
  {
   "cell_type": "code",
   "execution_count": 30,
   "metadata": {},
   "outputs": [
    {
     "data": {
      "text/plain": [
       "(244, 7)"
      ]
     },
     "execution_count": 30,
     "metadata": {},
     "output_type": "execute_result"
    }
   ],
   "source": [
    "df.shape"
   ]
  },
  {
   "cell_type": "code",
   "execution_count": 31,
   "metadata": {},
   "outputs": [
    {
     "data": {
      "text/html": [
       "<div>\n",
       "<style scoped>\n",
       "    .dataframe tbody tr th:only-of-type {\n",
       "        vertical-align: middle;\n",
       "    }\n",
       "\n",
       "    .dataframe tbody tr th {\n",
       "        vertical-align: top;\n",
       "    }\n",
       "\n",
       "    .dataframe thead th {\n",
       "        text-align: right;\n",
       "    }\n",
       "</style>\n",
       "<table border=\"1\" class=\"dataframe\">\n",
       "  <thead>\n",
       "    <tr style=\"text-align: right;\">\n",
       "      <th></th>\n",
       "      <th>total_bill</th>\n",
       "      <th>tip</th>\n",
       "      <th>size</th>\n",
       "    </tr>\n",
       "  </thead>\n",
       "  <tbody>\n",
       "    <tr>\n",
       "      <th>count</th>\n",
       "      <td>244.000000</td>\n",
       "      <td>244.000000</td>\n",
       "      <td>244.000000</td>\n",
       "    </tr>\n",
       "    <tr>\n",
       "      <th>mean</th>\n",
       "      <td>19.785943</td>\n",
       "      <td>2.998279</td>\n",
       "      <td>2.569672</td>\n",
       "    </tr>\n",
       "    <tr>\n",
       "      <th>std</th>\n",
       "      <td>8.902412</td>\n",
       "      <td>1.383638</td>\n",
       "      <td>0.951100</td>\n",
       "    </tr>\n",
       "    <tr>\n",
       "      <th>min</th>\n",
       "      <td>3.070000</td>\n",
       "      <td>1.000000</td>\n",
       "      <td>1.000000</td>\n",
       "    </tr>\n",
       "    <tr>\n",
       "      <th>25%</th>\n",
       "      <td>13.347500</td>\n",
       "      <td>2.000000</td>\n",
       "      <td>2.000000</td>\n",
       "    </tr>\n",
       "    <tr>\n",
       "      <th>50%</th>\n",
       "      <td>17.795000</td>\n",
       "      <td>2.900000</td>\n",
       "      <td>2.000000</td>\n",
       "    </tr>\n",
       "    <tr>\n",
       "      <th>75%</th>\n",
       "      <td>24.127500</td>\n",
       "      <td>3.562500</td>\n",
       "      <td>3.000000</td>\n",
       "    </tr>\n",
       "    <tr>\n",
       "      <th>max</th>\n",
       "      <td>50.810000</td>\n",
       "      <td>10.000000</td>\n",
       "      <td>6.000000</td>\n",
       "    </tr>\n",
       "  </tbody>\n",
       "</table>\n",
       "</div>"
      ],
      "text/plain": [
       "       total_bill         tip        size\n",
       "count  244.000000  244.000000  244.000000\n",
       "mean    19.785943    2.998279    2.569672\n",
       "std      8.902412    1.383638    0.951100\n",
       "min      3.070000    1.000000    1.000000\n",
       "25%     13.347500    2.000000    2.000000\n",
       "50%     17.795000    2.900000    2.000000\n",
       "75%     24.127500    3.562500    3.000000\n",
       "max     50.810000   10.000000    6.000000"
      ]
     },
     "execution_count": 31,
     "metadata": {},
     "output_type": "execute_result"
    }
   ],
   "source": [
    "df.describe()"
   ]
  },
  {
   "cell_type": "code",
   "execution_count": 32,
   "metadata": {},
   "outputs": [
    {
     "data": {
      "text/plain": [
       "total_bill     float64\n",
       "tip            float64\n",
       "sex           category\n",
       "smoker        category\n",
       "day           category\n",
       "time          category\n",
       "size             int64\n",
       "dtype: object"
      ]
     },
     "execution_count": 32,
     "metadata": {},
     "output_type": "execute_result"
    }
   ],
   "source": [
    "df.dtypes"
   ]
  },
  {
   "cell_type": "code",
   "execution_count": 33,
   "metadata": {},
   "outputs": [
    {
     "data": {
      "text/plain": [
       "<AxesSubplot: xlabel='total_bill', ylabel='tip'>"
      ]
     },
     "execution_count": 33,
     "metadata": {},
     "output_type": "execute_result"
    },
    {
     "data": {
      "image/png": "[encoded data removed]",
      "text/plain": [
       "<Figure size 640x480 with 1 Axes>"
      ]
     },
     "metadata": {},
     "output_type": "display_data"
    }
   ],
   "source": [
    "sns.scatterplot(data=df,x='total_bill',y= 'tip')"
   ]
  },
  {
   "cell_type": "code",
   "execution_count": 34,
   "metadata": {},
   "outputs": [
    {
     "data": {
      "text/plain": [
       "Index(['total_bill', 'tip', 'sex', 'smoker', 'day', 'time', 'size'], dtype='object')"
      ]
     },
     "execution_count": 34,
     "metadata": {},
     "output_type": "execute_result"
    }
   ],
   "source": [
    "df.columns"
   ]
  },
  {
   "attachments": {},
   "cell_type": "markdown",
   "metadata": {},
   "source": [
    "# Plotly Visualization"
   ]
  },
  {
   "cell_type": "code",
   "execution_count": 35,
   "metadata": {},
   "outputs": [
    {
     "data": {
      "application/vnd.plotly.v1+json": {
       "config": {
        "plotlyServerURL": "https://plot.ly"
       },
       "data": [
        {
         "domain": {
          "x": [
           0,
           1
          ],
          "y": [
           0,
           1
          ]
         },
         "hovertemplate": "character=%{label}<br>value=%{value}<br>parent=%{parent}<extra></extra>",
         "labels": [
          "Eve",
          "Cain",
          "Seth",
          "Enos",
          "Noam",
          "Abel",
          "Awan",
          "Enoch",
          "Azura"
         ],
         "name": "",
         "parents": [
          "",
          "Eve",
          "Eve",
          "Seth",
          "Seth",
          "Eve",
          "Eve",
          "Awan",
          "Eve"
         ],
         "type": "sunburst",
         "values": [
          10,
          14,
          12,
          10,
          2,
          6,
          6,
          4,
          4
         ]
        }
       ],
       "layout": {
        "legend": {
         "tracegroupgap": 0
        },
        "margin": {
         "t": 60
        },
        "template": {
         "data": {
          "bar": [
           {
            "error_x": {
             "color": "#2a3f5f"
            },
            "error_y": {
             "color": "#2a3f5f"
            },
            "marker": {
             "line": {
              "color": "#E5ECF6",
              "width": 0.5
             },
             "pattern": {
              "fillmode": "overlay",
              "size": 10,
              "solidity": 0.2
             }
            },
            "type": "bar"
           }
          ],
          "barpolar": [
           {
            "marker": {
             "line": {
              "color": "#E5ECF6",
              "width": 0.5
             },
             "pattern": {
              "fillmode": "overlay",
              "size": 10,
              "solidity": 0.2
             }
            },
            "type": "barpolar"
           }
          ],
          "carpet": [
           {
            "aaxis": {
             "endlinecolor": "#2a3f5f",
             "gridcolor": "white",
             "linecolor": "white",
             "minorgridcolor": "white",
             "startlinecolor": "#2a3f5f"
            },
            "baxis": {
             "endlinecolor": "#2a3f5f",
             "gridcolor": "white",
             "linecolor": "white",
             "minorgridcolor": "white",
             "startlinecolor": "#2a3f5f"
            },
            "type": "carpet"
           }
          ],
          "choropleth": [
           {
            "colorbar": {
             "outlinewidth": 0,
             "ticks": ""
            },
            "type": "choropleth"
           }
          ],
          "contour": [
           {
            "colorbar": {
             "outlinewidth": 0,
             "ticks": ""
            },
            "colorscale": [
             [
              0,
              "#0d0887"
             ],
             [
              0.1111111111111111,
              "#46039f"
             ],
             [
              0.2222222222222222,
              "#7201a8"
             ],
             [
              0.3333333333333333,
              "#9c179e"
             ],
             [
              0.4444444444444444,
              "#bd3786"
             ],
             [
              0.5555555555555556,
              "#d8576b"
             ],
             [
              0.6666666666666666,
              "#ed7953"
             ],
             [
              0.7777777777777778,
              "#fb9f3a"
             ],
             [
              0.8888888888888888,
              "#fdca26"
             ],
             [
              1,
              "#f0f921"
             ]
            ],
            "type": "contour"
           }
          ],
          "contourcarpet": [
           {
            "colorbar": {
             "outlinewidth": 0,
             "ticks": ""
            },
            "type": "contourcarpet"
           }
          ],
          "heatmap": [
           {
            "colorbar": {
             "outlinewidth": 0,
             "ticks": ""
            },
            "colorscale": [
             [
              0,
              "#0d0887"
             ],
             [
              0.1111111111111111,
              "#46039f"
             ],
             [
              0.2222222222222222,
              "#7201a8"
             ],
             [
              0.3333333333333333,
              "#9c179e"
             ],
             [
              0.4444444444444444,
              "#bd3786"
             ],
             [
              0.5555555555555556,
              "#d8576b"
             ],
             [
              0.6666666666666666,
              "#ed7953"
             ],
             [
              0.7777777777777778,
              "#fb9f3a"
             ],
             [
              0.8888888888888888,
              "#fdca26"
             ],
             [
              1,
              "#f0f921"
             ]
            ],
            "type": "heatmap"
           }
          ],
          "heatmapgl": [
           {
            "colorbar": {
             "outlinewidth": 0,
             "ticks": ""
            },
            "colorscale": [
             [
              0,
              "#0d0887"
             ],
             [
              0.1111111111111111,
              "#46039f"
             ],
             [
              0.2222222222222222,
              "#7201a8"
             ],
             [
              0.3333333333333333,
              "#9c179e"
             ],
             [
              0.4444444444444444,
              "#bd3786"
             ],
             [
              0.5555555555555556,
              "#d8576b"
             ],
             [
              0.6666666666666666,
              "#ed7953"
             ],
             [
              0.7777777777777778,
              "#fb9f3a"
             ],
             [
              0.8888888888888888,
              "#fdca26"
             ],
             [
              1,
              "#f0f921"
             ]
            ],
            "type": "heatmapgl"
           }
          ],
          "histogram": [
           {
            "marker": {
             "pattern": {
              "fillmode": "overlay",
              "size": 10,
              "solidity": 0.2
             }
            },
            "type": "histogram"
           }
          ],
          "histogram2d": [
           {
            "colorbar": {
             "outlinewidth": 0,
             "ticks": ""
            },
            "colorscale": [
             [
              0,
              "#0d0887"
             ],
             [
              0.1111111111111111,
              "#46039f"
             ],
             [
              0.2222222222222222,
              "#7201a8"
             ],
             [
              0.3333333333333333,
              "#9c179e"
             ],
             [
              0.4444444444444444,
              "#bd3786"
             ],
             [
              0.5555555555555556,
              "#d8576b"
             ],
             [
              0.6666666666666666,
              "#ed7953"
             ],
             [
              0.7777777777777778,
              "#fb9f3a"
             ],
             [
              0.8888888888888888,
              "#fdca26"
             ],
             [
              1,
              "#f0f921"
             ]
            ],
            "type": "histogram2d"
           }
          ],
          "histogram2dcontour": [
           {
            "colorbar": {
             "outlinewidth": 0,
             "ticks": ""
            },
            "colorscale": [
             [
              0,
              "#0d0887"
             ],
             [
              0.1111111111111111,
              "#46039f"
             ],
             [
              0.2222222222222222,
              "#7201a8"
             ],
             [
              0.3333333333333333,
              "#9c179e"
             ],
             [
              0.4444444444444444,
              "#bd3786"
             ],
             [
              0.5555555555555556,
              "#d8576b"
             ],
             [
              0.6666666666666666,
              "#ed7953"
             ],
             [
              0.7777777777777778,
              "#fb9f3a"
             ],
             [
              0.8888888888888888,
              "#fdca26"
             ],
             [
              1,
              "#f0f921"
             ]
            ],
            "type": "histogram2dcontour"
           }
          ],
          "mesh3d": [
           {
            "colorbar": {
             "outlinewidth": 0,
             "ticks": ""
            },
            "type": "mesh3d"
           }
          ],
          "parcoords": [
           {
            "line": {
             "colorbar": {
              "outlinewidth": 0,
              "ticks": ""
             }
            },
            "type": "parcoords"
           }
          ],
          "pie": [
           {
            "automargin": true,
            "type": "pie"
           }
          ],
          "scatter": [
           {
            "fillpattern": {
             "fillmode": "overlay",
             "size": 10,
             "solidity": 0.2
            },
            "type": "scatter"
           }
          ],
          "scatter3d": [
           {
            "line": {
             "colorbar": {
              "outlinewidth": 0,
              "ticks": ""
             }
            },
            "marker": {
             "colorbar": {
              "outlinewidth": 0,
              "ticks": ""
             }
            },
            "type": "scatter3d"
           }
          ],
          "scattercarpet": [
           {
            "marker": {
             "colorbar": {
              "outlinewidth": 0,
              "ticks": ""
             }
            },
            "type": "scattercarpet"
           }
          ],
          "scattergeo": [
           {
            "marker": {
             "colorbar": {
              "outlinewidth": 0,
              "ticks": ""
             }
            },
            "type": "scattergeo"
           }
          ],
          "scattergl": [
           {
            "marker": {
             "colorbar": {
              "outlinewidth": 0,
              "ticks": ""
             }
            },
            "type": "scattergl"
           }
          ],
          "scattermapbox": [
           {
            "marker": {
             "colorbar": {
              "outlinewidth": 0,
              "ticks": ""
             }
            },
            "type": "scattermapbox"
           }
          ],
          "scatterpolar": [
           {
            "marker": {
             "colorbar": {
              "outlinewidth": 0,
              "ticks": ""
             }
            },
            "type": "scatterpolar"
           }
          ],
          "scatterpolargl": [
           {
            "marker": {
             "colorbar": {
              "outlinewidth": 0,
              "ticks": ""
             }
            },
            "type": "scatterpolargl"
           }
          ],
          "scatterternary": [
           {
            "marker": {
             "colorbar": {
              "outlinewidth": 0,
              "ticks": ""
             }
            },
            "type": "scatterternary"
           }
          ],
          "surface": [
           {
            "colorbar": {
             "outlinewidth": 0,
             "ticks": ""
            },
            "colorscale": [
             [
              0,
              "#0d0887"
             ],
             [
              0.1111111111111111,
              "#46039f"
             ],
             [
              0.2222222222222222,
              "#7201a8"
             ],
             [
              0.3333333333333333,
              "#9c179e"
             ],
             [
              0.4444444444444444,
              "#bd3786"
             ],
             [
              0.5555555555555556,
              "#d8576b"
             ],
             [
              0.6666666666666666,
              "#ed7953"
             ],
             [
              0.7777777777777778,
              "#fb9f3a"
             ],
             [
              0.8888888888888888,
              "#fdca26"
             ],
             [
              1,
              "#f0f921"
             ]
            ],
            "type": "surface"
           }
          ],
          "table": [
           {
            "cells": {
             "fill": {
              "color": "#EBF0F8"
             },
             "line": {
              "color": "white"
             }
            },
            "header": {
             "fill": {
              "color": "#C8D4E3"
             },
             "line": {
              "color": "white"
             }
            },
            "type": "table"
           }
          ]
         },
         "layout": {
          "annotationdefaults": {
           "arrowcolor": "#2a3f5f",
           "arrowhead": 0,
           "arrowwidth": 1
          },
          "autotypenumbers": "strict",
          "coloraxis": {
           "colorbar": {
            "outlinewidth": 0,
            "ticks": ""
           }
          },
          "colorscale": {
           "diverging": [
            [
             0,
             "#8e0152"
            ],
            [
             0.1,
             "#c51b7d"
            ],
            [
             0.2,
             "#de77ae"
            ],
            [
             0.3,
             "#f1b6da"
            ],
            [
             0.4,
             "#fde0ef"
            ],
            [
             0.5,
             "#f7f7f7"
            ],
            [
             0.6,
             "#e6f5d0"
            ],
            [
             0.7,
             "#b8e186"
            ],
            [
             0.8,
             "#7fbc41"
            ],
            [
             0.9,
             "#4d9221"
            ],
            [
             1,
             "#276419"
            ]
           ],
           "sequential": [
            [
             0,
             "#0d0887"
            ],
            [
             0.1111111111111111,
             "#46039f"
            ],
            [
             0.2222222222222222,
             "#7201a8"
            ],
            [
             0.3333333333333333,
             "#9c179e"
            ],
            [
             0.4444444444444444,
             "#bd3786"
            ],
            [
             0.5555555555555556,
             "#d8576b"
            ],
            [
             0.6666666666666666,
             "#ed7953"
            ],
            [
             0.7777777777777778,
             "#fb9f3a"
            ],
            [
             0.8888888888888888,
             "#fdca26"
            ],
            [
             1,
             "#f0f921"
            ]
           ],
           "sequentialminus": [
            [
             0,
             "#0d0887"
            ],
            [
             0.1111111111111111,
             "#46039f"
            ],
            [
             0.2222222222222222,
             "#7201a8"
            ],
            [
             0.3333333333333333,
             "#9c179e"
            ],
            [
             0.4444444444444444,
             "#bd3786"
            ],
            [
             0.5555555555555556,
             "#d8576b"
            ],
            [
             0.6666666666666666,
             "#ed7953"
            ],
            [
             0.7777777777777778,
             "#fb9f3a"
            ],
            [
             0.8888888888888888,
             "#fdca26"
            ],
            [
             1,
             "#f0f921"
            ]
           ]
          },
          "colorway": [
           "#636efa",
           "#EF553B",
           "#00cc96",
           "#ab63fa",
           "#FFA15A",
           "#19d3f3",
           "#FF6692",
           "#B6E880",
           "#FF97FF",
           "#FECB52"
          ],
          "font": {
           "color": "#2a3f5f"
          },
          "geo": {
           "bgcolor": "white",
           "lakecolor": "white",
           "landcolor": "#E5ECF6",
           "showlakes": true,
           "showland": true,
           "subunitcolor": "white"
          },
          "hoverlabel": {
           "align": "left"
          },
          "hovermode": "closest",
          "mapbox": {
           "style": "light"
          },
          "paper_bgcolor": "white",
          "plot_bgcolor": "#E5ECF6",
          "polar": {
           "angularaxis": {
            "gridcolor": "white",
            "linecolor": "white",
            "ticks": ""
           },
           "bgcolor": "#E5ECF6",
           "radialaxis": {
            "gridcolor": "white",
            "linecolor": "white",
            "ticks": ""
           }
          },
          "scene": {
           "xaxis": {
            "backgroundcolor": "#E5ECF6",
            "gridcolor": "white",
            "gridwidth": 2,
            "linecolor": "white",
            "showbackground": true,
            "ticks": "",
            "zerolinecolor": "white"
           },
           "yaxis": {
            "backgroundcolor": "#E5ECF6",
            "gridcolor": "white",
            "gridwidth": 2,
            "linecolor": "white",
            "showbackground": true,
            "ticks": "",
            "zerolinecolor": "white"
           },
           "zaxis": {
            "backgroundcolor": "#E5ECF6",
            "gridcolor": "white",
            "gridwidth": 2,
            "linecolor": "white",
            "showbackground": true,
            "ticks": "",
            "zerolinecolor": "white"
           }
          },
          "shapedefaults": {
           "line": {
            "color": "#2a3f5f"
           }
          },
          "ternary": {
           "aaxis": {
            "gridcolor": "white",
            "linecolor": "white",
            "ticks": ""
           },
           "baxis": {
            "gridcolor": "white",
            "linecolor": "white",
            "ticks": ""
           },
           "bgcolor": "#E5ECF6",
           "caxis": {
            "gridcolor": "white",
            "linecolor": "white",
            "ticks": ""
           }
          },
          "title": {
           "x": 0.05
          },
          "xaxis": {
           "automargin": true,
           "gridcolor": "white",
           "linecolor": "white",
           "ticks": "",
           "title": {
            "standoff": 15
           },
           "zerolinecolor": "white",
           "zerolinewidth": 2
          },
          "yaxis": {
           "automargin": true,
           "gridcolor": "white",
           "linecolor": "white",
           "ticks": "",
           "title": {
            "standoff": 15
           },
           "zerolinecolor": "white",
           "zerolinewidth": 2
          }
         }
        }
       }
      }
     },
     "metadata": {},
     "output_type": "display_data"
    }
   ],
   "source": [
    "import plotly.express as px\n",
    "data = dict(\n",
    "    character=[\"Eve\", \"Cain\", \"Seth\", \"Enos\", \"Noam\", \"Abel\", \"Awan\", \"Enoch\", \"Azura\"],\n",
    "    parent=[\"\", \"Eve\", \"Eve\", \"Seth\", \"Seth\", \"Eve\", \"Eve\", \"Awan\", \"Eve\" ],\n",
    "    value=[10, 14, 12, 10, 2, 6, 6, 4, 4])\n",
    "\n",
    "fig = px.sunburst(\n",
    "    data,\n",
    "    names='character',\n",
    "    parents='parent',\n",
    "    values='value',\n",
    ")\n",
    "fig.show()"
   ]
  },
  {
   "cell_type": "code",
   "execution_count": 36,
   "metadata": {},
   "outputs": [
    {
     "data": {
      "text/html": [
       "<div>\n",
       "<style scoped>\n",
       "    .dataframe tbody tr th:only-of-type {\n",
       "        vertical-align: middle;\n",
       "    }\n",
       "\n",
       "    .dataframe tbody tr th {\n",
       "        vertical-align: top;\n",
       "    }\n",
       "\n",
       "    .dataframe thead th {\n",
       "        text-align: right;\n",
       "    }\n",
       "</style>\n",
       "<table border=\"1\" class=\"dataframe\">\n",
       "  <thead>\n",
       "    <tr style=\"text-align: right;\">\n",
       "      <th></th>\n",
       "      <th>total_bill</th>\n",
       "      <th>tip</th>\n",
       "      <th>sex</th>\n",
       "      <th>smoker</th>\n",
       "      <th>day</th>\n",
       "      <th>time</th>\n",
       "      <th>size</th>\n",
       "    </tr>\n",
       "  </thead>\n",
       "  <tbody>\n",
       "    <tr>\n",
       "      <th>0</th>\n",
       "      <td>16.99</td>\n",
       "      <td>1.01</td>\n",
       "      <td>Female</td>\n",
       "      <td>No</td>\n",
       "      <td>Sun</td>\n",
       "      <td>Dinner</td>\n",
       "      <td>2</td>\n",
       "    </tr>\n",
       "    <tr>\n",
       "      <th>1</th>\n",
       "      <td>10.34</td>\n",
       "      <td>1.66</td>\n",
       "      <td>Male</td>\n",
       "      <td>No</td>\n",
       "      <td>Sun</td>\n",
       "      <td>Dinner</td>\n",
       "      <td>3</td>\n",
       "    </tr>\n",
       "    <tr>\n",
       "      <th>2</th>\n",
       "      <td>21.01</td>\n",
       "      <td>3.50</td>\n",
       "      <td>Male</td>\n",
       "      <td>No</td>\n",
       "      <td>Sun</td>\n",
       "      <td>Dinner</td>\n",
       "      <td>3</td>\n",
       "    </tr>\n",
       "    <tr>\n",
       "      <th>3</th>\n",
       "      <td>23.68</td>\n",
       "      <td>3.31</td>\n",
       "      <td>Male</td>\n",
       "      <td>No</td>\n",
       "      <td>Sun</td>\n",
       "      <td>Dinner</td>\n",
       "      <td>2</td>\n",
       "    </tr>\n",
       "    <tr>\n",
       "      <th>4</th>\n",
       "      <td>24.59</td>\n",
       "      <td>3.61</td>\n",
       "      <td>Female</td>\n",
       "      <td>No</td>\n",
       "      <td>Sun</td>\n",
       "      <td>Dinner</td>\n",
       "      <td>4</td>\n",
       "    </tr>\n",
       "  </tbody>\n",
       "</table>\n",
       "</div>"
      ],
      "text/plain": [
       "   total_bill   tip     sex smoker  day    time  size\n",
       "0       16.99  1.01  Female     No  Sun  Dinner     2\n",
       "1       10.34  1.66    Male     No  Sun  Dinner     3\n",
       "2       21.01  3.50    Male     No  Sun  Dinner     3\n",
       "3       23.68  3.31    Male     No  Sun  Dinner     2\n",
       "4       24.59  3.61  Female     No  Sun  Dinner     4"
      ]
     },
     "execution_count": 36,
     "metadata": {},
     "output_type": "execute_result"
    }
   ],
   "source": [
    "df.head()"
   ]
  },
  {
   "cell_type": "code",
   "execution_count": 37,
   "metadata": {},
   "outputs": [
    {
     "data": {
      "application/vnd.plotly.v1+json": {
       "config": {
        "plotlyServerURL": "https://plot.ly"
       },
       "data": [
        {
         "branchvalues": "total",
         "domain": {
          "x": [
           0,
           1
          ],
          "y": [
           0,
           1
          ]
         },
         "hovertemplate": "labels=%{label}<br>total_bill=%{value}<br>parent=%{parent}<br>id=%{id}<extra></extra>",
         "ids": [
          "Thur/Lunch/Male",
          "Fri/Lunch/Male",
          "Sat/Lunch/Male",
          "Sun/Lunch/Male",
          "Thur/Dinner/Male",
          "Fri/Dinner/Male",
          "Sat/Dinner/Male",
          "Sun/Dinner/Male",
          "Thur/Lunch/Female",
          "Fri/Lunch/Female",
          "Sat/Lunch/Female",
          "Sun/Lunch/Female",
          "Thur/Dinner/Female",
          "Fri/Dinner/Female",
          "Sat/Dinner/Female",
          "Sun/Dinner/Female",
          "Thur/Lunch",
          "Fri/Lunch",
          "Sat/Lunch",
          "Sun/Lunch",
          "Thur/Dinner",
          "Fri/Dinner",
          "Sat/Dinner",
          "Sun/Dinner",
          "Thur",
          "Fri",
          "Sat",
          "Sun"
         ],
         "labels": [
          "Male",
          "Male",
          "Male",
          "Male",
          "Male",
          "Male",
          "Male",
          "Male",
          "Female",
          "Female",
          "Female",
          "Female",
          "Female",
          "Female",
          "Female",
          "Female",
          "Lunch",
          "Lunch",
          "Lunch",
          "Lunch",
          "Dinner",
          "Dinner",
          "Dinner",
          "Dinner",
          "Thur",
          "Fri",
          "Sat",
          "Sun"
         ],
         "name": "",
         "parents": [
          "Thur/Lunch",
          "Fri/Lunch",
          "Sat/Lunch",
          "Sun/Lunch",
          "Thur/Dinner",
          "Fri/Dinner",
          "Sat/Dinner",
          "Sun/Dinner",
          "Thur/Lunch",
          "Fri/Lunch",
          "Sat/Lunch",
          "Sun/Lunch",
          "Thur/Dinner",
          "Fri/Dinner",
          "Sat/Dinner",
          "Sun/Dinner",
          "Thur",
          "Fri",
          "Sat",
          "Sun",
          "Thur",
          "Fri",
          "Sat",
          "Sun",
          "",
          "",
          "",
          ""
         ],
         "type": "sunburst",
         "values": [
          561.4399999999999,
          34.16,
          0,
          0,
          0,
          164.41,
          1227.35,
          1269.46,
          516.11,
          55.760000000000005,
          0,
          0,
          18.78,
          71.55,
          551.05,
          357.7,
          1077.55,
          89.92,
          0,
          0,
          18.78,
          235.96,
          1778.4,
          1627.16,
          1096.33,
          325.88,
          1778.4,
          1627.16
         ]
        }
       ],
       "layout": {
        "legend": {
         "tracegroupgap": 0
        },
        "margin": {
         "t": 60
        },
        "template": {
         "data": {
          "bar": [
           {
            "error_x": {
             "color": "#2a3f5f"
            },
            "error_y": {
             "color": "#2a3f5f"
            },
            "marker": {
             "line": {
              "color": "#E5ECF6",
              "width": 0.5
             },
             "pattern": {
              "fillmode": "overlay",
              "size": 10,
              "solidity": 0.2
             }
            },
            "type": "bar"
           }
          ],
          "barpolar": [
           {
            "marker": {
             "line": {
              "color": "#E5ECF6",
              "width": 0.5
             },
             "pattern": {
              "fillmode": "overlay",
              "size": 10,
              "solidity": 0.2
             }
            },
            "type": "barpolar"
           }
          ],
          "carpet": [
           {
            "aaxis": {
             "endlinecolor": "#2a3f5f",
             "gridcolor": "white",
             "linecolor": "white",
             "minorgridcolor": "white",
             "startlinecolor": "#2a3f5f"
            },
            "baxis": {
             "endlinecolor": "#2a3f5f",
             "gridcolor": "white",
             "linecolor": "white",
             "minorgridcolor": "white",
             "startlinecolor": "#2a3f5f"
            },
            "type": "carpet"
           }
          ],
          "choropleth": [
           {
            "colorbar": {
             "outlinewidth": 0,
             "ticks": ""
            },
            "type": "choropleth"
           }
          ],
          "contour": [
           {
            "colorbar": {
             "outlinewidth": 0,
             "ticks": ""
            },
            "colorscale": [
             [
              0,
              "#0d0887"
             ],
             [
              0.1111111111111111,
              "#46039f"
             ],
             [
              0.2222222222222222,
              "#7201a8"
             ],
             [
              0.3333333333333333,
              "#9c179e"
             ],
             [
              0.4444444444444444,
              "#bd3786"
             ],
             [
              0.5555555555555556,
              "#d8576b"
             ],
             [
              0.6666666666666666,
              "#ed7953"
             ],
             [
              0.7777777777777778,
              "#fb9f3a"
             ],
             [
              0.8888888888888888,
              "#fdca26"
             ],
             [
              1,
              "#f0f921"
             ]
            ],
            "type": "contour"
           }
          ],
          "contourcarpet": [
           {
            "colorbar": {
             "outlinewidth": 0,
             "ticks": ""
            },
            "type": "contourcarpet"
           }
          ],
          "heatmap": [
           {
            "colorbar": {
             "outlinewidth": 0,
             "ticks": ""
            },
            "colorscale": [
             [
              0,
              "#0d0887"
             ],
             [
              0.1111111111111111,
              "#46039f"
             ],
             [
              0.2222222222222222,
              "#7201a8"
             ],
             [
              0.3333333333333333,
              "#9c179e"
             ],
             [
              0.4444444444444444,
              "#bd3786"
             ],
             [
              0.5555555555555556,
              "#d8576b"
             ],
             [
              0.6666666666666666,
              "#ed7953"
             ],
             [
              0.7777777777777778,
              "#fb9f3a"
             ],
             [
              0.8888888888888888,
              "#fdca26"
             ],
             [
              1,
              "#f0f921"
             ]
            ],
            "type": "heatmap"
           }
          ],
          "heatmapgl": [
           {
            "colorbar": {
             "outlinewidth": 0,
             "ticks": ""
            },
            "colorscale": [
             [
              0,
              "#0d0887"
             ],
             [
              0.1111111111111111,
              "#46039f"
             ],
             [
              0.2222222222222222,
              "#7201a8"
             ],
             [
              0.3333333333333333,
              "#9c179e"
             ],
             [
              0.4444444444444444,
              "#bd3786"
             ],
             [
              0.5555555555555556,
              "#d8576b"
             ],
             [
              0.6666666666666666,
              "#ed7953"
             ],
             [
              0.7777777777777778,
              "#fb9f3a"
             ],
             [
              0.8888888888888888,
              "#fdca26"
             ],
             [
              1,
              "#f0f921"
             ]
            ],
            "type": "heatmapgl"
           }
          ],
          "histogram": [
           {
            "marker": {
             "pattern": {
              "fillmode": "overlay",
              "size": 10,
              "solidity": 0.2
             }
            },
            "type": "histogram"
           }
          ],
          "histogram2d": [
           {
            "colorbar": {
             "outlinewidth": 0,
             "ticks": ""
            },
            "colorscale": [
             [
              0,
              "#0d0887"
             ],
             [
              0.1111111111111111,
              "#46039f"
             ],
             [
              0.2222222222222222,
              "#7201a8"
             ],
             [
              0.3333333333333333,
              "#9c179e"
             ],
             [
              0.4444444444444444,
              "#bd3786"
             ],
             [
              0.5555555555555556,
              "#d8576b"
             ],
             [
              0.6666666666666666,
              "#ed7953"
             ],
             [
              0.7777777777777778,
              "#fb9f3a"
             ],
             [
              0.8888888888888888,
              "#fdca26"
             ],
             [
              1,
              "#f0f921"
             ]
            ],
            "type": "histogram2d"
           }
          ],
          "histogram2dcontour": [
           {
            "colorbar": {
             "outlinewidth": 0,
             "ticks": ""
            },
            "colorscale": [
             [
              0,
              "#0d0887"
             ],
             [
              0.1111111111111111,
              "#46039f"
             ],
             [
              0.2222222222222222,
              "#7201a8"
             ],
             [
              0.3333333333333333,
              "#9c179e"
             ],
             [
              0.4444444444444444,
              "#bd3786"
             ],
             [
              0.5555555555555556,
              "#d8576b"
             ],
             [
              0.6666666666666666,
              "#ed7953"
             ],
             [
              0.7777777777777778,
              "#fb9f3a"
             ],
             [
              0.8888888888888888,
              "#fdca26"
             ],
             [
              1,
              "#f0f921"
             ]
            ],
            "type": "histogram2dcontour"
           }
          ],
          "mesh3d": [
           {
            "colorbar": {
             "outlinewidth": 0,
             "ticks": ""
            },
            "type": "mesh3d"
           }
          ],
          "parcoords": [
           {
            "line": {
             "colorbar": {
              "outlinewidth": 0,
              "ticks": ""
             }
            },
            "type": "parcoords"
           }
          ],
          "pie": [
           {
            "automargin": true,
            "type": "pie"
           }
          ],
          "scatter": [
           {
            "fillpattern": {
             "fillmode": "overlay",
             "size": 10,
             "solidity": 0.2
            },
            "type": "scatter"
           }
          ],
          "scatter3d": [
           {
            "line": {
             "colorbar": {
              "outlinewidth": 0,
              "ticks": ""
             }
            },
            "marker": {
             "colorbar": {
              "outlinewidth": 0,
              "ticks": ""
             }
            },
            "type": "scatter3d"
           }
          ],
          "scattercarpet": [
           {
            "marker": {
             "colorbar": {
              "outlinewidth": 0,
              "ticks": ""
             }
            },
            "type": "scattercarpet"
           }
          ],
          "scattergeo": [
           {
            "marker": {
             "colorbar": {
              "outlinewidth": 0,
              "ticks": ""
             }
            },
            "type": "scattergeo"
           }
          ],
          "scattergl": [
           {
            "marker": {
             "colorbar": {
              "outlinewidth": 0,
              "ticks": ""
             }
            },
            "type": "scattergl"
           }
          ],
          "scattermapbox": [
           {
            "marker": {
             "colorbar": {
              "outlinewidth": 0,
              "ticks": ""
             }
            },
            "type": "scattermapbox"
           }
          ],
          "scatterpolar": [
           {
            "marker": {
             "colorbar": {
              "outlinewidth": 0,
              "ticks": ""
             }
            },
            "type": "scatterpolar"
           }
          ],
          "scatterpolargl": [
           {
            "marker": {
             "colorbar": {
              "outlinewidth": 0,
              "ticks": ""
             }
            },
            "type": "scatterpolargl"
           }
          ],
          "scatterternary": [
           {
            "marker": {
             "colorbar": {
              "outlinewidth": 0,
              "ticks": ""
             }
            },
            "type": "scatterternary"
           }
          ],
          "surface": [
           {
            "colorbar": {
             "outlinewidth": 0,
             "ticks": ""
            },
            "colorscale": [
             [
              0,
              "#0d0887"
             ],
             [
              0.1111111111111111,
              "#46039f"
             ],
             [
              0.2222222222222222,
              "#7201a8"
             ],
             [
              0.3333333333333333,
              "#9c179e"
             ],
             [
              0.4444444444444444,
              "#bd3786"
             ],
             [
              0.5555555555555556,
              "#d8576b"
             ],
             [
              0.6666666666666666,
              "#ed7953"
             ],
             [
              0.7777777777777778,
              "#fb9f3a"
             ],
             [
              0.8888888888888888,
              "#fdca26"
             ],
             [
              1,
              "#f0f921"
             ]
            ],
            "type": "surface"
           }
          ],
          "table": [
           {
            "cells": {
             "fill": {
              "color": "#EBF0F8"
             },
             "line": {
              "color": "white"
             }
            },
            "header": {
             "fill": {
              "color": "#C8D4E3"
             },
             "line": {
              "color": "white"
             }
            },
            "type": "table"
           }
          ]
         },
         "layout": {
          "annotationdefaults": {
           "arrowcolor": "#2a3f5f",
           "arrowhead": 0,
           "arrowwidth": 1
          },
          "autotypenumbers": "strict",
          "coloraxis": {
           "colorbar": {
            "outlinewidth": 0,
            "ticks": ""
           }
          },
          "colorscale": {
           "diverging": [
            [
             0,
             "#8e0152"
            ],
            [
             0.1,
             "#c51b7d"
            ],
            [
             0.2,
             "#de77ae"
            ],
            [
             0.3,
             "#f1b6da"
            ],
            [
             0.4,
             "#fde0ef"
            ],
            [
             0.5,
             "#f7f7f7"
            ],
            [
             0.6,
             "#e6f5d0"
            ],
            [
             0.7,
             "#b8e186"
            ],
            [
             0.8,
             "#7fbc41"
            ],
            [
             0.9,
             "#4d9221"
            ],
            [
             1,
             "#276419"
            ]
           ],
           "sequential": [
            [
             0,
             "#0d0887"
            ],
            [
             0.1111111111111111,
             "#46039f"
            ],
            [
             0.2222222222222222,
             "#7201a8"
            ],
            [
             0.3333333333333333,
             "#9c179e"
            ],
            [
             0.4444444444444444,
             "#bd3786"
            ],
            [
             0.5555555555555556,
             "#d8576b"
            ],
            [
             0.6666666666666666,
             "#ed7953"
            ],
            [
             0.7777777777777778,
             "#fb9f3a"
            ],
            [
             0.8888888888888888,
             "#fdca26"
            ],
            [
             1,
             "#f0f921"
            ]
           ],
           "sequentialminus": [
            [
             0,
             "#0d0887"
            ],
            [
             0.1111111111111111,
             "#46039f"
            ],
            [
             0.2222222222222222,
             "#7201a8"
            ],
            [
             0.3333333333333333,
             "#9c179e"
            ],
            [
             0.4444444444444444,
             "#bd3786"
            ],
            [
             0.5555555555555556,
             "#d8576b"
            ],
            [
             0.6666666666666666,
             "#ed7953"
            ],
            [
             0.7777777777777778,
             "#fb9f3a"
            ],
            [
             0.8888888888888888,
             "#fdca26"
            ],
            [
             1,
             "#f0f921"
            ]
           ]
          },
          "colorway": [
           "#636efa",
           "#EF553B",
           "#00cc96",
           "#ab63fa",
           "#FFA15A",
           "#19d3f3",
           "#FF6692",
           "#B6E880",
           "#FF97FF",
           "#FECB52"
          ],
          "font": {
           "color": "#2a3f5f"
          },
          "geo": {
           "bgcolor": "white",
           "lakecolor": "white",
           "landcolor": "#E5ECF6",
           "showlakes": true,
           "showland": true,
           "subunitcolor": "white"
          },
          "hoverlabel": {
           "align": "left"
          },
          "hovermode": "closest",
          "mapbox": {
           "style": "light"
          },
          "paper_bgcolor": "white",
          "plot_bgcolor": "#E5ECF6",
          "polar": {
           "angularaxis": {
            "gridcolor": "white",
            "linecolor": "white",
            "ticks": ""
           },
           "bgcolor": "#E5ECF6",
           "radialaxis": {
            "gridcolor": "white",
            "linecolor": "white",
            "ticks": ""
           }
          },
          "scene": {
           "xaxis": {
            "backgroundcolor": "#E5ECF6",
            "gridcolor": "white",
            "gridwidth": 2,
            "linecolor": "white",
            "showbackground": true,
            "ticks": "",
            "zerolinecolor": "white"
           },
           "yaxis": {
            "backgroundcolor": "#E5ECF6",
            "gridcolor": "white",
            "gridwidth": 2,
            "linecolor": "white",
            "showbackground": true,
            "ticks": "",
            "zerolinecolor": "white"
           },
           "zaxis": {
            "backgroundcolor": "#E5ECF6",
            "gridcolor": "white",
            "gridwidth": 2,
            "linecolor": "white",
            "showbackground": true,
            "ticks": "",
            "zerolinecolor": "white"
           }
          },
          "shapedefaults": {
           "line": {
            "color": "#2a3f5f"
           }
          },
          "ternary": {
           "aaxis": {
            "gridcolor": "white",
            "linecolor": "white",
            "ticks": ""
           },
           "baxis": {
            "gridcolor": "white",
            "linecolor": "white",
            "ticks": ""
           },
           "bgcolor": "#E5ECF6",
           "caxis": {
            "gridcolor": "white",
            "linecolor": "white",
            "ticks": ""
           }
          },
          "title": {
           "x": 0.05
          },
          "xaxis": {
           "automargin": true,
           "gridcolor": "white",
           "linecolor": "white",
           "ticks": "",
           "title": {
            "standoff": 15
           },
           "zerolinecolor": "white",
           "zerolinewidth": 2
          },
          "yaxis": {
           "automargin": true,
           "gridcolor": "white",
           "linecolor": "white",
           "ticks": "",
           "title": {
            "standoff": 15
           },
           "zerolinecolor": "white",
           "zerolinewidth": 2
          }
         }
        }
       }
      }
     },
     "metadata": {},
     "output_type": "display_data"
    }
   ],
   "source": [
    "fig = px.sunburst(df,path=['day','time','sex'],values='total_bill')\n",
    "fig.show()"
   ]
  },
  {
   "cell_type": "code",
   "execution_count": 38,
   "metadata": {},
   "outputs": [
    {
     "data": {
      "application/vnd.plotly.v1+json": {
       "config": {
        "plotlyServerURL": "https://plot.ly"
       },
       "data": [
        {
         "branchvalues": "total",
         "domain": {
          "x": [
           0,
           1
          ],
          "y": [
           0,
           1
          ]
         },
         "hovertemplate": "labels=%{label}<br>total_bill=%{value}<br>parent=%{parent}<br>id=%{id}<extra></extra>",
         "ids": [
          "Thur/Yes/Lunch/1",
          "Fri/Yes/Lunch/1",
          "Sat/Yes/Lunch/1",
          "Sun/Yes/Lunch/1",
          "Thur/No/Lunch/1",
          "Fri/No/Lunch/1",
          "Sat/No/Lunch/1",
          "Sun/No/Lunch/1",
          "Thur/Yes/Dinner/1",
          "Fri/Yes/Dinner/1",
          "Sat/Yes/Dinner/1",
          "Sun/Yes/Dinner/1",
          "Thur/No/Dinner/1",
          "Fri/No/Dinner/1",
          "Sat/No/Dinner/1",
          "Sun/No/Dinner/1",
          "Thur/Yes/Lunch/2",
          "Fri/Yes/Lunch/2",
          "Sat/Yes/Lunch/2",
          "Sun/Yes/Lunch/2",
          "Thur/No/Lunch/2",
          "Fri/No/Lunch/2",
          "Sat/No/Lunch/2",
          "Sun/No/Lunch/2",
          "Thur/Yes/Dinner/2",
          "Fri/Yes/Dinner/2",
          "Sat/Yes/Dinner/2",
          "Sun/Yes/Dinner/2",
          "Thur/No/Dinner/2",
          "Fri/No/Dinner/2",
          "Sat/No/Dinner/2",
          "Sun/No/Dinner/2",
          "Thur/Yes/Lunch/3",
          "Fri/Yes/Lunch/3",
          "Sat/Yes/Lunch/3",
          "Sun/Yes/Lunch/3",
          "Thur/No/Lunch/3",
          "Fri/No/Lunch/3",
          "Sat/No/Lunch/3",
          "Sun/No/Lunch/3",
          "Thur/Yes/Dinner/3",
          "Fri/Yes/Dinner/3",
          "Sat/Yes/Dinner/3",
          "Sun/Yes/Dinner/3",
          "Thur/No/Dinner/3",
          "Fri/No/Dinner/3",
          "Sat/No/Dinner/3",
          "Sun/No/Dinner/3",
          "Thur/Yes/Lunch/4",
          "Fri/Yes/Lunch/4",
          "Sat/Yes/Lunch/4",
          "Sun/Yes/Lunch/4",
          "Thur/No/Lunch/4",
          "Fri/No/Lunch/4",
          "Sat/No/Lunch/4",
          "Sun/No/Lunch/4",
          "Thur/Yes/Dinner/4",
          "Fri/Yes/Dinner/4",
          "Sat/Yes/Dinner/4",
          "Sun/Yes/Dinner/4",
          "Thur/No/Dinner/4",
          "Fri/No/Dinner/4",
          "Sat/No/Dinner/4",
          "Sun/No/Dinner/4",
          "Thur/Yes/Lunch/5",
          "Fri/Yes/Lunch/5",
          "Sat/Yes/Lunch/5",
          "Sun/Yes/Lunch/5",
          "Thur/No/Lunch/5",
          "Fri/No/Lunch/5",
          "Sat/No/Lunch/5",
          "Sun/No/Lunch/5",
          "Thur/Yes/Dinner/5",
          "Fri/Yes/Dinner/5",
          "Sat/Yes/Dinner/5",
          "Sun/Yes/Dinner/5",
          "Thur/No/Dinner/5",
          "Fri/No/Dinner/5",
          "Sat/No/Dinner/5",
          "Sun/No/Dinner/5",
          "Thur/Yes/Lunch/6",
          "Fri/Yes/Lunch/6",
          "Sat/Yes/Lunch/6",
          "Sun/Yes/Lunch/6",
          "Thur/No/Lunch/6",
          "Fri/No/Lunch/6",
          "Sat/No/Lunch/6",
          "Sun/No/Lunch/6",
          "Thur/Yes/Dinner/6",
          "Fri/Yes/Dinner/6",
          "Sat/Yes/Dinner/6",
          "Sun/Yes/Dinner/6",
          "Thur/No/Dinner/6",
          "Fri/No/Dinner/6",
          "Sat/No/Dinner/6",
          "Sun/No/Dinner/6",
          "Thur/Yes/Lunch",
          "Fri/Yes/Lunch",
          "Sat/Yes/Lunch",
          "Sun/Yes/Lunch",
          "Thur/No/Lunch",
          "Fri/No/Lunch",
          "Sat/No/Lunch",
          "Sun/No/Lunch",
          "Thur/Yes/Dinner",
          "Fri/Yes/Dinner",
          "Sat/Yes/Dinner",
          "Sun/Yes/Dinner",
          "Thur/No/Dinner",
          "Fri/No/Dinner",
          "Sat/No/Dinner",
          "Sun/No/Dinner",
          "Thur/Yes",
          "Fri/Yes",
          "Sat/Yes",
          "Sun/Yes",
          "Thur/No",
          "Fri/No",
          "Sat/No",
          "Sun/No",
          "Thur",
          "Fri",
          "Sat",
          "Sun"
         ],
         "labels": [
          "1",
          "1",
          "1",
          "1",
          "1",
          "1",
          "1",
          "1",
          "1",
          "1",
          "1",
          "1",
          "1",
          "1",
          "1",
          "1",
          "2",
          "2",
          "2",
          "2",
          "2",
          "2",
          "2",
          "2",
          "2",
          "2",
          "2",
          "2",
          "2",
          "2",
          "2",
          "2",
          "3",
          "3",
          "3",
          "3",
          "3",
          "3",
          "3",
          "3",
          "3",
          "3",
          "3",
          "3",
          "3",
          "3",
          "3",
          "3",
          "4",
          "4",
          "4",
          "4",
          "4",
          "4",
          "4",
          "4",
          "4",
          "4",
          "4",
          "4",
          "4",
          "4",
          "4",
          "4",
          "5",
          "5",
          "5",
          "5",
          "5",
          "5",
          "5",
          "5",
          "5",
          "5",
          "5",
          "5",
          "5",
          "5",
          "5",
          "5",
          "6",
          "6",
          "6",
          "6",
          "6",
          "6",
          "6",
          "6",
          "6",
          "6",
          "6",
          "6",
          "6",
          "6",
          "6",
          "6",
          "Lunch",
          "Lunch",
          "Lunch",
          "Lunch",
          "Lunch",
          "Lunch",
          "Lunch",
          "Lunch",
          "Dinner",
          "Dinner",
          "Dinner",
          "Dinner",
          "Dinner",
          "Dinner",
          "Dinner",
          "Dinner",
          "Yes",
          "Yes",
          "Yes",
          "Yes",
          "No",
          "No",
          "No",
          "No",
          "Thur",
          "Fri",
          "Sat",
          "Sun"
         ],
         "name": "",
         "parents": [
          "Thur/Yes/Lunch",
          "Fri/Yes/Lunch",
          "Sat/Yes/Lunch",
          "Sun/Yes/Lunch",
          "Thur/No/Lunch",
          "Fri/No/Lunch",
          "Sat/No/Lunch",
          "Sun/No/Lunch",
          "Thur/Yes/Dinner",
          "Fri/Yes/Dinner",
          "Sat/Yes/Dinner",
          "Sun/Yes/Dinner",
          "Thur/No/Dinner",
          "Fri/No/Dinner",
          "Sat/No/Dinner",
          "Sun/No/Dinner",
          "Thur/Yes/Lunch",
          "Fri/Yes/Lunch",
          "Sat/Yes/Lunch",
          "Sun/Yes/Lunch",
          "Thur/No/Lunch",
          "Fri/No/Lunch",
          "Sat/No/Lunch",
          "Sun/No/Lunch",
          "Thur/Yes/Dinner",
          "Fri/Yes/Dinner",
          "Sat/Yes/Dinner",
          "Sun/Yes/Dinner",
          "Thur/No/Dinner",
          "Fri/No/Dinner",
          "Sat/No/Dinner",
          "Sun/No/Dinner",
          "Thur/Yes/Lunch",
          "Fri/Yes/Lunch",
          "Sat/Yes/Lunch",
          "Sun/Yes/Lunch",
          "Thur/No/Lunch",
          "Fri/No/Lunch",
          "Sat/No/Lunch",
          "Sun/No/Lunch",
          "Thur/Yes/Dinner",
          "Fri/Yes/Dinner",
          "Sat/Yes/Dinner",
          "Sun/Yes/Dinner",
          "Thur/No/Dinner",
          "Fri/No/Dinner",
          "Sat/No/Dinner",
          "Sun/No/Dinner",
          "Thur/Yes/Lunch",
          "Fri/Yes/Lunch",
          "Sat/Yes/Lunch",
          "Sun/Yes/Lunch",
          "Thur/No/Lunch",
          "Fri/No/Lunch",
          "Sat/No/Lunch",
          "Sun/No/Lunch",
          "Thur/Yes/Dinner",
          "Fri/Yes/Dinner",
          "Sat/Yes/Dinner",
          "Sun/Yes/Dinner",
          "Thur/No/Dinner",
          "Fri/No/Dinner",
          "Sat/No/Dinner",
          "Sun/No/Dinner",
          "Thur/Yes/Lunch",
          "Fri/Yes/Lunch",
          "Sat/Yes/Lunch",
          "Sun/Yes/Lunch",
          "Thur/No/Lunch",
          "Fri/No/Lunch",
          "Sat/No/Lunch",
          "Sun/No/Lunch",
          "Thur/Yes/Dinner",
          "Fri/Yes/Dinner",
          "Sat/Yes/Dinner",
          "Sun/Yes/Dinner",
          "Thur/No/Dinner",
          "Fri/No/Dinner",
          "Sat/No/Dinner",
          "Sun/No/Dinner",
          "Thur/Yes/Lunch",
          "Fri/Yes/Lunch",
          "Sat/Yes/Lunch",
          "Sun/Yes/Lunch",
          "Thur/No/Lunch",
          "Fri/No/Lunch",
          "Sat/No/Lunch",
          "Sun/No/Lunch",
          "Thur/Yes/Dinner",
          "Fri/Yes/Dinner",
          "Sat/Yes/Dinner",
          "Sun/Yes/Dinner",
          "Thur/No/Dinner",
          "Fri/No/Dinner",
          "Sat/No/Dinner",
          "Sun/No/Dinner",
          "Thur/Yes",
          "Fri/Yes",
          "Sat/Yes",
          "Sun/Yes",
          "Thur/No",
          "Fri/No",
          "Sat/No",
          "Sun/No",
          "Thur/Yes",
          "Fri/Yes",
          "Sat/Yes",
          "Sun/Yes",
          "Thur/No",
          "Fri/No",
          "Sat/No",
          "Sun/No",
          "Thur",
          "Fri",
          "Sat",
          "Sun",
          "Thur",
          "Fri",
          "Sat",
          "Sun",
          "",
          "",
          "",
          ""
         ],
         "type": "sunburst",
         "values": [
          0,
          8.58,
          0,
          0,
          10.07,
          0,
          0,
          0,
          0,
          0,
          3.07,
          0,
          0,
          0,
          7.25,
          0,
          227.42,
          65.36,
          0,
          0,
          481.33,
          0,
          0,
          0,
          0,
          138.09,
          491.71,
          262.5,
          18.78,
          57.7,
          400.66,
          422.34,
          35.18,
          0,
          0,
          0,
          41.46,
          15.98,
          0,
          0,
          0,
          0,
          195.62,
          107.5,
          0,
          0,
          263.55,
          225.26,
          63.64,
          0,
          0,
          0,
          86.11,
          0,
          0,
          0,
          0,
          40.17,
          175.07,
          57.82,
          0,
          0,
          213.32,
          422.57,
          0,
          0,
          0,
          0,
          41.19,
          0,
          0,
          0,
          0,
          0,
          28.15,
          30.46,
          0,
          0,
          0,
          50.540000000000006,
          0,
          0,
          0,
          0,
          91.14999999999999,
          0,
          0,
          0,
          0,
          0,
          0,
          0,
          0,
          0,
          0,
          48.17,
          326.24,
          73.94,
          0,
          0,
          751.31,
          15.98,
          0,
          0,
          0,
          178.26,
          893.62,
          458.28,
          18.78,
          57.7,
          884.78,
          1168.8799999999999,
          326.24,
          252.2,
          893.62,
          458.28,
          770.09,
          73.68,
          884.78,
          1168.8799999999999,
          1096.33,
          325.88,
          1778.4,
          1627.16
         ]
        }
       ],
       "layout": {
        "legend": {
         "tracegroupgap": 0
        },
        "margin": {
         "t": 60
        },
        "template": {
         "data": {
          "bar": [
           {
            "error_x": {
             "color": "#2a3f5f"
            },
            "error_y": {
             "color": "#2a3f5f"
            },
            "marker": {
             "line": {
              "color": "#E5ECF6",
              "width": 0.5
             },
             "pattern": {
              "fillmode": "overlay",
              "size": 10,
              "solidity": 0.2
             }
            },
            "type": "bar"
           }
          ],
          "barpolar": [
           {
            "marker": {
             "line": {
              "color": "#E5ECF6",
              "width": 0.5
             },
             "pattern": {
              "fillmode": "overlay",
              "size": 10,
              "solidity": 0.2
             }
            },
            "type": "barpolar"
           }
          ],
          "carpet": [
           {
            "aaxis": {
             "endlinecolor": "#2a3f5f",
             "gridcolor": "white",
             "linecolor": "white",
             "minorgridcolor": "white",
             "startlinecolor": "#2a3f5f"
            },
            "baxis": {
             "endlinecolor": "#2a3f5f",
             "gridcolor": "white",
             "linecolor": "white",
             "minorgridcolor": "white",
             "startlinecolor": "#2a3f5f"
            },
            "type": "carpet"
           }
          ],
          "choropleth": [
           {
            "colorbar": {
             "outlinewidth": 0,
             "ticks": ""
            },
            "type": "choropleth"
           }
          ],
          "contour": [
           {
            "colorbar": {
             "outlinewidth": 0,
             "ticks": ""
            },
            "colorscale": [
             [
              0,
              "#0d0887"
             ],
             [
              0.1111111111111111,
              "#46039f"
             ],
             [
              0.2222222222222222,
              "#7201a8"
             ],
             [
              0.3333333333333333,
              "#9c179e"
             ],
             [
              0.4444444444444444,
              "#bd3786"
             ],
             [
              0.5555555555555556,
              "#d8576b"
             ],
             [
              0.6666666666666666,
              "#ed7953"
             ],
             [
              0.7777777777777778,
              "#fb9f3a"
             ],
             [
              0.8888888888888888,
              "#fdca26"
             ],
             [
              1,
              "#f0f921"
             ]
            ],
            "type": "contour"
           }
          ],
          "contourcarpet": [
           {
            "colorbar": {
             "outlinewidth": 0,
             "ticks": ""
            },
            "type": "contourcarpet"
           }
          ],
          "heatmap": [
           {
            "colorbar": {
             "outlinewidth": 0,
             "ticks": ""
            },
            "colorscale": [
             [
              0,
              "#0d0887"
             ],
             [
              0.1111111111111111,
              "#46039f"
             ],
             [
              0.2222222222222222,
              "#7201a8"
             ],
             [
              0.3333333333333333,
              "#9c179e"
             ],
             [
              0.4444444444444444,
              "#bd3786"
             ],
             [
              0.5555555555555556,
              "#d8576b"
             ],
             [
              0.6666666666666666,
              "#ed7953"
             ],
             [
              0.7777777777777778,
              "#fb9f3a"
             ],
             [
              0.8888888888888888,
              "#fdca26"
             ],
             [
              1,
              "#f0f921"
             ]
            ],
            "type": "heatmap"
           }
          ],
          "heatmapgl": [
           {
            "colorbar": {
             "outlinewidth": 0,
             "ticks": ""
            },
            "colorscale": [
             [
              0,
              "#0d0887"
             ],
             [
              0.1111111111111111,
              "#46039f"
             ],
             [
              0.2222222222222222,
              "#7201a8"
             ],
             [
              0.3333333333333333,
              "#9c179e"
             ],
             [
              0.4444444444444444,
              "#bd3786"
             ],
             [
              0.5555555555555556,
              "#d8576b"
             ],
             [
              0.6666666666666666,
              "#ed7953"
             ],
             [
              0.7777777777777778,
              "#fb9f3a"
             ],
             [
              0.8888888888888888,
              "#fdca26"
             ],
             [
              1,
              "#f0f921"
             ]
            ],
            "type": "heatmapgl"
           }
          ],
          "histogram": [
           {
            "marker": {
             "pattern": {
              "fillmode": "overlay",
              "size": 10,
              "solidity": 0.2
             }
            },
            "type": "histogram"
           }
          ],
          "histogram2d": [
           {
            "colorbar": {
             "outlinewidth": 0,
             "ticks": ""
            },
            "colorscale": [
             [
              0,
              "#0d0887"
             ],
             [
              0.1111111111111111,
              "#46039f"
             ],
             [
              0.2222222222222222,
              "#7201a8"
             ],
             [
              0.3333333333333333,
              "#9c179e"
             ],
             [
              0.4444444444444444,
              "#bd3786"
             ],
             [
              0.5555555555555556,
              "#d8576b"
             ],
             [
              0.6666666666666666,
              "#ed7953"
             ],
             [
              0.7777777777777778,
              "#fb9f3a"
             ],
             [
              0.8888888888888888,
              "#fdca26"
             ],
             [
              1,
              "#f0f921"
             ]
            ],
            "type": "histogram2d"
           }
          ],
          "histogram2dcontour": [
           {
            "colorbar": {
             "outlinewidth": 0,
             "ticks": ""
            },
            "colorscale": [
             [
              0,
              "#0d0887"
             ],
             [
              0.1111111111111111,
              "#46039f"
             ],
             [
              0.2222222222222222,
              "#7201a8"
             ],
             [
              0.3333333333333333,
              "#9c179e"
             ],
             [
              0.4444444444444444,
              "#bd3786"
             ],
             [
              0.5555555555555556,
              "#d8576b"
             ],
             [
              0.6666666666666666,
              "#ed7953"
             ],
             [
              0.7777777777777778,
              "#fb9f3a"
             ],
             [
              0.8888888888888888,
              "#fdca26"
             ],
             [
              1,
              "#f0f921"
             ]
            ],
            "type": "histogram2dcontour"
           }
          ],
          "mesh3d": [
           {
            "colorbar": {
             "outlinewidth": 0,
             "ticks": ""
            },
            "type": "mesh3d"
           }
          ],
          "parcoords": [
           {
            "line": {
             "colorbar": {
              "outlinewidth": 0,
              "ticks": ""
             }
            },
            "type": "parcoords"
           }
          ],
          "pie": [
           {
            "automargin": true,
            "type": "pie"
           }
          ],
          "scatter": [
           {
            "fillpattern": {
             "fillmode": "overlay",
             "size": 10,
             "solidity": 0.2
            },
            "type": "scatter"
           }
          ],
          "scatter3d": [
           {
            "line": {
             "colorbar": {
              "outlinewidth": 0,
              "ticks": ""
             }
            },
            "marker": {
             "colorbar": {
              "outlinewidth": 0,
              "ticks": ""
             }
            },
            "type": "scatter3d"
           }
          ],
          "scattercarpet": [
           {
            "marker": {
             "colorbar": {
              "outlinewidth": 0,
              "ticks": ""
             }
            },
            "type": "scattercarpet"
           }
          ],
          "scattergeo": [
           {
            "marker": {
             "colorbar": {
              "outlinewidth": 0,
              "ticks": ""
             }
            },
            "type": "scattergeo"
           }
          ],
          "scattergl": [
           {
            "marker": {
             "colorbar": {
              "outlinewidth": 0,
              "ticks": ""
             }
            },
            "type": "scattergl"
           }
          ],
          "scattermapbox": [
           {
            "marker": {
             "colorbar": {
              "outlinewidth": 0,
              "ticks": ""
             }
            },
            "type": "scattermapbox"
           }
          ],
          "scatterpolar": [
           {
            "marker": {
             "colorbar": {
              "outlinewidth": 0,
              "ticks": ""
             }
            },
            "type": "scatterpolar"
           }
          ],
          "scatterpolargl": [
           {
            "marker": {
             "colorbar": {
              "outlinewidth": 0,
              "ticks": ""
             }
            },
            "type": "scatterpolargl"
           }
          ],
          "scatterternary": [
           {
            "marker": {
             "colorbar": {
              "outlinewidth": 0,
              "ticks": ""
             }
            },
            "type": "scatterternary"
           }
          ],
          "surface": [
           {
            "colorbar": {
             "outlinewidth": 0,
             "ticks": ""
            },
            "colorscale": [
             [
              0,
              "#0d0887"
             ],
             [
              0.1111111111111111,
              "#46039f"
             ],
             [
              0.2222222222222222,
              "#7201a8"
             ],
             [
              0.3333333333333333,
              "#9c179e"
             ],
             [
              0.4444444444444444,
              "#bd3786"
             ],
             [
              0.5555555555555556,
              "#d8576b"
             ],
             [
              0.6666666666666666,
              "#ed7953"
             ],
             [
              0.7777777777777778,
              "#fb9f3a"
             ],
             [
              0.8888888888888888,
              "#fdca26"
             ],
             [
              1,
              "#f0f921"
             ]
            ],
            "type": "surface"
           }
          ],
          "table": [
           {
            "cells": {
             "fill": {
              "color": "#EBF0F8"
             },
             "line": {
              "color": "white"
             }
            },
            "header": {
             "fill": {
              "color": "#C8D4E3"
             },
             "line": {
              "color": "white"
             }
            },
            "type": "table"
           }
          ]
         },
         "layout": {
          "annotationdefaults": {
           "arrowcolor": "#2a3f5f",
           "arrowhead": 0,
           "arrowwidth": 1
          },
          "autotypenumbers": "strict",
          "coloraxis": {
           "colorbar": {
            "outlinewidth": 0,
            "ticks": ""
           }
          },
          "colorscale": {
           "diverging": [
            [
             0,
             "#8e0152"
            ],
            [
             0.1,
             "#c51b7d"
            ],
            [
             0.2,
             "#de77ae"
            ],
            [
             0.3,
             "#f1b6da"
            ],
            [
             0.4,
             "#fde0ef"
            ],
            [
             0.5,
             "#f7f7f7"
            ],
            [
             0.6,
             "#e6f5d0"
            ],
            [
             0.7,
             "#b8e186"
            ],
            [
             0.8,
             "#7fbc41"
            ],
            [
             0.9,
             "#4d9221"
            ],
            [
             1,
             "#276419"
            ]
           ],
           "sequential": [
            [
             0,
             "#0d0887"
            ],
            [
             0.1111111111111111,
             "#46039f"
            ],
            [
             0.2222222222222222,
             "#7201a8"
            ],
            [
             0.3333333333333333,
             "#9c179e"
            ],
            [
             0.4444444444444444,
             "#bd3786"
            ],
            [
             0.5555555555555556,
             "#d8576b"
            ],
            [
             0.6666666666666666,
             "#ed7953"
            ],
            [
             0.7777777777777778,
             "#fb9f3a"
            ],
            [
             0.8888888888888888,
             "#fdca26"
            ],
            [
             1,
             "#f0f921"
            ]
           ],
           "sequentialminus": [
            [
             0,
             "#0d0887"
            ],
            [
             0.1111111111111111,
             "#46039f"
            ],
            [
             0.2222222222222222,
             "#7201a8"
            ],
            [
             0.3333333333333333,
             "#9c179e"
            ],
            [
             0.4444444444444444,
             "#bd3786"
            ],
            [
             0.5555555555555556,
             "#d8576b"
            ],
            [
             0.6666666666666666,
             "#ed7953"
            ],
            [
             0.7777777777777778,
             "#fb9f3a"
            ],
            [
             0.8888888888888888,
             "#fdca26"
            ],
            [
             1,
             "#f0f921"
            ]
           ]
          },
          "colorway": [
           "#636efa",
           "#EF553B",
           "#00cc96",
           "#ab63fa",
           "#FFA15A",
           "#19d3f3",
           "#FF6692",
           "#B6E880",
           "#FF97FF",
           "#FECB52"
          ],
          "font": {
           "color": "#2a3f5f"
          },
          "geo": {
           "bgcolor": "white",
           "lakecolor": "white",
           "landcolor": "#E5ECF6",
           "showlakes": true,
           "showland": true,
           "subunitcolor": "white"
          },
          "hoverlabel": {
           "align": "left"
          },
          "hovermode": "closest",
          "mapbox": {
           "style": "light"
          },
          "paper_bgcolor": "white",
          "plot_bgcolor": "#E5ECF6",
          "polar": {
           "angularaxis": {
            "gridcolor": "white",
            "linecolor": "white",
            "ticks": ""
           },
           "bgcolor": "#E5ECF6",
           "radialaxis": {
            "gridcolor": "white",
            "linecolor": "white",
            "ticks": ""
           }
          },
          "scene": {
           "xaxis": {
            "backgroundcolor": "#E5ECF6",
            "gridcolor": "white",
            "gridwidth": 2,
            "linecolor": "white",
            "showbackground": true,
            "ticks": "",
            "zerolinecolor": "white"
           },
           "yaxis": {
            "backgroundcolor": "#E5ECF6",
            "gridcolor": "white",
            "gridwidth": 2,
            "linecolor": "white",
            "showbackground": true,
            "ticks": "",
            "zerolinecolor": "white"
           },
           "zaxis": {
            "backgroundcolor": "#E5ECF6",
            "gridcolor": "white",
            "gridwidth": 2,
            "linecolor": "white",
            "showbackground": true,
            "ticks": "",
            "zerolinecolor": "white"
           }
          },
          "shapedefaults": {
           "line": {
            "color": "#2a3f5f"
           }
          },
          "ternary": {
           "aaxis": {
            "gridcolor": "white",
            "linecolor": "white",
            "ticks": ""
           },
           "baxis": {
            "gridcolor": "white",
            "linecolor": "white",
            "ticks": ""
           },
           "bgcolor": "#E5ECF6",
           "caxis": {
            "gridcolor": "white",
            "linecolor": "white",
            "ticks": ""
           }
          },
          "title": {
           "x": 0.05
          },
          "xaxis": {
           "automargin": true,
           "gridcolor": "white",
           "linecolor": "white",
           "ticks": "",
           "title": {
            "standoff": 15
           },
           "zerolinecolor": "white",
           "zerolinewidth": 2
          },
          "yaxis": {
           "automargin": true,
           "gridcolor": "white",
           "linecolor": "white",
           "ticks": "",
           "title": {
            "standoff": 15
           },
           "zerolinecolor": "white",
           "zerolinewidth": 2
          }
         }
        }
       }
      }
     },
     "metadata": {},
     "output_type": "display_data"
    }
   ],
   "source": [
    "fig = px.sunburst(df,path=['day','smoker','time','size'],values='total_bill')\n",
    "fig.show()"
   ]
  },
  {
   "cell_type": "code",
   "execution_count": 39,
   "metadata": {},
   "outputs": [
    {
     "data": {
      "application/vnd.plotly.v1+json": {
       "config": {
        "plotlyServerURL": "https://plot.ly"
       },
       "data": [
        {
         "branchvalues": "total",
         "domain": {
          "x": [
           0,
           1
          ],
          "y": [
           0,
           1
          ]
         },
         "hovertemplate": "labels=%{label}<br>tip=%{value}<br>parent=%{parent}<br>id=%{id}<extra></extra>",
         "ids": [
          "Thur/Lunch/Male",
          "Fri/Lunch/Male",
          "Sat/Lunch/Male",
          "Sun/Lunch/Male",
          "Thur/Dinner/Male",
          "Fri/Dinner/Male",
          "Sat/Dinner/Male",
          "Sun/Dinner/Male",
          "Thur/Lunch/Female",
          "Fri/Lunch/Female",
          "Sat/Lunch/Female",
          "Sun/Lunch/Female",
          "Thur/Dinner/Female",
          "Fri/Dinner/Female",
          "Sat/Dinner/Female",
          "Sun/Dinner/Female",
          "Thur/Lunch",
          "Fri/Lunch",
          "Sat/Lunch",
          "Sun/Lunch",
          "Thur/Dinner",
          "Fri/Dinner",
          "Sat/Dinner",
          "Sun/Dinner",
          "Thur",
          "Fri",
          "Sat",
          "Sun"
         ],
         "labels": [
          "Male",
          "Male",
          "Male",
          "Male",
          "Male",
          "Male",
          "Male",
          "Male",
          "Female",
          "Female",
          "Female",
          "Female",
          "Female",
          "Female",
          "Female",
          "Female",
          "Lunch",
          "Lunch",
          "Lunch",
          "Lunch",
          "Dinner",
          "Dinner",
          "Dinner",
          "Dinner",
          "Thur",
          "Fri",
          "Sat",
          "Sun"
         ],
         "name": "",
         "parents": [
          "Thur/Lunch",
          "Fri/Lunch",
          "Sat/Lunch",
          "Sun/Lunch",
          "Thur/Dinner",
          "Fri/Dinner",
          "Sat/Dinner",
          "Sun/Dinner",
          "Thur/Lunch",
          "Fri/Lunch",
          "Sat/Lunch",
          "Sun/Lunch",
          "Thur/Dinner",
          "Fri/Dinner",
          "Sat/Dinner",
          "Sun/Dinner",
          "Thur",
          "Fri",
          "Sat",
          "Sun",
          "Thur",
          "Fri",
          "Sat",
          "Sun",
          "",
          "",
          "",
          ""
         ],
         "type": "sunburst",
         "values": [
          89.41,
          5.7,
          0,
          0,
          0,
          21.23,
          181.95,
          186.78,
          79.42,
          10.98,
          0,
          0,
          3,
          14.05,
          78.45,
          60.61,
          168.82999999999998,
          16.68,
          0,
          0,
          3,
          35.28,
          260.4,
          247.39,
          171.82999999999998,
          51.96,
          260.4,
          247.39
         ]
        }
       ],
       "layout": {
        "legend": {
         "tracegroupgap": 0
        },
        "margin": {
         "t": 60
        },
        "template": {
         "data": {
          "bar": [
           {
            "error_x": {
             "color": "#2a3f5f"
            },
            "error_y": {
             "color": "#2a3f5f"
            },
            "marker": {
             "line": {
              "color": "#E5ECF6",
              "width": 0.5
             },
             "pattern": {
              "fillmode": "overlay",
              "size": 10,
              "solidity": 0.2
             }
            },
            "type": "bar"
           }
          ],
          "barpolar": [
           {
            "marker": {
             "line": {
              "color": "#E5ECF6",
              "width": 0.5
             },
             "pattern": {
              "fillmode": "overlay",
              "size": 10,
              "solidity": 0.2
             }
            },
            "type": "barpolar"
           }
          ],
          "carpet": [
           {
            "aaxis": {
             "endlinecolor": "#2a3f5f",
             "gridcolor": "white",
             "linecolor": "white",
             "minorgridcolor": "white",
             "startlinecolor": "#2a3f5f"
            },
            "baxis": {
             "endlinecolor": "#2a3f5f",
             "gridcolor": "white",
             "linecolor": "white",
             "minorgridcolor": "white",
             "startlinecolor": "#2a3f5f"
            },
            "type": "carpet"
           }
          ],
          "choropleth": [
           {
            "colorbar": {
             "outlinewidth": 0,
             "ticks": ""
            },
            "type": "choropleth"
           }
          ],
          "contour": [
           {
            "colorbar": {
             "outlinewidth": 0,
             "ticks": ""
            },
            "colorscale": [
             [
              0,
              "#0d0887"
             ],
             [
              0.1111111111111111,
              "#46039f"
             ],
             [
              0.2222222222222222,
              "#7201a8"
             ],
             [
              0.3333333333333333,
              "#9c179e"
             ],
             [
              0.4444444444444444,
              "#bd3786"
             ],
             [
              0.5555555555555556,
              "#d8576b"
             ],
             [
              0.6666666666666666,
              "#ed7953"
             ],
             [
              0.7777777777777778,
              "#fb9f3a"
             ],
             [
              0.8888888888888888,
              "#fdca26"
             ],
             [
              1,
              "#f0f921"
             ]
            ],
            "type": "contour"
           }
          ],
          "contourcarpet": [
           {
            "colorbar": {
             "outlinewidth": 0,
             "ticks": ""
            },
            "type": "contourcarpet"
           }
          ],
          "heatmap": [
           {
            "colorbar": {
             "outlinewidth": 0,
             "ticks": ""
            },
            "colorscale": [
             [
              0,
              "#0d0887"
             ],
             [
              0.1111111111111111,
              "#46039f"
             ],
             [
              0.2222222222222222,
              "#7201a8"
             ],
             [
              0.3333333333333333,
              "#9c179e"
             ],
             [
              0.4444444444444444,
              "#bd3786"
             ],
             [
              0.5555555555555556,
              "#d8576b"
             ],
             [
              0.6666666666666666,
              "#ed7953"
             ],
             [
              0.7777777777777778,
              "#fb9f3a"
             ],
             [
              0.8888888888888888,
              "#fdca26"
             ],
             [
              1,
              "#f0f921"
             ]
            ],
            "type": "heatmap"
           }
          ],
          "heatmapgl": [
           {
            "colorbar": {
             "outlinewidth": 0,
             "ticks": ""
            },
            "colorscale": [
             [
              0,
              "#0d0887"
             ],
             [
              0.1111111111111111,
              "#46039f"
             ],
             [
              0.2222222222222222,
              "#7201a8"
             ],
             [
              0.3333333333333333,
              "#9c179e"
             ],
             [
              0.4444444444444444,
              "#bd3786"
             ],
             [
              0.5555555555555556,
              "#d8576b"
             ],
             [
              0.6666666666666666,
              "#ed7953"
             ],
             [
              0.7777777777777778,
              "#fb9f3a"
             ],
             [
              0.8888888888888888,
              "#fdca26"
             ],
             [
              1,
              "#f0f921"
             ]
            ],
            "type": "heatmapgl"
           }
          ],
          "histogram": [
           {
            "marker": {
             "pattern": {
              "fillmode": "overlay",
              "size": 10,
              "solidity": 0.2
             }
            },
            "type": "histogram"
           }
          ],
          "histogram2d": [
           {
            "colorbar": {
             "outlinewidth": 0,
             "ticks": ""
            },
            "colorscale": [
             [
              0,
              "#0d0887"
             ],
             [
              0.1111111111111111,
              "#46039f"
             ],
             [
              0.2222222222222222,
              "#7201a8"
             ],
             [
              0.3333333333333333,
              "#9c179e"
             ],
             [
              0.4444444444444444,
              "#bd3786"
             ],
             [
              0.5555555555555556,
              "#d8576b"
             ],
             [
              0.6666666666666666,
              "#ed7953"
             ],
             [
              0.7777777777777778,
              "#fb9f3a"
             ],
             [
              0.8888888888888888,
              "#fdca26"
             ],
             [
              1,
              "#f0f921"
             ]
            ],
            "type": "histogram2d"
           }
          ],
          "histogram2dcontour": [
           {
            "colorbar": {
             "outlinewidth": 0,
             "ticks": ""
            },
            "colorscale": [
             [
              0,
              "#0d0887"
             ],
             [
              0.1111111111111111,
              "#46039f"
             ],
             [
              0.2222222222222222,
              "#7201a8"
             ],
             [
              0.3333333333333333,
              "#9c179e"
             ],
             [
              0.4444444444444444,
              "#bd3786"
             ],
             [
              0.5555555555555556,
              "#d8576b"
             ],
             [
              0.6666666666666666,
              "#ed7953"
             ],
             [
              0.7777777777777778,
              "#fb9f3a"
             ],
             [
              0.8888888888888888,
              "#fdca26"
             ],
             [
              1,
              "#f0f921"
             ]
            ],
            "type": "histogram2dcontour"
           }
          ],
          "mesh3d": [
           {
            "colorbar": {
             "outlinewidth": 0,
             "ticks": ""
            },
            "type": "mesh3d"
           }
          ],
          "parcoords": [
           {
            "line": {
             "colorbar": {
              "outlinewidth": 0,
              "ticks": ""
             }
            },
            "type": "parcoords"
           }
          ],
          "pie": [
           {
            "automargin": true,
            "type": "pie"
           }
          ],
          "scatter": [
           {
            "fillpattern": {
             "fillmode": "overlay",
             "size": 10,
             "solidity": 0.2
            },
            "type": "scatter"
           }
          ],
          "scatter3d": [
           {
            "line": {
             "colorbar": {
              "outlinewidth": 0,
              "ticks": ""
             }
            },
            "marker": {
             "colorbar": {
              "outlinewidth": 0,
              "ticks": ""
             }
            },
            "type": "scatter3d"
           }
          ],
          "scattercarpet": [
           {
            "marker": {
             "colorbar": {
              "outlinewidth": 0,
              "ticks": ""
             }
            },
            "type": "scattercarpet"
           }
          ],
          "scattergeo": [
           {
            "marker": {
             "colorbar": {
              "outlinewidth": 0,
              "ticks": ""
             }
            },
            "type": "scattergeo"
           }
          ],
          "scattergl": [
           {
            "marker": {
             "colorbar": {
              "outlinewidth": 0,
              "ticks": ""
             }
            },
            "type": "scattergl"
           }
          ],
          "scattermapbox": [
           {
            "marker": {
             "colorbar": {
              "outlinewidth": 0,
              "ticks": ""
             }
            },
            "type": "scattermapbox"
           }
          ],
          "scatterpolar": [
           {
            "marker": {
             "colorbar": {
              "outlinewidth": 0,
              "ticks": ""
             }
            },
            "type": "scatterpolar"
           }
          ],
          "scatterpolargl": [
           {
            "marker": {
             "colorbar": {
              "outlinewidth": 0,
              "ticks": ""
             }
            },
            "type": "scatterpolargl"
           }
          ],
          "scatterternary": [
           {
            "marker": {
             "colorbar": {
              "outlinewidth": 0,
              "ticks": ""
             }
            },
            "type": "scatterternary"
           }
          ],
          "surface": [
           {
            "colorbar": {
             "outlinewidth": 0,
             "ticks": ""
            },
            "colorscale": [
             [
              0,
              "#0d0887"
             ],
             [
              0.1111111111111111,
              "#46039f"
             ],
             [
              0.2222222222222222,
              "#7201a8"
             ],
             [
              0.3333333333333333,
              "#9c179e"
             ],
             [
              0.4444444444444444,
              "#bd3786"
             ],
             [
              0.5555555555555556,
              "#d8576b"
             ],
             [
              0.6666666666666666,
              "#ed7953"
             ],
             [
              0.7777777777777778,
              "#fb9f3a"
             ],
             [
              0.8888888888888888,
              "#fdca26"
             ],
             [
              1,
              "#f0f921"
             ]
            ],
            "type": "surface"
           }
          ],
          "table": [
           {
            "cells": {
             "fill": {
              "color": "#EBF0F8"
             },
             "line": {
              "color": "white"
             }
            },
            "header": {
             "fill": {
              "color": "#C8D4E3"
             },
             "line": {
              "color": "white"
             }
            },
            "type": "table"
           }
          ]
         },
         "layout": {
          "annotationdefaults": {
           "arrowcolor": "#2a3f5f",
           "arrowhead": 0,
           "arrowwidth": 1
          },
          "autotypenumbers": "strict",
          "coloraxis": {
           "colorbar": {
            "outlinewidth": 0,
            "ticks": ""
           }
          },
          "colorscale": {
           "diverging": [
            [
             0,
             "#8e0152"
            ],
            [
             0.1,
             "#c51b7d"
            ],
            [
             0.2,
             "#de77ae"
            ],
            [
             0.3,
             "#f1b6da"
            ],
            [
             0.4,
             "#fde0ef"
            ],
            [
             0.5,
             "#f7f7f7"
            ],
            [
             0.6,
             "#e6f5d0"
            ],
            [
             0.7,
             "#b8e186"
            ],
            [
             0.8,
             "#7fbc41"
            ],
            [
             0.9,
             "#4d9221"
            ],
            [
             1,
             "#276419"
            ]
           ],
           "sequential": [
            [
             0,
             "#0d0887"
            ],
            [
             0.1111111111111111,
             "#46039f"
            ],
            [
             0.2222222222222222,
             "#7201a8"
            ],
            [
             0.3333333333333333,
             "#9c179e"
            ],
            [
             0.4444444444444444,
             "#bd3786"
            ],
            [
             0.5555555555555556,
             "#d8576b"
            ],
            [
             0.6666666666666666,
             "#ed7953"
            ],
            [
             0.7777777777777778,
             "#fb9f3a"
            ],
            [
             0.8888888888888888,
             "#fdca26"
            ],
            [
             1,
             "#f0f921"
            ]
           ],
           "sequentialminus": [
            [
             0,
             "#0d0887"
            ],
            [
             0.1111111111111111,
             "#46039f"
            ],
            [
             0.2222222222222222,
             "#7201a8"
            ],
            [
             0.3333333333333333,
             "#9c179e"
            ],
            [
             0.4444444444444444,
             "#bd3786"
            ],
            [
             0.5555555555555556,
             "#d8576b"
            ],
            [
             0.6666666666666666,
             "#ed7953"
            ],
            [
             0.7777777777777778,
             "#fb9f3a"
            ],
            [
             0.8888888888888888,
             "#fdca26"
            ],
            [
             1,
             "#f0f921"
            ]
           ]
          },
          "colorway": [
           "#636efa",
           "#EF553B",
           "#00cc96",
           "#ab63fa",
           "#FFA15A",
           "#19d3f3",
           "#FF6692",
           "#B6E880",
           "#FF97FF",
           "#FECB52"
          ],
          "font": {
           "color": "#2a3f5f"
          },
          "geo": {
           "bgcolor": "white",
           "lakecolor": "white",
           "landcolor": "#E5ECF6",
           "showlakes": true,
           "showland": true,
           "subunitcolor": "white"
          },
          "hoverlabel": {
           "align": "left"
          },
          "hovermode": "closest",
          "mapbox": {
           "style": "light"
          },
          "paper_bgcolor": "white",
          "plot_bgcolor": "#E5ECF6",
          "polar": {
           "angularaxis": {
            "gridcolor": "white",
            "linecolor": "white",
            "ticks": ""
           },
           "bgcolor": "#E5ECF6",
           "radialaxis": {
            "gridcolor": "white",
            "linecolor": "white",
            "ticks": ""
           }
          },
          "scene": {
           "xaxis": {
            "backgroundcolor": "#E5ECF6",
            "gridcolor": "white",
            "gridwidth": 2,
            "linecolor": "white",
            "showbackground": true,
            "ticks": "",
            "zerolinecolor": "white"
           },
           "yaxis": {
            "backgroundcolor": "#E5ECF6",
            "gridcolor": "white",
            "gridwidth": 2,
            "linecolor": "white",
            "showbackground": true,
            "ticks": "",
            "zerolinecolor": "white"
           },
           "zaxis": {
            "backgroundcolor": "#E5ECF6",
            "gridcolor": "white",
            "gridwidth": 2,
            "linecolor": "white",
            "showbackground": true,
            "ticks": "",
            "zerolinecolor": "white"
           }
          },
          "shapedefaults": {
           "line": {
            "color": "#2a3f5f"
           }
          },
          "ternary": {
           "aaxis": {
            "gridcolor": "white",
            "linecolor": "white",
            "ticks": ""
           },
           "baxis": {
            "gridcolor": "white",
            "linecolor": "white",
            "ticks": ""
           },
           "bgcolor": "#E5ECF6",
           "caxis": {
            "gridcolor": "white",
            "linecolor": "white",
            "ticks": ""
           }
          },
          "title": {
           "x": 0.05
          },
          "xaxis": {
           "automargin": true,
           "gridcolor": "white",
           "linecolor": "white",
           "ticks": "",
           "title": {
            "standoff": 15
           },
           "zerolinecolor": "white",
           "zerolinewidth": 2
          },
          "yaxis": {
           "automargin": true,
           "gridcolor": "white",
           "linecolor": "white",
           "ticks": "",
           "title": {
            "standoff": 15
           },
           "zerolinecolor": "white",
           "zerolinewidth": 2
          }
         }
        }
       }
      }
     },
     "metadata": {},
     "output_type": "display_data"
    }
   ],
   "source": [
    "fig = px.sunburst(df,path=['day','time','sex'],values='tip')\n",
    "fig.show()"
   ]
  },
  {
   "cell_type": "code",
   "execution_count": 40,
   "metadata": {},
   "outputs": [
    {
     "data": {
      "application/vnd.plotly.v1+json": {
       "config": {
        "plotlyServerURL": "https://plot.ly"
       },
       "data": [
        {
         "hovertemplate": "day=Sun<br>total_bill=%{x}<br>tip=%{y}<extra></extra>",
         "legendgroup": "Sun",
         "marker": {
          "color": "#636efa",
          "symbol": "circle"
         },
         "mode": "markers",
         "name": "Sun",
         "orientation": "v",
         "showlegend": true,
         "type": "scatter",
         "x": [
          16.99,
          10.34,
          21.01,
          23.68,
          24.59,
          25.29,
          8.77,
          26.88,
          15.04,
          14.78,
          10.27,
          35.26,
          15.42,
          18.43,
          14.83,
          21.58,
          10.33,
          16.29,
          16.97,
          17.46,
          13.94,
          9.68,
          30.4,
          18.29,
          22.23,
          32.4,
          28.55,
          18.04,
          12.54,
          10.29,
          34.81,
          9.94,
          25.56,
          19.49,
          38.07,
          23.95,
          25.71,
          17.31,
          29.93,
          14.07,
          13.13,
          17.26,
          24.55,
          19.77,
          29.85,
          48.17,
          25,
          13.39,
          16.49,
          21.5,
          12.66,
          16.21,
          13.81,
          17.51,
          24.52,
          20.76,
          31.71,
          7.25,
          31.85,
          16.82,
          32.9,
          17.89,
          14.48,
          9.6,
          34.63,
          34.65,
          23.33,
          45.35,
          23.17,
          40.55,
          20.69,
          20.9,
          30.46,
          18.15,
          23.1,
          15.69
         ],
         "xaxis": "x",
         "y": [
          1.01,
          1.66,
          3.5,
          3.31,
          3.61,
          4.71,
          2,
          3.12,
          1.96,
          3.23,
          1.71,
          5,
          1.57,
          3,
          3.02,
          3.92,
          1.67,
          3.71,
          3.5,
          2.54,
          3.06,
          1.32,
          5.6,
          3,
          5,
          6,
          2.05,
          3,
          2.5,
          2.6,
          5.2,
          1.56,
          4.34,
          3.51,
          4,
          2.55,
          4,
          3.5,
          5.07,
          2.5,
          2,
          2.74,
          2,
          2,
          5.14,
          5,
          3.75,
          2.61,
          2,
          3.5,
          2.5,
          2,
          2,
          3,
          3.48,
          2.24,
          4.5,
          5.15,
          3.18,
          4,
          3.11,
          2,
          2,
          4,
          3.55,
          3.68,
          5.65,
          3.5,
          6.5,
          3,
          5,
          3.5,
          2,
          3.5,
          4,
          1.5
         ],
         "yaxis": "y"
        },
        {
         "hovertemplate": "day=Sat<br>total_bill=%{x}<br>tip=%{y}<extra></extra>",
         "legendgroup": "Sat",
         "marker": {
          "color": "#EF553B",
          "symbol": "circle"
         },
         "mode": "markers",
         "name": "Sat",
         "orientation": "v",
         "showlegend": true,
         "type": "scatter",
         "x": [
          20.65,
          17.92,
          20.29,
          15.77,
          39.42,
          19.82,
          17.81,
          13.37,
          12.69,
          21.7,
          19.65,
          9.55,
          18.35,
          15.06,
          20.69,
          17.78,
          24.06,
          16.31,
          16.93,
          18.69,
          31.27,
          16.04,
          38.01,
          26.41,
          11.24,
          48.27,
          20.29,
          13.81,
          11.02,
          18.29,
          17.59,
          20.08,
          16.45,
          3.07,
          20.23,
          15.01,
          12.02,
          17.07,
          26.86,
          25.28,
          14.73,
          10.51,
          17.92,
          44.3,
          22.42,
          20.92,
          15.36,
          20.49,
          25.21,
          18.24,
          14.31,
          14,
          7.25,
          10.59,
          10.63,
          50.81,
          15.81,
          26.59,
          38.73,
          24.27,
          12.76,
          30.06,
          25.89,
          48.33,
          13.27,
          28.17,
          12.9,
          28.15,
          11.59,
          7.74,
          30.14,
          20.45,
          13.28,
          22.12,
          24.01,
          15.69,
          11.61,
          10.77,
          15.53,
          10.07,
          12.6,
          32.83,
          35.83,
          29.03,
          27.18,
          22.67,
          17.82
         ],
         "xaxis": "x",
         "y": [
          3.35,
          4.08,
          2.75,
          2.23,
          7.58,
          3.18,
          2.34,
          2,
          2,
          4.3,
          3,
          1.45,
          2.5,
          3,
          2.45,
          3.27,
          3.6,
          2,
          3.07,
          2.31,
          5,
          2.24,
          3,
          1.5,
          1.76,
          6.73,
          3.21,
          2,
          1.98,
          3.76,
          2.64,
          3.15,
          2.47,
          1,
          2.01,
          2.09,
          1.97,
          3,
          3.14,
          5,
          2.2,
          1.25,
          3.08,
          2.5,
          3.48,
          4.08,
          1.64,
          4.06,
          4.29,
          3.76,
          4,
          3,
          1,
          1.61,
          2,
          10,
          3.16,
          3.41,
          3,
          2.03,
          2.23,
          2,
          5.16,
          9,
          2.5,
          6.5,
          1.1,
          3,
          1.5,
          1.44,
          3.09,
          3,
          2.72,
          2.88,
          2,
          3,
          3.39,
          1.47,
          3,
          1.25,
          1,
          1.17,
          4.67,
          5.92,
          2,
          2,
          1.75
         ],
         "yaxis": "y"
        },
        {
         "hovertemplate": "day=Thur<br>total_bill=%{x}<br>tip=%{y}<extra></extra>",
         "legendgroup": "Thur",
         "marker": {
          "color": "#00cc96",
          "symbol": "circle"
         },
         "mode": "markers",
         "name": "Thur",
         "orientation": "v",
         "showlegend": true,
         "type": "scatter",
         "x": [
          27.2,
          22.76,
          17.29,
          19.44,
          16.66,
          10.07,
          32.68,
          15.98,
          34.83,
          13.03,
          18.28,
          24.71,
          21.16,
          10.65,
          12.43,
          24.08,
          11.69,
          13.42,
          14.26,
          15.95,
          12.48,
          29.8,
          8.52,
          14.52,
          11.38,
          22.82,
          19.08,
          20.27,
          11.17,
          12.26,
          18.26,
          8.51,
          10.33,
          14.15,
          16,
          13.16,
          17.47,
          34.3,
          41.19,
          27.05,
          16.43,
          8.35,
          18.64,
          11.87,
          9.78,
          7.51,
          19.81,
          28.44,
          15.48,
          16.58,
          7.56,
          10.34,
          43.11,
          13,
          13.51,
          18.71,
          12.74,
          13,
          16.4,
          20.53,
          16.47,
          18.78
         ],
         "xaxis": "x",
         "y": [
          4,
          3,
          2.71,
          3,
          3.4,
          1.83,
          5,
          2.03,
          5.17,
          2,
          4,
          5.85,
          3,
          1.5,
          1.8,
          2.92,
          2.31,
          1.68,
          2.5,
          2,
          2.52,
          4.2,
          1.48,
          2,
          2,
          2.18,
          1.5,
          2.83,
          1.5,
          2,
          3.25,
          1.25,
          2,
          2,
          2,
          2.75,
          3.5,
          6.7,
          5,
          5,
          2.3,
          1.5,
          1.36,
          1.63,
          1.73,
          2,
          4.19,
          2.56,
          2.02,
          4,
          1.44,
          2,
          5,
          2,
          2,
          4,
          2.01,
          2,
          2.5,
          4,
          3.23,
          3
         ],
         "yaxis": "y"
        },
        {
         "hovertemplate": "day=Fri<br>total_bill=%{x}<br>tip=%{y}<extra></extra>",
         "legendgroup": "Fri",
         "marker": {
          "color": "#ab63fa",
          "symbol": "circle"
         },
         "mode": "markers",
         "name": "Fri",
         "orientation": "v",
         "showlegend": true,
         "type": "scatter",
         "x": [
          28.97,
          22.49,
          5.75,
          16.32,
          22.75,
          40.17,
          27.28,
          12.03,
          21.01,
          12.46,
          11.35,
          15.38,
          12.16,
          13.42,
          8.58,
          15.98,
          13.42,
          16.27,
          10.09
         ],
         "xaxis": "x",
         "y": [
          3,
          3.5,
          1,
          4.3,
          3.25,
          4.73,
          4,
          1.5,
          3,
          1.5,
          2.5,
          3,
          2.2,
          3.48,
          1.92,
          3,
          1.58,
          2.5,
          2
         ],
         "yaxis": "y"
        }
       ],
       "layout": {
        "legend": {
         "title": {
          "text": "day"
         },
         "tracegroupgap": 0
        },
        "margin": {
         "t": 60
        },
        "template": {
         "data": {
          "bar": [
           {
            "error_x": {
             "color": "#2a3f5f"
            },
            "error_y": {
             "color": "#2a3f5f"
            },
            "marker": {
             "line": {
              "color": "#E5ECF6",
              "width": 0.5
             },
             "pattern": {
              "fillmode": "overlay",
              "size": 10,
              "solidity": 0.2
             }
            },
            "type": "bar"
           }
          ],
          "barpolar": [
           {
            "marker": {
             "line": {
              "color": "#E5ECF6",
              "width": 0.5
             },
             "pattern": {
              "fillmode": "overlay",
              "size": 10,
              "solidity": 0.2
             }
            },
            "type": "barpolar"
           }
          ],
          "carpet": [
           {
            "aaxis": {
             "endlinecolor": "#2a3f5f",
             "gridcolor": "white",
             "linecolor": "white",
             "minorgridcolor": "white",
             "startlinecolor": "#2a3f5f"
            },
            "baxis": {
             "endlinecolor": "#2a3f5f",
             "gridcolor": "white",
             "linecolor": "white",
             "minorgridcolor": "white",
             "startlinecolor": "#2a3f5f"
            },
            "type": "carpet"
           }
          ],
          "choropleth": [
           {
            "colorbar": {
             "outlinewidth": 0,
             "ticks": ""
            },
            "type": "choropleth"
           }
          ],
          "contour": [
           {
            "colorbar": {
             "outlinewidth": 0,
             "ticks": ""
            },
            "colorscale": [
             [
              0,
              "#0d0887"
             ],
             [
              0.1111111111111111,
              "#46039f"
             ],
             [
              0.2222222222222222,
              "#7201a8"
             ],
             [
              0.3333333333333333,
              "#9c179e"
             ],
             [
              0.4444444444444444,
              "#bd3786"
             ],
             [
              0.5555555555555556,
              "#d8576b"
             ],
             [
              0.6666666666666666,
              "#ed7953"
             ],
             [
              0.7777777777777778,
              "#fb9f3a"
             ],
             [
              0.8888888888888888,
              "#fdca26"
             ],
             [
              1,
              "#f0f921"
             ]
            ],
            "type": "contour"
           }
          ],
          "contourcarpet": [
           {
            "colorbar": {
             "outlinewidth": 0,
             "ticks": ""
            },
            "type": "contourcarpet"
           }
          ],
          "heatmap": [
           {
            "colorbar": {
             "outlinewidth": 0,
             "ticks": ""
            },
            "colorscale": [
             [
              0,
              "#0d0887"
             ],
             [
              0.1111111111111111,
              "#46039f"
             ],
             [
              0.2222222222222222,
              "#7201a8"
             ],
             [
              0.3333333333333333,
              "#9c179e"
             ],
             [
              0.4444444444444444,
              "#bd3786"
             ],
             [
              0.5555555555555556,
              "#d8576b"
             ],
             [
              0.6666666666666666,
              "#ed7953"
             ],
             [
              0.7777777777777778,
              "#fb9f3a"
             ],
             [
              0.8888888888888888,
              "#fdca26"
             ],
             [
              1,
              "#f0f921"
             ]
            ],
            "type": "heatmap"
           }
          ],
          "heatmapgl": [
           {
            "colorbar": {
             "outlinewidth": 0,
             "ticks": ""
            },
            "colorscale": [
             [
              0,
              "#0d0887"
             ],
             [
              0.1111111111111111,
              "#46039f"
             ],
             [
              0.2222222222222222,
              "#7201a8"
             ],
             [
              0.3333333333333333,
              "#9c179e"
             ],
             [
              0.4444444444444444,
              "#bd3786"
             ],
             [
              0.5555555555555556,
              "#d8576b"
             ],
             [
              0.6666666666666666,
              "#ed7953"
             ],
             [
              0.7777777777777778,
              "#fb9f3a"
             ],
             [
              0.8888888888888888,
              "#fdca26"
             ],
             [
              1,
              "#f0f921"
             ]
            ],
            "type": "heatmapgl"
           }
          ],
          "histogram": [
           {
            "marker": {
             "pattern": {
              "fillmode": "overlay",
              "size": 10,
              "solidity": 0.2
             }
            },
            "type": "histogram"
           }
          ],
          "histogram2d": [
           {
            "colorbar": {
             "outlinewidth": 0,
             "ticks": ""
            },
            "colorscale": [
             [
              0,
              "#0d0887"
             ],
             [
              0.1111111111111111,
              "#46039f"
             ],
             [
              0.2222222222222222,
              "#7201a8"
             ],
             [
              0.3333333333333333,
              "#9c179e"
             ],
             [
              0.4444444444444444,
              "#bd3786"
             ],
             [
              0.5555555555555556,
              "#d8576b"
             ],
             [
              0.6666666666666666,
              "#ed7953"
             ],
             [
              0.7777777777777778,
              "#fb9f3a"
             ],
             [
              0.8888888888888888,
              "#fdca26"
             ],
             [
              1,
              "#f0f921"
             ]
            ],
            "type": "histogram2d"
           }
          ],
          "histogram2dcontour": [
           {
            "colorbar": {
             "outlinewidth": 0,
             "ticks": ""
            },
            "colorscale": [
             [
              0,
              "#0d0887"
             ],
             [
              0.1111111111111111,
              "#46039f"
             ],
             [
              0.2222222222222222,
              "#7201a8"
             ],
             [
              0.3333333333333333,
              "#9c179e"
             ],
             [
              0.4444444444444444,
              "#bd3786"
             ],
             [
              0.5555555555555556,
              "#d8576b"
             ],
             [
              0.6666666666666666,
              "#ed7953"
             ],
             [
              0.7777777777777778,
              "#fb9f3a"
             ],
             [
              0.8888888888888888,
              "#fdca26"
             ],
             [
              1,
              "#f0f921"
             ]
            ],
            "type": "histogram2dcontour"
           }
          ],
          "mesh3d": [
           {
            "colorbar": {
             "outlinewidth": 0,
             "ticks": ""
            },
            "type": "mesh3d"
           }
          ],
          "parcoords": [
           {
            "line": {
             "colorbar": {
              "outlinewidth": 0,
              "ticks": ""
             }
            },
            "type": "parcoords"
           }
          ],
          "pie": [
           {
            "automargin": true,
            "type": "pie"
           }
          ],
          "scatter": [
           {
            "fillpattern": {
             "fillmode": "overlay",
             "size": 10,
             "solidity": 0.2
            },
            "type": "scatter"
           }
          ],
          "scatter3d": [
           {
            "line": {
             "colorbar": {
              "outlinewidth": 0,
              "ticks": ""
             }
            },
            "marker": {
             "colorbar": {
              "outlinewidth": 0,
              "ticks": ""
             }
            },
            "type": "scatter3d"
           }
          ],
          "scattercarpet": [
           {
            "marker": {
             "colorbar": {
              "outlinewidth": 0,
              "ticks": ""
             }
            },
            "type": "scattercarpet"
           }
          ],
          "scattergeo": [
           {
            "marker": {
             "colorbar": {
              "outlinewidth": 0,
              "ticks": ""
             }
            },
            "type": "scattergeo"
           }
          ],
          "scattergl": [
           {
            "marker": {
             "colorbar": {
              "outlinewidth": 0,
              "ticks": ""
             }
            },
            "type": "scattergl"
           }
          ],
          "scattermapbox": [
           {
            "marker": {
             "colorbar": {
              "outlinewidth": 0,
              "ticks": ""
             }
            },
            "type": "scattermapbox"
           }
          ],
          "scatterpolar": [
           {
            "marker": {
             "colorbar": {
              "outlinewidth": 0,
              "ticks": ""
             }
            },
            "type": "scatterpolar"
           }
          ],
          "scatterpolargl": [
           {
            "marker": {
             "colorbar": {
              "outlinewidth": 0,
              "ticks": ""
             }
            },
            "type": "scatterpolargl"
           }
          ],
          "scatterternary": [
           {
            "marker": {
             "colorbar": {
              "outlinewidth": 0,
              "ticks": ""
             }
            },
            "type": "scatterternary"
           }
          ],
          "surface": [
           {
            "colorbar": {
             "outlinewidth": 0,
             "ticks": ""
            },
            "colorscale": [
             [
              0,
              "#0d0887"
             ],
             [
              0.1111111111111111,
              "#46039f"
             ],
             [
              0.2222222222222222,
              "#7201a8"
             ],
             [
              0.3333333333333333,
              "#9c179e"
             ],
             [
              0.4444444444444444,
              "#bd3786"
             ],
             [
              0.5555555555555556,
              "#d8576b"
             ],
             [
              0.6666666666666666,
              "#ed7953"
             ],
             [
              0.7777777777777778,
              "#fb9f3a"
             ],
             [
              0.8888888888888888,
              "#fdca26"
             ],
             [
              1,
              "#f0f921"
             ]
            ],
            "type": "surface"
           }
          ],
          "table": [
           {
            "cells": {
             "fill": {
              "color": "#EBF0F8"
             },
             "line": {
              "color": "white"
             }
            },
            "header": {
             "fill": {
              "color": "#C8D4E3"
             },
             "line": {
              "color": "white"
             }
            },
            "type": "table"
           }
          ]
         },
         "layout": {
          "annotationdefaults": {
           "arrowcolor": "#2a3f5f",
           "arrowhead": 0,
           "arrowwidth": 1
          },
          "autotypenumbers": "strict",
          "coloraxis": {
           "colorbar": {
            "outlinewidth": 0,
            "ticks": ""
           }
          },
          "colorscale": {
           "diverging": [
            [
             0,
             "#8e0152"
            ],
            [
             0.1,
             "#c51b7d"
            ],
            [
             0.2,
             "#de77ae"
            ],
            [
             0.3,
             "#f1b6da"
            ],
            [
             0.4,
             "#fde0ef"
            ],
            [
             0.5,
             "#f7f7f7"
            ],
            [
             0.6,
             "#e6f5d0"
            ],
            [
             0.7,
             "#b8e186"
            ],
            [
             0.8,
             "#7fbc41"
            ],
            [
             0.9,
             "#4d9221"
            ],
            [
             1,
             "#276419"
            ]
           ],
           "sequential": [
            [
             0,
             "#0d0887"
            ],
            [
             0.1111111111111111,
             "#46039f"
            ],
            [
             0.2222222222222222,
             "#7201a8"
            ],
            [
             0.3333333333333333,
             "#9c179e"
            ],
            [
             0.4444444444444444,
             "#bd3786"
            ],
            [
             0.5555555555555556,
             "#d8576b"
            ],
            [
             0.6666666666666666,
             "#ed7953"
            ],
            [
             0.7777777777777778,
             "#fb9f3a"
            ],
            [
             0.8888888888888888,
             "#fdca26"
            ],
            [
             1,
             "#f0f921"
            ]
           ],
           "sequentialminus": [
            [
             0,
             "#0d0887"
            ],
            [
             0.1111111111111111,
             "#46039f"
            ],
            [
             0.2222222222222222,
             "#7201a8"
            ],
            [
             0.3333333333333333,
             "#9c179e"
            ],
            [
             0.4444444444444444,
             "#bd3786"
            ],
            [
             0.5555555555555556,
             "#d8576b"
            ],
            [
             0.6666666666666666,
             "#ed7953"
            ],
            [
             0.7777777777777778,
             "#fb9f3a"
            ],
            [
             0.8888888888888888,
             "#fdca26"
            ],
            [
             1,
             "#f0f921"
            ]
           ]
          },
          "colorway": [
           "#636efa",
           "#EF553B",
           "#00cc96",
           "#ab63fa",
           "#FFA15A",
           "#19d3f3",
           "#FF6692",
           "#B6E880",
           "#FF97FF",
           "#FECB52"
          ],
          "font": {
           "color": "#2a3f5f"
          },
          "geo": {
           "bgcolor": "white",
           "lakecolor": "white",
           "landcolor": "#E5ECF6",
           "showlakes": true,
           "showland": true,
           "subunitcolor": "white"
          },
          "hoverlabel": {
           "align": "left"
          },
          "hovermode": "closest",
          "mapbox": {
           "style": "light"
          },
          "paper_bgcolor": "white",
          "plot_bgcolor": "#E5ECF6",
          "polar": {
           "angularaxis": {
            "gridcolor": "white",
            "linecolor": "white",
            "ticks": ""
           },
           "bgcolor": "#E5ECF6",
           "radialaxis": {
            "gridcolor": "white",
            "linecolor": "white",
            "ticks": ""
           }
          },
          "scene": {
           "xaxis": {
            "backgroundcolor": "#E5ECF6",
            "gridcolor": "white",
            "gridwidth": 2,
            "linecolor": "white",
            "showbackground": true,
            "ticks": "",
            "zerolinecolor": "white"
           },
           "yaxis": {
            "backgroundcolor": "#E5ECF6",
            "gridcolor": "white",
            "gridwidth": 2,
            "linecolor": "white",
            "showbackground": true,
            "ticks": "",
            "zerolinecolor": "white"
           },
           "zaxis": {
            "backgroundcolor": "#E5ECF6",
            "gridcolor": "white",
            "gridwidth": 2,
            "linecolor": "white",
            "showbackground": true,
            "ticks": "",
            "zerolinecolor": "white"
           }
          },
          "shapedefaults": {
           "line": {
            "color": "#2a3f5f"
           }
          },
          "ternary": {
           "aaxis": {
            "gridcolor": "white",
            "linecolor": "white",
            "ticks": ""
           },
           "baxis": {
            "gridcolor": "white",
            "linecolor": "white",
            "ticks": ""
           },
           "bgcolor": "#E5ECF6",
           "caxis": {
            "gridcolor": "white",
            "linecolor": "white",
            "ticks": ""
           }
          },
          "title": {
           "x": 0.05
          },
          "xaxis": {
           "automargin": true,
           "gridcolor": "white",
           "linecolor": "white",
           "ticks": "",
           "title": {
            "standoff": 15
           },
           "zerolinecolor": "white",
           "zerolinewidth": 2
          },
          "yaxis": {
           "automargin": true,
           "gridcolor": "white",
           "linecolor": "white",
           "ticks": "",
           "title": {
            "standoff": 15
           },
           "zerolinecolor": "white",
           "zerolinewidth": 2
          }
         }
        },
        "xaxis": {
         "anchor": "y",
         "domain": [
          0,
          1
         ],
         "title": {
          "text": "total_bill"
         }
        },
        "yaxis": {
         "anchor": "x",
         "domain": [
          0,
          1
         ],
         "title": {
          "text": "tip"
         }
        }
       }
      }
     },
     "metadata": {},
     "output_type": "display_data"
    }
   ],
   "source": [
    "fig = px.scatter(df,x='total_bill',y= 'tip',color ='day')\n",
    "fig.show()"
   ]
  },
  {
   "cell_type": "code",
   "execution_count": 41,
   "metadata": {},
   "outputs": [
    {
     "data": {
      "application/vnd.plotly.v1+json": {
       "config": {
        "plotlyServerURL": "https://plot.ly"
       },
       "data": [
        {
         "alignmentgroup": "True",
         "hovertemplate": "sex=Female<br>day=%{x}<br>tip=%{y}<extra></extra>",
         "legendgroup": "Female",
         "marker": {
          "color": "#636efa",
          "pattern": {
           "shape": ""
          }
         },
         "name": "Female",
         "offsetgroup": "Female",
         "orientation": "v",
         "showlegend": true,
         "textposition": "auto",
         "type": "bar",
         "x": [
          "Sun",
          "Sun",
          "Sun",
          "Sun",
          "Sun",
          "Sun",
          "Sat",
          "Sat",
          "Sat",
          "Sat",
          "Sat",
          "Sat",
          "Sun",
          "Sun",
          "Sat",
          "Sat",
          "Sat",
          "Sat",
          "Sat",
          "Sat",
          "Sat",
          "Thur",
          "Thur",
          "Fri",
          "Fri",
          "Fri",
          "Fri",
          "Fri",
          "Sat",
          "Sat",
          "Sat",
          "Sat",
          "Sat",
          "Sun",
          "Sun",
          "Thur",
          "Thur",
          "Thur",
          "Thur",
          "Thur",
          "Thur",
          "Thur",
          "Thur",
          "Thur",
          "Thur",
          "Thur",
          "Thur",
          "Thur",
          "Thur",
          "Thur",
          "Thur",
          "Thur",
          "Thur",
          "Thur",
          "Thur",
          "Thur",
          "Thur",
          "Sun",
          "Sun",
          "Sun",
          "Sun",
          "Sun",
          "Sat",
          "Sat",
          "Sun",
          "Sun",
          "Sun",
          "Thur",
          "Thur",
          "Thur",
          "Thur",
          "Thur",
          "Thur",
          "Thur",
          "Sat",
          "Sat",
          "Sat",
          "Sat",
          "Sat",
          "Fri",
          "Fri",
          "Fri",
          "Fri",
          "Sat",
          "Sat",
          "Sat",
          "Thur"
         ],
         "xaxis": "x",
         "y": [
          1.01,
          3.61,
          5,
          3.02,
          1.67,
          3.5,
          2.75,
          2.23,
          3,
          3,
          2.45,
          3.07,
          2.6,
          5.2,
          1.5,
          2.47,
          1,
          3,
          3.14,
          5,
          2.2,
          1.83,
          5.17,
          1,
          4.3,
          3.25,
          2.5,
          3,
          2.5,
          3.48,
          4.08,
          4,
          1,
          4,
          3.5,
          1.5,
          1.8,
          2.92,
          1.68,
          2.52,
          4.2,
          2,
          2,
          2.83,
          1.5,
          2,
          3.25,
          1.25,
          2,
          2,
          2.75,
          3.5,
          5,
          2.3,
          1.5,
          1.36,
          1.63,
          5.14,
          3.75,
          2.61,
          2,
          3,
          1.61,
          2,
          4,
          3.5,
          3.5,
          4.19,
          5,
          2,
          2.01,
          2,
          2.5,
          3.23,
          2.23,
          2.5,
          6.5,
          1.1,
          3.09,
          3.48,
          3,
          2.5,
          2,
          2.88,
          4.67,
          2,
          3
         ],
         "yaxis": "y"
        },
        {
         "alignmentgroup": "True",
         "hovertemplate": "sex=Male<br>day=%{x}<br>tip=%{y}<extra></extra>",
         "legendgroup": "Male",
         "marker": {
          "color": "#EF553B",
          "pattern": {
           "shape": ""
          }
         },
         "name": "Male",
         "offsetgroup": "Male",
         "orientation": "v",
         "showlegend": true,
         "textposition": "auto",
         "type": "bar",
         "x": [
          "Sun",
          "Sun",
          "Sun",
          "Sun",
          "Sun",
          "Sun",
          "Sun",
          "Sun",
          "Sun",
          "Sun",
          "Sun",
          "Sun",
          "Sun",
          "Sat",
          "Sat",
          "Sat",
          "Sat",
          "Sat",
          "Sat",
          "Sat",
          "Sat",
          "Sat",
          "Sat",
          "Sat",
          "Sat",
          "Sat",
          "Sat",
          "Sat",
          "Sat",
          "Sun",
          "Sun",
          "Sun",
          "Sun",
          "Sun",
          "Sun",
          "Sun",
          "Sun",
          "Sun",
          "Sun",
          "Sun",
          "Sun",
          "Sun",
          "Sat",
          "Sat",
          "Sat",
          "Sat",
          "Sat",
          "Sat",
          "Sat",
          "Sat",
          "Sat",
          "Sat",
          "Sat",
          "Sat",
          "Sat",
          "Sat",
          "Thur",
          "Thur",
          "Thur",
          "Thur",
          "Thur",
          "Thur",
          "Thur",
          "Thur",
          "Thur",
          "Thur",
          "Thur",
          "Fri",
          "Fri",
          "Fri",
          "Fri",
          "Fri",
          "Fri",
          "Fri",
          "Sat",
          "Sat",
          "Sat",
          "Sat",
          "Sat",
          "Sun",
          "Sun",
          "Sun",
          "Thur",
          "Thur",
          "Thur",
          "Thur",
          "Thur",
          "Thur",
          "Thur",
          "Thur",
          "Thur",
          "Thur",
          "Thur",
          "Sun",
          "Sun",
          "Sun",
          "Sun",
          "Sun",
          "Sun",
          "Sun",
          "Sun",
          "Sun",
          "Sun",
          "Sun",
          "Sun",
          "Sun",
          "Sat",
          "Sat",
          "Sun",
          "Sun",
          "Sun",
          "Sun",
          "Sun",
          "Sun",
          "Sun",
          "Sun",
          "Sun",
          "Sun",
          "Sun",
          "Sun",
          "Sun",
          "Sun",
          "Sun",
          "Sun",
          "Thur",
          "Thur",
          "Thur",
          "Thur",
          "Thur",
          "Thur",
          "Thur",
          "Thur",
          "Sat",
          "Sat",
          "Sat",
          "Sat",
          "Sat",
          "Sat",
          "Sat",
          "Sat",
          "Sat",
          "Fri",
          "Fri",
          "Fri",
          "Sat",
          "Sat",
          "Sat",
          "Sat",
          "Sat",
          "Sat",
          "Sat",
          "Sat",
          "Sat",
          "Sat",
          "Sat",
          "Sat",
          "Sat"
         ],
         "xaxis": "x",
         "y": [
          1.66,
          3.5,
          3.31,
          4.71,
          2,
          3.12,
          1.96,
          3.23,
          1.71,
          1.57,
          3,
          3.92,
          3.71,
          3.35,
          4.08,
          7.58,
          3.18,
          2.34,
          2,
          2,
          4.3,
          1.45,
          2.5,
          3.27,
          3.6,
          2,
          2.31,
          5,
          2.24,
          2.54,
          3.06,
          1.32,
          5.6,
          3,
          5,
          6,
          2.05,
          3,
          2.5,
          1.56,
          4.34,
          3.51,
          3,
          1.76,
          6.73,
          3.21,
          2,
          1.98,
          3.76,
          2.64,
          3.15,
          2.01,
          2.09,
          1.97,
          1.25,
          3.08,
          4,
          3,
          2.71,
          3,
          3.4,
          5,
          2.03,
          2,
          4,
          5.85,
          3,
          3,
          3.5,
          4.73,
          4,
          1.5,
          3,
          1.5,
          1.64,
          4.06,
          4.29,
          3.76,
          3,
          4,
          2.55,
          5.07,
          2.31,
          2.5,
          2,
          1.48,
          2.18,
          1.5,
          2,
          6.7,
          5,
          1.73,
          2,
          2.5,
          2,
          2.74,
          2,
          2,
          5,
          2,
          3.5,
          2.5,
          2,
          3.48,
          2.24,
          4.5,
          10,
          3.16,
          5.15,
          3.18,
          4,
          3.11,
          2,
          2,
          3.55,
          3.68,
          5.65,
          3.5,
          6.5,
          3,
          5,
          2,
          4,
          1.5,
          2.56,
          2.02,
          4,
          1.44,
          2,
          2,
          4,
          4,
          3.41,
          3,
          2.03,
          2,
          5.16,
          9,
          3,
          1.5,
          1.44,
          2.2,
          1.92,
          1.58,
          3,
          2.72,
          2,
          3,
          3.39,
          1.47,
          3,
          1.25,
          1,
          1.17,
          5.92,
          2,
          1.75
         ],
         "yaxis": "y"
        }
       ],
       "layout": {
        "barmode": "relative",
        "legend": {
         "title": {
          "text": "sex"
         },
         "tracegroupgap": 0
        },
        "margin": {
         "t": 60
        },
        "template": {
         "data": {
          "bar": [
           {
            "error_x": {
             "color": "#2a3f5f"
            },
            "error_y": {
             "color": "#2a3f5f"
            },
            "marker": {
             "line": {
              "color": "#E5ECF6",
              "width": 0.5
             },
             "pattern": {
              "fillmode": "overlay",
              "size": 10,
              "solidity": 0.2
             }
            },
            "type": "bar"
           }
          ],
          "barpolar": [
           {
            "marker": {
             "line": {
              "color": "#E5ECF6",
              "width": 0.5
             },
             "pattern": {
              "fillmode": "overlay",
              "size": 10,
              "solidity": 0.2
             }
            },
            "type": "barpolar"
           }
          ],
          "carpet": [
           {
            "aaxis": {
             "endlinecolor": "#2a3f5f",
             "gridcolor": "white",
             "linecolor": "white",
             "minorgridcolor": "white",
             "startlinecolor": "#2a3f5f"
            },
            "baxis": {
             "endlinecolor": "#2a3f5f",
             "gridcolor": "white",
             "linecolor": "white",
             "minorgridcolor": "white",
             "startlinecolor": "#2a3f5f"
            },
            "type": "carpet"
           }
          ],
          "choropleth": [
           {
            "colorbar": {
             "outlinewidth": 0,
             "ticks": ""
            },
            "type": "choropleth"
           }
          ],
          "contour": [
           {
            "colorbar": {
             "outlinewidth": 0,
             "ticks": ""
            },
            "colorscale": [
             [
              0,
              "#0d0887"
             ],
             [
              0.1111111111111111,
              "#46039f"
             ],
             [
              0.2222222222222222,
              "#7201a8"
             ],
             [
              0.3333333333333333,
              "#9c179e"
             ],
             [
              0.4444444444444444,
              "#bd3786"
             ],
             [
              0.5555555555555556,
              "#d8576b"
             ],
             [
              0.6666666666666666,
              "#ed7953"
             ],
             [
              0.7777777777777778,
              "#fb9f3a"
             ],
             [
              0.8888888888888888,
              "#fdca26"
             ],
             [
              1,
              "#f0f921"
             ]
            ],
            "type": "contour"
           }
          ],
          "contourcarpet": [
           {
            "colorbar": {
             "outlinewidth": 0,
             "ticks": ""
            },
            "type": "contourcarpet"
           }
          ],
          "heatmap": [
           {
            "colorbar": {
             "outlinewidth": 0,
             "ticks": ""
            },
            "colorscale": [
             [
              0,
              "#0d0887"
             ],
             [
              0.1111111111111111,
              "#46039f"
             ],
             [
              0.2222222222222222,
              "#7201a8"
             ],
             [
              0.3333333333333333,
              "#9c179e"
             ],
             [
              0.4444444444444444,
              "#bd3786"
             ],
             [
              0.5555555555555556,
              "#d8576b"
             ],
             [
              0.6666666666666666,
              "#ed7953"
             ],
             [
              0.7777777777777778,
              "#fb9f3a"
             ],
             [
              0.8888888888888888,
              "#fdca26"
             ],
             [
              1,
              "#f0f921"
             ]
            ],
            "type": "heatmap"
           }
          ],
          "heatmapgl": [
           {
            "colorbar": {
             "outlinewidth": 0,
             "ticks": ""
            },
            "colorscale": [
             [
              0,
              "#0d0887"
             ],
             [
              0.1111111111111111,
              "#46039f"
             ],
             [
              0.2222222222222222,
              "#7201a8"
             ],
             [
              0.3333333333333333,
              "#9c179e"
             ],
             [
              0.4444444444444444,
              "#bd3786"
             ],
             [
              0.5555555555555556,
              "#d8576b"
             ],
             [
              0.6666666666666666,
              "#ed7953"
             ],
             [
              0.7777777777777778,
              "#fb9f3a"
             ],
             [
              0.8888888888888888,
              "#fdca26"
             ],
             [
              1,
              "#f0f921"
             ]
            ],
            "type": "heatmapgl"
           }
          ],
          "histogram": [
           {
            "marker": {
             "pattern": {
              "fillmode": "overlay",
              "size": 10,
              "solidity": 0.2
             }
            },
            "type": "histogram"
           }
          ],
          "histogram2d": [
           {
            "colorbar": {
             "outlinewidth": 0,
             "ticks": ""
            },
            "colorscale": [
             [
              0,
              "#0d0887"
             ],
             [
              0.1111111111111111,
              "#46039f"
             ],
             [
              0.2222222222222222,
              "#7201a8"
             ],
             [
              0.3333333333333333,
              "#9c179e"
             ],
             [
              0.4444444444444444,
              "#bd3786"
             ],
             [
              0.5555555555555556,
              "#d8576b"
             ],
             [
              0.6666666666666666,
              "#ed7953"
             ],
             [
              0.7777777777777778,
              "#fb9f3a"
             ],
             [
              0.8888888888888888,
              "#fdca26"
             ],
             [
              1,
              "#f0f921"
             ]
            ],
            "type": "histogram2d"
           }
          ],
          "histogram2dcontour": [
           {
            "colorbar": {
             "outlinewidth": 0,
             "ticks": ""
            },
            "colorscale": [
             [
              0,
              "#0d0887"
             ],
             [
              0.1111111111111111,
              "#46039f"
             ],
             [
              0.2222222222222222,
              "#7201a8"
             ],
             [
              0.3333333333333333,
              "#9c179e"
             ],
             [
              0.4444444444444444,
              "#bd3786"
             ],
             [
              0.5555555555555556,
              "#d8576b"
             ],
             [
              0.6666666666666666,
              "#ed7953"
             ],
             [
              0.7777777777777778,
              "#fb9f3a"
             ],
             [
              0.8888888888888888,
              "#fdca26"
             ],
             [
              1,
              "#f0f921"
             ]
            ],
            "type": "histogram2dcontour"
           }
          ],
          "mesh3d": [
           {
            "colorbar": {
             "outlinewidth": 0,
             "ticks": ""
            },
            "type": "mesh3d"
           }
          ],
          "parcoords": [
           {
            "line": {
             "colorbar": {
              "outlinewidth": 0,
              "ticks": ""
             }
            },
            "type": "parcoords"
           }
          ],
          "pie": [
           {
            "automargin": true,
            "type": "pie"
           }
          ],
          "scatter": [
           {
            "fillpattern": {
             "fillmode": "overlay",
             "size": 10,
             "solidity": 0.2
            },
            "type": "scatter"
           }
          ],
          "scatter3d": [
           {
            "line": {
             "colorbar": {
              "outlinewidth": 0,
              "ticks": ""
             }
            },
            "marker": {
             "colorbar": {
              "outlinewidth": 0,
              "ticks": ""
             }
            },
            "type": "scatter3d"
           }
          ],
          "scattercarpet": [
           {
            "marker": {
             "colorbar": {
              "outlinewidth": 0,
              "ticks": ""
             }
            },
            "type": "scattercarpet"
           }
          ],
          "scattergeo": [
           {
            "marker": {
             "colorbar": {
              "outlinewidth": 0,
              "ticks": ""
             }
            },
            "type": "scattergeo"
           }
          ],
          "scattergl": [
           {
            "marker": {
             "colorbar": {
              "outlinewidth": 0,
              "ticks": ""
             }
            },
            "type": "scattergl"
           }
          ],
          "scattermapbox": [
           {
            "marker": {
             "colorbar": {
              "outlinewidth": 0,
              "ticks": ""
             }
            },
            "type": "scattermapbox"
           }
          ],
          "scatterpolar": [
           {
            "marker": {
             "colorbar": {
              "outlinewidth": 0,
              "ticks": ""
             }
            },
            "type": "scatterpolar"
           }
          ],
          "scatterpolargl": [
           {
            "marker": {
             "colorbar": {
              "outlinewidth": 0,
              "ticks": ""
             }
            },
            "type": "scatterpolargl"
           }
          ],
          "scatterternary": [
           {
            "marker": {
             "colorbar": {
              "outlinewidth": 0,
              "ticks": ""
             }
            },
            "type": "scatterternary"
           }
          ],
          "surface": [
           {
            "colorbar": {
             "outlinewidth": 0,
             "ticks": ""
            },
            "colorscale": [
             [
              0,
              "#0d0887"
             ],
             [
              0.1111111111111111,
              "#46039f"
             ],
             [
              0.2222222222222222,
              "#7201a8"
             ],
             [
              0.3333333333333333,
              "#9c179e"
             ],
             [
              0.4444444444444444,
              "#bd3786"
             ],
             [
              0.5555555555555556,
              "#d8576b"
             ],
             [
              0.6666666666666666,
              "#ed7953"
             ],
             [
              0.7777777777777778,
              "#fb9f3a"
             ],
             [
              0.8888888888888888,
              "#fdca26"
             ],
             [
              1,
              "#f0f921"
             ]
            ],
            "type": "surface"
           }
          ],
          "table": [
           {
            "cells": {
             "fill": {
              "color": "#EBF0F8"
             },
             "line": {
              "color": "white"
             }
            },
            "header": {
             "fill": {
              "color": "#C8D4E3"
             },
             "line": {
              "color": "white"
             }
            },
            "type": "table"
           }
          ]
         },
         "layout": {
          "annotationdefaults": {
           "arrowcolor": "#2a3f5f",
           "arrowhead": 0,
           "arrowwidth": 1
          },
          "autotypenumbers": "strict",
          "coloraxis": {
           "colorbar": {
            "outlinewidth": 0,
            "ticks": ""
           }
          },
          "colorscale": {
           "diverging": [
            [
             0,
             "#8e0152"
            ],
            [
             0.1,
             "#c51b7d"
            ],
            [
             0.2,
             "#de77ae"
            ],
            [
             0.3,
             "#f1b6da"
            ],
            [
             0.4,
             "#fde0ef"
            ],
            [
             0.5,
             "#f7f7f7"
            ],
            [
             0.6,
             "#e6f5d0"
            ],
            [
             0.7,
             "#b8e186"
            ],
            [
             0.8,
             "#7fbc41"
            ],
            [
             0.9,
             "#4d9221"
            ],
            [
             1,
             "#276419"
            ]
           ],
           "sequential": [
            [
             0,
             "#0d0887"
            ],
            [
             0.1111111111111111,
             "#46039f"
            ],
            [
             0.2222222222222222,
             "#7201a8"
            ],
            [
             0.3333333333333333,
             "#9c179e"
            ],
            [
             0.4444444444444444,
             "#bd3786"
            ],
            [
             0.5555555555555556,
             "#d8576b"
            ],
            [
             0.6666666666666666,
             "#ed7953"
            ],
            [
             0.7777777777777778,
             "#fb9f3a"
            ],
            [
             0.8888888888888888,
             "#fdca26"
            ],
            [
             1,
             "#f0f921"
            ]
           ],
           "sequentialminus": [
            [
             0,
             "#0d0887"
            ],
            [
             0.1111111111111111,
             "#46039f"
            ],
            [
             0.2222222222222222,
             "#7201a8"
            ],
            [
             0.3333333333333333,
             "#9c179e"
            ],
            [
             0.4444444444444444,
             "#bd3786"
            ],
            [
             0.5555555555555556,
             "#d8576b"
            ],
            [
             0.6666666666666666,
             "#ed7953"
            ],
            [
             0.7777777777777778,
             "#fb9f3a"
            ],
            [
             0.8888888888888888,
             "#fdca26"
            ],
            [
             1,
             "#f0f921"
            ]
           ]
          },
          "colorway": [
           "#636efa",
           "#EF553B",
           "#00cc96",
           "#ab63fa",
           "#FFA15A",
           "#19d3f3",
           "#FF6692",
           "#B6E880",
           "#FF97FF",
           "#FECB52"
          ],
          "font": {
           "color": "#2a3f5f"
          },
          "geo": {
           "bgcolor": "white",
           "lakecolor": "white",
           "landcolor": "#E5ECF6",
           "showlakes": true,
           "showland": true,
           "subunitcolor": "white"
          },
          "hoverlabel": {
           "align": "left"
          },
          "hovermode": "closest",
          "mapbox": {
           "style": "light"
          },
          "paper_bgcolor": "white",
          "plot_bgcolor": "#E5ECF6",
          "polar": {
           "angularaxis": {
            "gridcolor": "white",
            "linecolor": "white",
            "ticks": ""
           },
           "bgcolor": "#E5ECF6",
           "radialaxis": {
            "gridcolor": "white",
            "linecolor": "white",
            "ticks": ""
           }
          },
          "scene": {
           "xaxis": {
            "backgroundcolor": "#E5ECF6",
            "gridcolor": "white",
            "gridwidth": 2,
            "linecolor": "white",
            "showbackground": true,
            "ticks": "",
            "zerolinecolor": "white"
           },
           "yaxis": {
            "backgroundcolor": "#E5ECF6",
            "gridcolor": "white",
            "gridwidth": 2,
            "linecolor": "white",
            "showbackground": true,
            "ticks": "",
            "zerolinecolor": "white"
           },
           "zaxis": {
            "backgroundcolor": "#E5ECF6",
            "gridcolor": "white",
            "gridwidth": 2,
            "linecolor": "white",
            "showbackground": true,
            "ticks": "",
            "zerolinecolor": "white"
           }
          },
          "shapedefaults": {
           "line": {
            "color": "#2a3f5f"
           }
          },
          "ternary": {
           "aaxis": {
            "gridcolor": "white",
            "linecolor": "white",
            "ticks": ""
           },
           "baxis": {
            "gridcolor": "white",
            "linecolor": "white",
            "ticks": ""
           },
           "bgcolor": "#E5ECF6",
           "caxis": {
            "gridcolor": "white",
            "linecolor": "white",
            "ticks": ""
           }
          },
          "title": {
           "x": 0.05
          },
          "xaxis": {
           "automargin": true,
           "gridcolor": "white",
           "linecolor": "white",
           "ticks": "",
           "title": {
            "standoff": 15
           },
           "zerolinecolor": "white",
           "zerolinewidth": 2
          },
          "yaxis": {
           "automargin": true,
           "gridcolor": "white",
           "linecolor": "white",
           "ticks": "",
           "title": {
            "standoff": 15
           },
           "zerolinecolor": "white",
           "zerolinewidth": 2
          }
         }
        },
        "xaxis": {
         "anchor": "y",
         "domain": [
          0,
          1
         ],
         "title": {
          "text": "day"
         }
        },
        "yaxis": {
         "anchor": "x",
         "domain": [
          0,
          1
         ],
         "title": {
          "text": "tip"
         }
        }
       }
      }
     },
     "metadata": {},
     "output_type": "display_data"
    }
   ],
   "source": [
    "fig = px.bar(df,x='day',y= 'tip',color='sex')\n",
    "fig.show()"
   ]
  },
  {
   "cell_type": "code",
   "execution_count": 42,
   "metadata": {},
   "outputs": [
    {
     "data": {
      "application/vnd.plotly.v1+json": {
       "config": {
        "plotlyServerURL": "https://plot.ly"
       },
       "data": [
        {
         "alignmentgroup": "True",
         "hovertemplate": "sex=Female<br>day=%{x}<br>tip=%{y}<extra></extra>",
         "legendgroup": "Female",
         "marker": {
          "color": "#636efa"
         },
         "name": "Female",
         "notched": false,
         "offsetgroup": "Female",
         "orientation": "v",
         "showlegend": true,
         "type": "box",
         "x": [
          "Sun",
          "Sun",
          "Sun",
          "Sun",
          "Sun",
          "Sun",
          "Sat",
          "Sat",
          "Sat",
          "Sat",
          "Sat",
          "Sat",
          "Sun",
          "Sun",
          "Sat",
          "Sat",
          "Sat",
          "Sat",
          "Sat",
          "Sat",
          "Sat",
          "Thur",
          "Thur",
          "Fri",
          "Fri",
          "Fri",
          "Fri",
          "Fri",
          "Sat",
          "Sat",
          "Sat",
          "Sat",
          "Sat",
          "Sun",
          "Sun",
          "Thur",
          "Thur",
          "Thur",
          "Thur",
          "Thur",
          "Thur",
          "Thur",
          "Thur",
          "Thur",
          "Thur",
          "Thur",
          "Thur",
          "Thur",
          "Thur",
          "Thur",
          "Thur",
          "Thur",
          "Thur",
          "Thur",
          "Thur",
          "Thur",
          "Thur",
          "Sun",
          "Sun",
          "Sun",
          "Sun",
          "Sun",
          "Sat",
          "Sat",
          "Sun",
          "Sun",
          "Sun",
          "Thur",
          "Thur",
          "Thur",
          "Thur",
          "Thur",
          "Thur",
          "Thur",
          "Sat",
          "Sat",
          "Sat",
          "Sat",
          "Sat",
          "Fri",
          "Fri",
          "Fri",
          "Fri",
          "Sat",
          "Sat",
          "Sat",
          "Thur"
         ],
         "x0": " ",
         "xaxis": "x",
         "y": [
          1.01,
          3.61,
          5,
          3.02,
          1.67,
          3.5,
          2.75,
          2.23,
          3,
          3,
          2.45,
          3.07,
          2.6,
          5.2,
          1.5,
          2.47,
          1,
          3,
          3.14,
          5,
          2.2,
          1.83,
          5.17,
          1,
          4.3,
          3.25,
          2.5,
          3,
          2.5,
          3.48,
          4.08,
          4,
          1,
          4,
          3.5,
          1.5,
          1.8,
          2.92,
          1.68,
          2.52,
          4.2,
          2,
          2,
          2.83,
          1.5,
          2,
          3.25,
          1.25,
          2,
          2,
          2.75,
          3.5,
          5,
          2.3,
          1.5,
          1.36,
          1.63,
          5.14,
          3.75,
          2.61,
          2,
          3,
          1.61,
          2,
          4,
          3.5,
          3.5,
          4.19,
          5,
          2,
          2.01,
          2,
          2.5,
          3.23,
          2.23,
          2.5,
          6.5,
          1.1,
          3.09,
          3.48,
          3,
          2.5,
          2,
          2.88,
          4.67,
          2,
          3
         ],
         "y0": " ",
         "yaxis": "y"
        },
        {
         "alignmentgroup": "True",
         "hovertemplate": "sex=Male<br>day=%{x}<br>tip=%{y}<extra></extra>",
         "legendgroup": "Male",
         "marker": {
          "color": "#EF553B"
         },
         "name": "Male",
         "notched": false,
         "offsetgroup": "Male",
         "orientation": "v",
         "showlegend": true,
         "type": "box",
         "x": [
          "Sun",
          "Sun",
          "Sun",
          "Sun",
          "Sun",
          "Sun",
          "Sun",
          "Sun",
          "Sun",
          "Sun",
          "Sun",
          "Sun",
          "Sun",
          "Sat",
          "Sat",
          "Sat",
          "Sat",
          "Sat",
          "Sat",
          "Sat",
          "Sat",
          "Sat",
          "Sat",
          "Sat",
          "Sat",
          "Sat",
          "Sat",
          "Sat",
          "Sat",
          "Sun",
          "Sun",
          "Sun",
          "Sun",
          "Sun",
          "Sun",
          "Sun",
          "Sun",
          "Sun",
          "Sun",
          "Sun",
          "Sun",
          "Sun",
          "Sat",
          "Sat",
          "Sat",
          "Sat",
          "Sat",
          "Sat",
          "Sat",
          "Sat",
          "Sat",
          "Sat",
          "Sat",
          "Sat",
          "Sat",
          "Sat",
          "Thur",
          "Thur",
          "Thur",
          "Thur",
          "Thur",
          "Thur",
          "Thur",
          "Thur",
          "Thur",
          "Thur",
          "Thur",
          "Fri",
          "Fri",
          "Fri",
          "Fri",
          "Fri",
          "Fri",
          "Fri",
          "Sat",
          "Sat",
          "Sat",
          "Sat",
          "Sat",
          "Sun",
          "Sun",
          "Sun",
          "Thur",
          "Thur",
          "Thur",
          "Thur",
          "Thur",
          "Thur",
          "Thur",
          "Thur",
          "Thur",
          "Thur",
          "Thur",
          "Sun",
          "Sun",
          "Sun",
          "Sun",
          "Sun",
          "Sun",
          "Sun",
          "Sun",
          "Sun",
          "Sun",
          "Sun",
          "Sun",
          "Sun",
          "Sat",
          "Sat",
          "Sun",
          "Sun",
          "Sun",
          "Sun",
          "Sun",
          "Sun",
          "Sun",
          "Sun",
          "Sun",
          "Sun",
          "Sun",
          "Sun",
          "Sun",
          "Sun",
          "Sun",
          "Sun",
          "Thur",
          "Thur",
          "Thur",
          "Thur",
          "Thur",
          "Thur",
          "Thur",
          "Thur",
          "Sat",
          "Sat",
          "Sat",
          "Sat",
          "Sat",
          "Sat",
          "Sat",
          "Sat",
          "Sat",
          "Fri",
          "Fri",
          "Fri",
          "Sat",
          "Sat",
          "Sat",
          "Sat",
          "Sat",
          "Sat",
          "Sat",
          "Sat",
          "Sat",
          "Sat",
          "Sat",
          "Sat",
          "Sat"
         ],
         "x0": " ",
         "xaxis": "x",
         "y": [
          1.66,
          3.5,
          3.31,
          4.71,
          2,
          3.12,
          1.96,
          3.23,
          1.71,
          1.57,
          3,
          3.92,
          3.71,
          3.35,
          4.08,
          7.58,
          3.18,
          2.34,
          2,
          2,
          4.3,
          1.45,
          2.5,
          3.27,
          3.6,
          2,
          2.31,
          5,
          2.24,
          2.54,
          3.06,
          1.32,
          5.6,
          3,
          5,
          6,
          2.05,
          3,
          2.5,
          1.56,
          4.34,
          3.51,
          3,
          1.76,
          6.73,
          3.21,
          2,
          1.98,
          3.76,
          2.64,
          3.15,
          2.01,
          2.09,
          1.97,
          1.25,
          3.08,
          4,
          3,
          2.71,
          3,
          3.4,
          5,
          2.03,
          2,
          4,
          5.85,
          3,
          3,
          3.5,
          4.73,
          4,
          1.5,
          3,
          1.5,
          1.64,
          4.06,
          4.29,
          3.76,
          3,
          4,
          2.55,
          5.07,
          2.31,
          2.5,
          2,
          1.48,
          2.18,
          1.5,
          2,
          6.7,
          5,
          1.73,
          2,
          2.5,
          2,
          2.74,
          2,
          2,
          5,
          2,
          3.5,
          2.5,
          2,
          3.48,
          2.24,
          4.5,
          10,
          3.16,
          5.15,
          3.18,
          4,
          3.11,
          2,
          2,
          3.55,
          3.68,
          5.65,
          3.5,
          6.5,
          3,
          5,
          2,
          4,
          1.5,
          2.56,
          2.02,
          4,
          1.44,
          2,
          2,
          4,
          4,
          3.41,
          3,
          2.03,
          2,
          5.16,
          9,
          3,
          1.5,
          1.44,
          2.2,
          1.92,
          1.58,
          3,
          2.72,
          2,
          3,
          3.39,
          1.47,
          3,
          1.25,
          1,
          1.17,
          5.92,
          2,
          1.75
         ],
         "y0": " ",
         "yaxis": "y"
        }
       ],
       "layout": {
        "boxmode": "group",
        "legend": {
         "title": {
          "text": "sex"
         },
         "tracegroupgap": 0
        },
        "margin": {
         "t": 60
        },
        "template": {
         "data": {
          "bar": [
           {
            "error_x": {
             "color": "#2a3f5f"
            },
            "error_y": {
             "color": "#2a3f5f"
            },
            "marker": {
             "line": {
              "color": "#E5ECF6",
              "width": 0.5
             },
             "pattern": {
              "fillmode": "overlay",
              "size": 10,
              "solidity": 0.2
             }
            },
            "type": "bar"
           }
          ],
          "barpolar": [
           {
            "marker": {
             "line": {
              "color": "#E5ECF6",
              "width": 0.5
             },
             "pattern": {
              "fillmode": "overlay",
              "size": 10,
              "solidity": 0.2
             }
            },
            "type": "barpolar"
           }
          ],
          "carpet": [
           {
            "aaxis": {
             "endlinecolor": "#2a3f5f",
             "gridcolor": "white",
             "linecolor": "white",
             "minorgridcolor": "white",
             "startlinecolor": "#2a3f5f"
            },
            "baxis": {
             "endlinecolor": "#2a3f5f",
             "gridcolor": "white",
             "linecolor": "white",
             "minorgridcolor": "white",
             "startlinecolor": "#2a3f5f"
            },
            "type": "carpet"
           }
          ],
          "choropleth": [
           {
            "colorbar": {
             "outlinewidth": 0,
             "ticks": ""
            },
            "type": "choropleth"
           }
          ],
          "contour": [
           {
            "colorbar": {
             "outlinewidth": 0,
             "ticks": ""
            },
            "colorscale": [
             [
              0,
              "#0d0887"
             ],
             [
              0.1111111111111111,
              "#46039f"
             ],
             [
              0.2222222222222222,
              "#7201a8"
             ],
             [
              0.3333333333333333,
              "#9c179e"
             ],
             [
              0.4444444444444444,
              "#bd3786"
             ],
             [
              0.5555555555555556,
              "#d8576b"
             ],
             [
              0.6666666666666666,
              "#ed7953"
             ],
             [
              0.7777777777777778,
              "#fb9f3a"
             ],
             [
              0.8888888888888888,
              "#fdca26"
             ],
             [
              1,
              "#f0f921"
             ]
            ],
            "type": "contour"
           }
          ],
          "contourcarpet": [
           {
            "colorbar": {
             "outlinewidth": 0,
             "ticks": ""
            },
            "type": "contourcarpet"
           }
          ],
          "heatmap": [
           {
            "colorbar": {
             "outlinewidth": 0,
             "ticks": ""
            },
            "colorscale": [
             [
              0,
              "#0d0887"
             ],
             [
              0.1111111111111111,
              "#46039f"
             ],
             [
              0.2222222222222222,
              "#7201a8"
             ],
             [
              0.3333333333333333,
              "#9c179e"
             ],
             [
              0.4444444444444444,
              "#bd3786"
             ],
             [
              0.5555555555555556,
              "#d8576b"
             ],
             [
              0.6666666666666666,
              "#ed7953"
             ],
             [
              0.7777777777777778,
              "#fb9f3a"
             ],
             [
              0.8888888888888888,
              "#fdca26"
             ],
             [
              1,
              "#f0f921"
             ]
            ],
            "type": "heatmap"
           }
          ],
          "heatmapgl": [
           {
            "colorbar": {
             "outlinewidth": 0,
             "ticks": ""
            },
            "colorscale": [
             [
              0,
              "#0d0887"
             ],
             [
              0.1111111111111111,
              "#46039f"
             ],
             [
              0.2222222222222222,
              "#7201a8"
             ],
             [
              0.3333333333333333,
              "#9c179e"
             ],
             [
              0.4444444444444444,
              "#bd3786"
             ],
             [
              0.5555555555555556,
              "#d8576b"
             ],
             [
              0.6666666666666666,
              "#ed7953"
             ],
             [
              0.7777777777777778,
              "#fb9f3a"
             ],
             [
              0.8888888888888888,
              "#fdca26"
             ],
             [
              1,
              "#f0f921"
             ]
            ],
            "type": "heatmapgl"
           }
          ],
          "histogram": [
           {
            "marker": {
             "pattern": {
              "fillmode": "overlay",
              "size": 10,
              "solidity": 0.2
             }
            },
            "type": "histogram"
           }
          ],
          "histogram2d": [
           {
            "colorbar": {
             "outlinewidth": 0,
             "ticks": ""
            },
            "colorscale": [
             [
              0,
              "#0d0887"
             ],
             [
              0.1111111111111111,
              "#46039f"
             ],
             [
              0.2222222222222222,
              "#7201a8"
             ],
             [
              0.3333333333333333,
              "#9c179e"
             ],
             [
              0.4444444444444444,
              "#bd3786"
             ],
             [
              0.5555555555555556,
              "#d8576b"
             ],
             [
              0.6666666666666666,
              "#ed7953"
             ],
             [
              0.7777777777777778,
              "#fb9f3a"
             ],
             [
              0.8888888888888888,
              "#fdca26"
             ],
             [
              1,
              "#f0f921"
             ]
            ],
            "type": "histogram2d"
           }
          ],
          "histogram2dcontour": [
           {
            "colorbar": {
             "outlinewidth": 0,
             "ticks": ""
            },
            "colorscale": [
             [
              0,
              "#0d0887"
             ],
             [
              0.1111111111111111,
              "#46039f"
             ],
             [
              0.2222222222222222,
              "#7201a8"
             ],
             [
              0.3333333333333333,
              "#9c179e"
             ],
             [
              0.4444444444444444,
              "#bd3786"
             ],
             [
              0.5555555555555556,
              "#d8576b"
             ],
             [
              0.6666666666666666,
              "#ed7953"
             ],
             [
              0.7777777777777778,
              "#fb9f3a"
             ],
             [
              0.8888888888888888,
              "#fdca26"
             ],
             [
              1,
              "#f0f921"
             ]
            ],
            "type": "histogram2dcontour"
           }
          ],
          "mesh3d": [
           {
            "colorbar": {
             "outlinewidth": 0,
             "ticks": ""
            },
            "type": "mesh3d"
           }
          ],
          "parcoords": [
           {
            "line": {
             "colorbar": {
              "outlinewidth": 0,
              "ticks": ""
             }
            },
            "type": "parcoords"
           }
          ],
          "pie": [
           {
            "automargin": true,
            "type": "pie"
           }
          ],
          "scatter": [
           {
            "fillpattern": {
             "fillmode": "overlay",
             "size": 10,
             "solidity": 0.2
            },
            "type": "scatter"
           }
          ],
          "scatter3d": [
           {
            "line": {
             "colorbar": {
              "outlinewidth": 0,
              "ticks": ""
             }
            },
            "marker": {
             "colorbar": {
              "outlinewidth": 0,
              "ticks": ""
             }
            },
            "type": "scatter3d"
           }
          ],
          "scattercarpet": [
           {
            "marker": {
             "colorbar": {
              "outlinewidth": 0,
              "ticks": ""
             }
            },
            "type": "scattercarpet"
           }
          ],
          "scattergeo": [
           {
            "marker": {
             "colorbar": {
              "outlinewidth": 0,
              "ticks": ""
             }
            },
            "type": "scattergeo"
           }
          ],
          "scattergl": [
           {
            "marker": {
             "colorbar": {
              "outlinewidth": 0,
              "ticks": ""
             }
            },
            "type": "scattergl"
           }
          ],
          "scattermapbox": [
           {
            "marker": {
             "colorbar": {
              "outlinewidth": 0,
              "ticks": ""
             }
            },
            "type": "scattermapbox"
           }
          ],
          "scatterpolar": [
           {
            "marker": {
             "colorbar": {
              "outlinewidth": 0,
              "ticks": ""
             }
            },
            "type": "scatterpolar"
           }
          ],
          "scatterpolargl": [
           {
            "marker": {
             "colorbar": {
              "outlinewidth": 0,
              "ticks": ""
             }
            },
            "type": "scatterpolargl"
           }
          ],
          "scatterternary": [
           {
            "marker": {
             "colorbar": {
              "outlinewidth": 0,
              "ticks": ""
             }
            },
            "type": "scatterternary"
           }
          ],
          "surface": [
           {
            "colorbar": {
             "outlinewidth": 0,
             "ticks": ""
            },
            "colorscale": [
             [
              0,
              "#0d0887"
             ],
             [
              0.1111111111111111,
              "#46039f"
             ],
             [
              0.2222222222222222,
              "#7201a8"
             ],
             [
              0.3333333333333333,
              "#9c179e"
             ],
             [
              0.4444444444444444,
              "#bd3786"
             ],
             [
              0.5555555555555556,
              "#d8576b"
             ],
             [
              0.6666666666666666,
              "#ed7953"
             ],
             [
              0.7777777777777778,
              "#fb9f3a"
             ],
             [
              0.8888888888888888,
              "#fdca26"
             ],
             [
              1,
              "#f0f921"
             ]
            ],
            "type": "surface"
           }
          ],
          "table": [
           {
            "cells": {
             "fill": {
              "color": "#EBF0F8"
             },
             "line": {
              "color": "white"
             }
            },
            "header": {
             "fill": {
              "color": "#C8D4E3"
             },
             "line": {
              "color": "white"
             }
            },
            "type": "table"
           }
          ]
         },
         "layout": {
          "annotationdefaults": {
           "arrowcolor": "#2a3f5f",
           "arrowhead": 0,
           "arrowwidth": 1
          },
          "autotypenumbers": "strict",
          "coloraxis": {
           "colorbar": {
            "outlinewidth": 0,
            "ticks": ""
           }
          },
          "colorscale": {
           "diverging": [
            [
             0,
             "#8e0152"
            ],
            [
             0.1,
             "#c51b7d"
            ],
            [
             0.2,
             "#de77ae"
            ],
            [
             0.3,
             "#f1b6da"
            ],
            [
             0.4,
             "#fde0ef"
            ],
            [
             0.5,
             "#f7f7f7"
            ],
            [
             0.6,
             "#e6f5d0"
            ],
            [
             0.7,
             "#b8e186"
            ],
            [
             0.8,
             "#7fbc41"
            ],
            [
             0.9,
             "#4d9221"
            ],
            [
             1,
             "#276419"
            ]
           ],
           "sequential": [
            [
             0,
             "#0d0887"
            ],
            [
             0.1111111111111111,
             "#46039f"
            ],
            [
             0.2222222222222222,
             "#7201a8"
            ],
            [
             0.3333333333333333,
             "#9c179e"
            ],
            [
             0.4444444444444444,
             "#bd3786"
            ],
            [
             0.5555555555555556,
             "#d8576b"
            ],
            [
             0.6666666666666666,
             "#ed7953"
            ],
            [
             0.7777777777777778,
             "#fb9f3a"
            ],
            [
             0.8888888888888888,
             "#fdca26"
            ],
            [
             1,
             "#f0f921"
            ]
           ],
           "sequentialminus": [
            [
             0,
             "#0d0887"
            ],
            [
             0.1111111111111111,
             "#46039f"
            ],
            [
             0.2222222222222222,
             "#7201a8"
            ],
            [
             0.3333333333333333,
             "#9c179e"
            ],
            [
             0.4444444444444444,
             "#bd3786"
            ],
            [
             0.5555555555555556,
             "#d8576b"
            ],
            [
             0.6666666666666666,
             "#ed7953"
            ],
            [
             0.7777777777777778,
             "#fb9f3a"
            ],
            [
             0.8888888888888888,
             "#fdca26"
            ],
            [
             1,
             "#f0f921"
            ]
           ]
          },
          "colorway": [
           "#636efa",
           "#EF553B",
           "#00cc96",
           "#ab63fa",
           "#FFA15A",
           "#19d3f3",
           "#FF6692",
           "#B6E880",
           "#FF97FF",
           "#FECB52"
          ],
          "font": {
           "color": "#2a3f5f"
          },
          "geo": {
           "bgcolor": "white",
           "lakecolor": "white",
           "landcolor": "#E5ECF6",
           "showlakes": true,
           "showland": true,
           "subunitcolor": "white"
          },
          "hoverlabel": {
           "align": "left"
          },
          "hovermode": "closest",
          "mapbox": {
           "style": "light"
          },
          "paper_bgcolor": "white",
          "plot_bgcolor": "#E5ECF6",
          "polar": {
           "angularaxis": {
            "gridcolor": "white",
            "linecolor": "white",
            "ticks": ""
           },
           "bgcolor": "#E5ECF6",
           "radialaxis": {
            "gridcolor": "white",
            "linecolor": "white",
            "ticks": ""
           }
          },
          "scene": {
           "xaxis": {
            "backgroundcolor": "#E5ECF6",
            "gridcolor": "white",
            "gridwidth": 2,
            "linecolor": "white",
            "showbackground": true,
            "ticks": "",
            "zerolinecolor": "white"
           },
           "yaxis": {
            "backgroundcolor": "#E5ECF6",
            "gridcolor": "white",
            "gridwidth": 2,
            "linecolor": "white",
            "showbackground": true,
            "ticks": "",
            "zerolinecolor": "white"
           },
           "zaxis": {
            "backgroundcolor": "#E5ECF6",
            "gridcolor": "white",
            "gridwidth": 2,
            "linecolor": "white",
            "showbackground": true,
            "ticks": "",
            "zerolinecolor": "white"
           }
          },
          "shapedefaults": {
           "line": {
            "color": "#2a3f5f"
           }
          },
          "ternary": {
           "aaxis": {
            "gridcolor": "white",
            "linecolor": "white",
            "ticks": ""
           },
           "baxis": {
            "gridcolor": "white",
            "linecolor": "white",
            "ticks": ""
           },
           "bgcolor": "#E5ECF6",
           "caxis": {
            "gridcolor": "white",
            "linecolor": "white",
            "ticks": ""
           }
          },
          "title": {
           "x": 0.05
          },
          "xaxis": {
           "automargin": true,
           "gridcolor": "white",
           "linecolor": "white",
           "ticks": "",
           "title": {
            "standoff": 15
           },
           "zerolinecolor": "white",
           "zerolinewidth": 2
          },
          "yaxis": {
           "automargin": true,
           "gridcolor": "white",
           "linecolor": "white",
           "ticks": "",
           "title": {
            "standoff": 15
           },
           "zerolinecolor": "white",
           "zerolinewidth": 2
          }
         }
        },
        "xaxis": {
         "anchor": "y",
         "domain": [
          0,
          1
         ],
         "title": {
          "text": "day"
         }
        },
        "yaxis": {
         "anchor": "x",
         "domain": [
          0,
          1
         ],
         "title": {
          "text": "tip"
         }
        }
       }
      }
     },
     "metadata": {},
     "output_type": "display_data"
    }
   ],
   "source": [
    "fig = px.box(df,x='day',y= 'tip',color ='sex')\n",
    "fig.show()"
   ]
  },
  {
   "cell_type": "code",
   "execution_count": 43,
   "metadata": {},
   "outputs": [
    {
     "data": {
      "application/vnd.plotly.v1+json": {
       "config": {
        "plotlyServerURL": "https://plot.ly"
       },
       "data": [
        {
         "alignmentgroup": "True",
         "bingroup": "x",
         "histfunc": "sum",
         "hovertemplate": "total_bill=%{x}<br>sum of tip=%{y}<extra></extra>",
         "legendgroup": "",
         "marker": {
          "color": "#636efa",
          "pattern": {
           "shape": ""
          }
         },
         "name": "",
         "nbinsx": 20,
         "offsetgroup": "",
         "orientation": "v",
         "showlegend": false,
         "type": "histogram",
         "x": [
          16.99,
          10.34,
          21.01,
          23.68,
          24.59,
          25.29,
          8.77,
          26.88,
          15.04,
          14.78,
          10.27,
          35.26,
          15.42,
          18.43,
          14.83,
          21.58,
          10.33,
          16.29,
          16.97,
          20.65,
          17.92,
          20.29,
          15.77,
          39.42,
          19.82,
          17.81,
          13.37,
          12.69,
          21.7,
          19.65,
          9.55,
          18.35,
          15.06,
          20.69,
          17.78,
          24.06,
          16.31,
          16.93,
          18.69,
          31.27,
          16.04,
          17.46,
          13.94,
          9.68,
          30.4,
          18.29,
          22.23,
          32.4,
          28.55,
          18.04,
          12.54,
          10.29,
          34.81,
          9.94,
          25.56,
          19.49,
          38.01,
          26.41,
          11.24,
          48.27,
          20.29,
          13.81,
          11.02,
          18.29,
          17.59,
          20.08,
          16.45,
          3.07,
          20.23,
          15.01,
          12.02,
          17.07,
          26.86,
          25.28,
          14.73,
          10.51,
          17.92,
          27.2,
          22.76,
          17.29,
          19.44,
          16.66,
          10.07,
          32.68,
          15.98,
          34.83,
          13.03,
          18.28,
          24.71,
          21.16,
          28.97,
          22.49,
          5.75,
          16.32,
          22.75,
          40.17,
          27.28,
          12.03,
          21.01,
          12.46,
          11.35,
          15.38,
          44.3,
          22.42,
          20.92,
          15.36,
          20.49,
          25.21,
          18.24,
          14.31,
          14,
          7.25,
          38.07,
          23.95,
          25.71,
          17.31,
          29.93,
          10.65,
          12.43,
          24.08,
          11.69,
          13.42,
          14.26,
          15.95,
          12.48,
          29.8,
          8.52,
          14.52,
          11.38,
          22.82,
          19.08,
          20.27,
          11.17,
          12.26,
          18.26,
          8.51,
          10.33,
          14.15,
          16,
          13.16,
          17.47,
          34.3,
          41.19,
          27.05,
          16.43,
          8.35,
          18.64,
          11.87,
          9.78,
          7.51,
          14.07,
          13.13,
          17.26,
          24.55,
          19.77,
          29.85,
          48.17,
          25,
          13.39,
          16.49,
          21.5,
          12.66,
          16.21,
          13.81,
          17.51,
          24.52,
          20.76,
          31.71,
          10.59,
          10.63,
          50.81,
          15.81,
          7.25,
          31.85,
          16.82,
          32.9,
          17.89,
          14.48,
          9.6,
          34.63,
          34.65,
          23.33,
          45.35,
          23.17,
          40.55,
          20.69,
          20.9,
          30.46,
          18.15,
          23.1,
          15.69,
          19.81,
          28.44,
          15.48,
          16.58,
          7.56,
          10.34,
          43.11,
          13,
          13.51,
          18.71,
          12.74,
          13,
          16.4,
          20.53,
          16.47,
          26.59,
          38.73,
          24.27,
          12.76,
          30.06,
          25.89,
          48.33,
          13.27,
          28.17,
          12.9,
          28.15,
          11.59,
          7.74,
          30.14,
          12.16,
          13.42,
          8.58,
          15.98,
          13.42,
          16.27,
          10.09,
          20.45,
          13.28,
          22.12,
          24.01,
          15.69,
          11.61,
          10.77,
          15.53,
          10.07,
          12.6,
          32.83,
          35.83,
          29.03,
          27.18,
          22.67,
          17.82,
          18.78
         ],
         "xaxis": "x",
         "y": [
          1.01,
          1.66,
          3.5,
          3.31,
          3.61,
          4.71,
          2,
          3.12,
          1.96,
          3.23,
          1.71,
          5,
          1.57,
          3,
          3.02,
          3.92,
          1.67,
          3.71,
          3.5,
          3.35,
          4.08,
          2.75,
          2.23,
          7.58,
          3.18,
          2.34,
          2,
          2,
          4.3,
          3,
          1.45,
          2.5,
          3,
          2.45,
          3.27,
          3.6,
          2,
          3.07,
          2.31,
          5,
          2.24,
          2.54,
          3.06,
          1.32,
          5.6,
          3,
          5,
          6,
          2.05,
          3,
          2.5,
          2.6,
          5.2,
          1.56,
          4.34,
          3.51,
          3,
          1.5,
          1.76,
          6.73,
          3.21,
          2,
          1.98,
          3.76,
          2.64,
          3.15,
          2.47,
          1,
          2.01,
          2.09,
          1.97,
          3,
          3.14,
          5,
          2.2,
          1.25,
          3.08,
          4,
          3,
          2.71,
          3,
          3.4,
          1.83,
          5,
          2.03,
          5.17,
          2,
          4,
          5.85,
          3,
          3,
          3.5,
          1,
          4.3,
          3.25,
          4.73,
          4,
          1.5,
          3,
          1.5,
          2.5,
          3,
          2.5,
          3.48,
          4.08,
          1.64,
          4.06,
          4.29,
          3.76,
          4,
          3,
          1,
          4,
          2.55,
          4,
          3.5,
          5.07,
          1.5,
          1.8,
          2.92,
          2.31,
          1.68,
          2.5,
          2,
          2.52,
          4.2,
          1.48,
          2,
          2,
          2.18,
          1.5,
          2.83,
          1.5,
          2,
          3.25,
          1.25,
          2,
          2,
          2,
          2.75,
          3.5,
          6.7,
          5,
          5,
          2.3,
          1.5,
          1.36,
          1.63,
          1.73,
          2,
          2.5,
          2,
          2.74,
          2,
          2,
          5.14,
          5,
          3.75,
          2.61,
          2,
          3.5,
          2.5,
          2,
          2,
          3,
          3.48,
          2.24,
          4.5,
          1.61,
          2,
          10,
          3.16,
          5.15,
          3.18,
          4,
          3.11,
          2,
          2,
          4,
          3.55,
          3.68,
          5.65,
          3.5,
          6.5,
          3,
          5,
          3.5,
          2,
          3.5,
          4,
          1.5,
          4.19,
          2.56,
          2.02,
          4,
          1.44,
          2,
          5,
          2,
          2,
          4,
          2.01,
          2,
          2.5,
          4,
          3.23,
          3.41,
          3,
          2.03,
          2.23,
          2,
          5.16,
          9,
          2.5,
          6.5,
          1.1,
          3,
          1.5,
          1.44,
          3.09,
          2.2,
          3.48,
          1.92,
          3,
          1.58,
          2.5,
          2,
          3,
          2.72,
          2.88,
          2,
          3,
          3.39,
          1.47,
          3,
          1.25,
          1,
          1.17,
          4.67,
          5.92,
          2,
          2,
          1.75,
          3
         ],
         "yaxis": "y"
        }
       ],
       "layout": {
        "barmode": "relative",
        "legend": {
         "tracegroupgap": 0
        },
        "margin": {
         "t": 60
        },
        "template": {
         "data": {
          "bar": [
           {
            "error_x": {
             "color": "#2a3f5f"
            },
            "error_y": {
             "color": "#2a3f5f"
            },
            "marker": {
             "line": {
              "color": "#E5ECF6",
              "width": 0.5
             },
             "pattern": {
              "fillmode": "overlay",
              "size": 10,
              "solidity": 0.2
             }
            },
            "type": "bar"
           }
          ],
          "barpolar": [
           {
            "marker": {
             "line": {
              "color": "#E5ECF6",
              "width": 0.5
             },
             "pattern": {
              "fillmode": "overlay",
              "size": 10,
              "solidity": 0.2
             }
            },
            "type": "barpolar"
           }
          ],
          "carpet": [
           {
            "aaxis": {
             "endlinecolor": "#2a3f5f",
             "gridcolor": "white",
             "linecolor": "white",
             "minorgridcolor": "white",
             "startlinecolor": "#2a3f5f"
            },
            "baxis": {
             "endlinecolor": "#2a3f5f",
             "gridcolor": "white",
             "linecolor": "white",
             "minorgridcolor": "white",
             "startlinecolor": "#2a3f5f"
            },
            "type": "carpet"
           }
          ],
          "choropleth": [
           {
            "colorbar": {
             "outlinewidth": 0,
             "ticks": ""
            },
            "type": "choropleth"
           }
          ],
          "contour": [
           {
            "colorbar": {
             "outlinewidth": 0,
             "ticks": ""
            },
            "colorscale": [
             [
              0,
              "#0d0887"
             ],
             [
              0.1111111111111111,
              "#46039f"
             ],
             [
              0.2222222222222222,
              "#7201a8"
             ],
             [
              0.3333333333333333,
              "#9c179e"
             ],
             [
              0.4444444444444444,
              "#bd3786"
             ],
             [
              0.5555555555555556,
              "#d8576b"
             ],
             [
              0.6666666666666666,
              "#ed7953"
             ],
             [
              0.7777777777777778,
              "#fb9f3a"
             ],
             [
              0.8888888888888888,
              "#fdca26"
             ],
             [
              1,
              "#f0f921"
             ]
            ],
            "type": "contour"
           }
          ],
          "contourcarpet": [
           {
            "colorbar": {
             "outlinewidth": 0,
             "ticks": ""
            },
            "type": "contourcarpet"
           }
          ],
          "heatmap": [
           {
            "colorbar": {
             "outlinewidth": 0,
             "ticks": ""
            },
            "colorscale": [
             [
              0,
              "#0d0887"
             ],
             [
              0.1111111111111111,
              "#46039f"
             ],
             [
              0.2222222222222222,
              "#7201a8"
             ],
             [
              0.3333333333333333,
              "#9c179e"
             ],
             [
              0.4444444444444444,
              "#bd3786"
             ],
             [
              0.5555555555555556,
              "#d8576b"
             ],
             [
              0.6666666666666666,
              "#ed7953"
             ],
             [
              0.7777777777777778,
              "#fb9f3a"
             ],
             [
              0.8888888888888888,
              "#fdca26"
             ],
             [
              1,
              "#f0f921"
             ]
            ],
            "type": "heatmap"
           }
          ],
          "heatmapgl": [
           {
            "colorbar": {
             "outlinewidth": 0,
             "ticks": ""
            },
            "colorscale": [
             [
              0,
              "#0d0887"
             ],
             [
              0.1111111111111111,
              "#46039f"
             ],
             [
              0.2222222222222222,
              "#7201a8"
             ],
             [
              0.3333333333333333,
              "#9c179e"
             ],
             [
              0.4444444444444444,
              "#bd3786"
             ],
             [
              0.5555555555555556,
              "#d8576b"
             ],
             [
              0.6666666666666666,
              "#ed7953"
             ],
             [
              0.7777777777777778,
              "#fb9f3a"
             ],
             [
              0.8888888888888888,
              "#fdca26"
             ],
             [
              1,
              "#f0f921"
             ]
            ],
            "type": "heatmapgl"
           }
          ],
          "histogram": [
           {
            "marker": {
             "pattern": {
              "fillmode": "overlay",
              "size": 10,
              "solidity": 0.2
             }
            },
            "type": "histogram"
           }
          ],
          "histogram2d": [
           {
            "colorbar": {
             "outlinewidth": 0,
             "ticks": ""
            },
            "colorscale": [
             [
              0,
              "#0d0887"
             ],
             [
              0.1111111111111111,
              "#46039f"
             ],
             [
              0.2222222222222222,
              "#7201a8"
             ],
             [
              0.3333333333333333,
              "#9c179e"
             ],
             [
              0.4444444444444444,
              "#bd3786"
             ],
             [
              0.5555555555555556,
              "#d8576b"
             ],
             [
              0.6666666666666666,
              "#ed7953"
             ],
             [
              0.7777777777777778,
              "#fb9f3a"
             ],
             [
              0.8888888888888888,
              "#fdca26"
             ],
             [
              1,
              "#f0f921"
             ]
            ],
            "type": "histogram2d"
           }
          ],
          "histogram2dcontour": [
           {
            "colorbar": {
             "outlinewidth": 0,
             "ticks": ""
            },
            "colorscale": [
             [
              0,
              "#0d0887"
             ],
             [
              0.1111111111111111,
              "#46039f"
             ],
             [
              0.2222222222222222,
              "#7201a8"
             ],
             [
              0.3333333333333333,
              "#9c179e"
             ],
             [
              0.4444444444444444,
              "#bd3786"
             ],
             [
              0.5555555555555556,
              "#d8576b"
             ],
             [
              0.6666666666666666,
              "#ed7953"
             ],
             [
              0.7777777777777778,
              "#fb9f3a"
             ],
             [
              0.8888888888888888,
              "#fdca26"
             ],
             [
              1,
              "#f0f921"
             ]
            ],
            "type": "histogram2dcontour"
           }
          ],
          "mesh3d": [
           {
            "colorbar": {
             "outlinewidth": 0,
             "ticks": ""
            },
            "type": "mesh3d"
           }
          ],
          "parcoords": [
           {
            "line": {
             "colorbar": {
              "outlinewidth": 0,
              "ticks": ""
             }
            },
            "type": "parcoords"
           }
          ],
          "pie": [
           {
            "automargin": true,
            "type": "pie"
           }
          ],
          "scatter": [
           {
            "fillpattern": {
             "fillmode": "overlay",
             "size": 10,
             "solidity": 0.2
            },
            "type": "scatter"
           }
          ],
          "scatter3d": [
           {
            "line": {
             "colorbar": {
              "outlinewidth": 0,
              "ticks": ""
             }
            },
            "marker": {
             "colorbar": {
              "outlinewidth": 0,
              "ticks": ""
             }
            },
            "type": "scatter3d"
           }
          ],
          "scattercarpet": [
           {
            "marker": {
             "colorbar": {
              "outlinewidth": 0,
              "ticks": ""
             }
            },
            "type": "scattercarpet"
           }
          ],
          "scattergeo": [
           {
            "marker": {
             "colorbar": {
              "outlinewidth": 0,
              "ticks": ""
             }
            },
            "type": "scattergeo"
           }
          ],
          "scattergl": [
           {
            "marker": {
             "colorbar": {
              "outlinewidth": 0,
              "ticks": ""
             }
            },
            "type": "scattergl"
           }
          ],
          "scattermapbox": [
           {
            "marker": {
             "colorbar": {
              "outlinewidth": 0,
              "ticks": ""
             }
            },
            "type": "scattermapbox"
           }
          ],
          "scatterpolar": [
           {
            "marker": {
             "colorbar": {
              "outlinewidth": 0,
              "ticks": ""
             }
            },
            "type": "scatterpolar"
           }
          ],
          "scatterpolargl": [
           {
            "marker": {
             "colorbar": {
              "outlinewidth": 0,
              "ticks": ""
             }
            },
            "type": "scatterpolargl"
           }
          ],
          "scatterternary": [
           {
            "marker": {
             "colorbar": {
              "outlinewidth": 0,
              "ticks": ""
             }
            },
            "type": "scatterternary"
           }
          ],
          "surface": [
           {
            "colorbar": {
             "outlinewidth": 0,
             "ticks": ""
            },
            "colorscale": [
             [
              0,
              "#0d0887"
             ],
             [
              0.1111111111111111,
              "#46039f"
             ],
             [
              0.2222222222222222,
              "#7201a8"
             ],
             [
              0.3333333333333333,
              "#9c179e"
             ],
             [
              0.4444444444444444,
              "#bd3786"
             ],
             [
              0.5555555555555556,
              "#d8576b"
             ],
             [
              0.6666666666666666,
              "#ed7953"
             ],
             [
              0.7777777777777778,
              "#fb9f3a"
             ],
             [
              0.8888888888888888,
              "#fdca26"
             ],
             [
              1,
              "#f0f921"
             ]
            ],
            "type": "surface"
           }
          ],
          "table": [
           {
            "cells": {
             "fill": {
              "color": "#EBF0F8"
             },
             "line": {
              "color": "white"
             }
            },
            "header": {
             "fill": {
              "color": "#C8D4E3"
             },
             "line": {
              "color": "white"
             }
            },
            "type": "table"
           }
          ]
         },
         "layout": {
          "annotationdefaults": {
           "arrowcolor": "#2a3f5f",
           "arrowhead": 0,
           "arrowwidth": 1
          },
          "autotypenumbers": "strict",
          "coloraxis": {
           "colorbar": {
            "outlinewidth": 0,
            "ticks": ""
           }
          },
          "colorscale": {
           "diverging": [
            [
             0,
             "#8e0152"
            ],
            [
             0.1,
             "#c51b7d"
            ],
            [
             0.2,
             "#de77ae"
            ],
            [
             0.3,
             "#f1b6da"
            ],
            [
             0.4,
             "#fde0ef"
            ],
            [
             0.5,
             "#f7f7f7"
            ],
            [
             0.6,
             "#e6f5d0"
            ],
            [
             0.7,
             "#b8e186"
            ],
            [
             0.8,
             "#7fbc41"
            ],
            [
             0.9,
             "#4d9221"
            ],
            [
             1,
             "#276419"
            ]
           ],
           "sequential": [
            [
             0,
             "#0d0887"
            ],
            [
             0.1111111111111111,
             "#46039f"
            ],
            [
             0.2222222222222222,
             "#7201a8"
            ],
            [
             0.3333333333333333,
             "#9c179e"
            ],
            [
             0.4444444444444444,
             "#bd3786"
            ],
            [
             0.5555555555555556,
             "#d8576b"
            ],
            [
             0.6666666666666666,
             "#ed7953"
            ],
            [
             0.7777777777777778,
             "#fb9f3a"
            ],
            [
             0.8888888888888888,
             "#fdca26"
            ],
            [
             1,
             "#f0f921"
            ]
           ],
           "sequentialminus": [
            [
             0,
             "#0d0887"
            ],
            [
             0.1111111111111111,
             "#46039f"
            ],
            [
             0.2222222222222222,
             "#7201a8"
            ],
            [
             0.3333333333333333,
             "#9c179e"
            ],
            [
             0.4444444444444444,
             "#bd3786"
            ],
            [
             0.5555555555555556,
             "#d8576b"
            ],
            [
             0.6666666666666666,
             "#ed7953"
            ],
            [
             0.7777777777777778,
             "#fb9f3a"
            ],
            [
             0.8888888888888888,
             "#fdca26"
            ],
            [
             1,
             "#f0f921"
            ]
           ]
          },
          "colorway": [
           "#636efa",
           "#EF553B",
           "#00cc96",
           "#ab63fa",
           "#FFA15A",
           "#19d3f3",
           "#FF6692",
           "#B6E880",
           "#FF97FF",
           "#FECB52"
          ],
          "font": {
           "color": "#2a3f5f"
          },
          "geo": {
           "bgcolor": "white",
           "lakecolor": "white",
           "landcolor": "#E5ECF6",
           "showlakes": true,
           "showland": true,
           "subunitcolor": "white"
          },
          "hoverlabel": {
           "align": "left"
          },
          "hovermode": "closest",
          "mapbox": {
           "style": "light"
          },
          "paper_bgcolor": "white",
          "plot_bgcolor": "#E5ECF6",
          "polar": {
           "angularaxis": {
            "gridcolor": "white",
            "linecolor": "white",
            "ticks": ""
           },
           "bgcolor": "#E5ECF6",
           "radialaxis": {
            "gridcolor": "white",
            "linecolor": "white",
            "ticks": ""
           }
          },
          "scene": {
           "xaxis": {
            "backgroundcolor": "#E5ECF6",
            "gridcolor": "white",
            "gridwidth": 2,
            "linecolor": "white",
            "showbackground": true,
            "ticks": "",
            "zerolinecolor": "white"
           },
           "yaxis": {
            "backgroundcolor": "#E5ECF6",
            "gridcolor": "white",
            "gridwidth": 2,
            "linecolor": "white",
            "showbackground": true,
            "ticks": "",
            "zerolinecolor": "white"
           },
           "zaxis": {
            "backgroundcolor": "#E5ECF6",
            "gridcolor": "white",
            "gridwidth": 2,
            "linecolor": "white",
            "showbackground": true,
            "ticks": "",
            "zerolinecolor": "white"
           }
          },
          "shapedefaults": {
           "line": {
            "color": "#2a3f5f"
           }
          },
          "ternary": {
           "aaxis": {
            "gridcolor": "white",
            "linecolor": "white",
            "ticks": ""
           },
           "baxis": {
            "gridcolor": "white",
            "linecolor": "white",
            "ticks": ""
           },
           "bgcolor": "#E5ECF6",
           "caxis": {
            "gridcolor": "white",
            "linecolor": "white",
            "ticks": ""
           }
          },
          "title": {
           "x": 0.05
          },
          "xaxis": {
           "automargin": true,
           "gridcolor": "white",
           "linecolor": "white",
           "ticks": "",
           "title": {
            "standoff": 15
           },
           "zerolinecolor": "white",
           "zerolinewidth": 2
          },
          "yaxis": {
           "automargin": true,
           "gridcolor": "white",
           "linecolor": "white",
           "ticks": "",
           "title": {
            "standoff": 15
           },
           "zerolinecolor": "white",
           "zerolinewidth": 2
          }
         }
        },
        "xaxis": {
         "anchor": "y",
         "domain": [
          0,
          1
         ],
         "title": {
          "text": "total_bill"
         }
        },
        "yaxis": {
         "anchor": "x",
         "domain": [
          0,
          1
         ],
         "title": {
          "text": "sum of tip"
         }
        }
       }
      }
     },
     "metadata": {},
     "output_type": "display_data"
    }
   ],
   "source": [
    "fig = px.histogram(df,x='total_bill',y= 'tip',nbins=20)\n",
    "fig.show()"
   ]
  },
  {
   "cell_type": "code",
   "execution_count": 44,
   "metadata": {},
   "outputs": [
    {
     "data": {
      "application/vnd.plotly.v1+json": {
       "config": {
        "plotlyServerURL": "https://plot.ly"
       },
       "data": [
        {
         "alignmentgroup": "True",
         "box": {
          "visible": true
         },
         "hovertemplate": "sex=Female<br>day=%{x}<br>total_bill=%{y}<extra></extra>",
         "legendgroup": "Female",
         "marker": {
          "color": "#636efa"
         },
         "name": "Female",
         "offsetgroup": "Female",
         "orientation": "v",
         "points": "all",
         "scalegroup": "True",
         "showlegend": true,
         "type": "violin",
         "x": [
          "Sun",
          "Sun",
          "Sun",
          "Sun",
          "Sun",
          "Sun",
          "Sat",
          "Sat",
          "Sat",
          "Sat",
          "Sat",
          "Sat",
          "Sun",
          "Sun",
          "Sat",
          "Sat",
          "Sat",
          "Sat",
          "Sat",
          "Sat",
          "Sat",
          "Thur",
          "Thur",
          "Fri",
          "Fri",
          "Fri",
          "Fri",
          "Fri",
          "Sat",
          "Sat",
          "Sat",
          "Sat",
          "Sat",
          "Sun",
          "Sun",
          "Thur",
          "Thur",
          "Thur",
          "Thur",
          "Thur",
          "Thur",
          "Thur",
          "Thur",
          "Thur",
          "Thur",
          "Thur",
          "Thur",
          "Thur",
          "Thur",
          "Thur",
          "Thur",
          "Thur",
          "Thur",
          "Thur",
          "Thur",
          "Thur",
          "Thur",
          "Sun",
          "Sun",
          "Sun",
          "Sun",
          "Sun",
          "Sat",
          "Sat",
          "Sun",
          "Sun",
          "Sun",
          "Thur",
          "Thur",
          "Thur",
          "Thur",
          "Thur",
          "Thur",
          "Thur",
          "Sat",
          "Sat",
          "Sat",
          "Sat",
          "Sat",
          "Fri",
          "Fri",
          "Fri",
          "Fri",
          "Sat",
          "Sat",
          "Sat",
          "Thur"
         ],
         "x0": " ",
         "xaxis": "x",
         "y": [
          16.99,
          24.59,
          35.26,
          14.83,
          10.33,
          16.97,
          20.29,
          15.77,
          19.65,
          15.06,
          20.69,
          16.93,
          10.29,
          34.81,
          26.41,
          16.45,
          3.07,
          17.07,
          26.86,
          25.28,
          14.73,
          10.07,
          34.83,
          5.75,
          16.32,
          22.75,
          11.35,
          15.38,
          44.3,
          22.42,
          20.92,
          14.31,
          7.25,
          25.71,
          17.31,
          10.65,
          12.43,
          24.08,
          13.42,
          12.48,
          29.8,
          14.52,
          11.38,
          20.27,
          11.17,
          12.26,
          18.26,
          8.51,
          10.33,
          14.15,
          13.16,
          17.47,
          27.05,
          16.43,
          8.35,
          18.64,
          11.87,
          29.85,
          25,
          13.39,
          16.21,
          17.51,
          10.59,
          10.63,
          9.6,
          20.9,
          18.15,
          19.81,
          43.11,
          13,
          12.74,
          13,
          16.4,
          16.47,
          12.76,
          13.27,
          28.17,
          12.9,
          30.14,
          13.42,
          15.98,
          16.27,
          10.09,
          22.12,
          35.83,
          27.18,
          18.78
         ],
         "y0": " ",
         "yaxis": "y"
        },
        {
         "alignmentgroup": "True",
         "box": {
          "visible": true
         },
         "hovertemplate": "sex=Male<br>day=%{x}<br>total_bill=%{y}<extra></extra>",
         "legendgroup": "Male",
         "marker": {
          "color": "#EF553B"
         },
         "name": "Male",
         "offsetgroup": "Male",
         "orientation": "v",
         "points": "all",
         "scalegroup": "True",
         "showlegend": true,
         "type": "violin",
         "x": [
          "Sun",
          "Sun",
          "Sun",
          "Sun",
          "Sun",
          "Sun",
          "Sun",
          "Sun",
          "Sun",
          "Sun",
          "Sun",
          "Sun",
          "Sun",
          "Sat",
          "Sat",
          "Sat",
          "Sat",
          "Sat",
          "Sat",
          "Sat",
          "Sat",
          "Sat",
          "Sat",
          "Sat",
          "Sat",
          "Sat",
          "Sat",
          "Sat",
          "Sat",
          "Sun",
          "Sun",
          "Sun",
          "Sun",
          "Sun",
          "Sun",
          "Sun",
          "Sun",
          "Sun",
          "Sun",
          "Sun",
          "Sun",
          "Sun",
          "Sat",
          "Sat",
          "Sat",
          "Sat",
          "Sat",
          "Sat",
          "Sat",
          "Sat",
          "Sat",
          "Sat",
          "Sat",
          "Sat",
          "Sat",
          "Sat",
          "Thur",
          "Thur",
          "Thur",
          "Thur",
          "Thur",
          "Thur",
          "Thur",
          "Thur",
          "Thur",
          "Thur",
          "Thur",
          "Fri",
          "Fri",
          "Fri",
          "Fri",
          "Fri",
          "Fri",
          "Fri",
          "Sat",
          "Sat",
          "Sat",
          "Sat",
          "Sat",
          "Sun",
          "Sun",
          "Sun",
          "Thur",
          "Thur",
          "Thur",
          "Thur",
          "Thur",
          "Thur",
          "Thur",
          "Thur",
          "Thur",
          "Thur",
          "Thur",
          "Sun",
          "Sun",
          "Sun",
          "Sun",
          "Sun",
          "Sun",
          "Sun",
          "Sun",
          "Sun",
          "Sun",
          "Sun",
          "Sun",
          "Sun",
          "Sat",
          "Sat",
          "Sun",
          "Sun",
          "Sun",
          "Sun",
          "Sun",
          "Sun",
          "Sun",
          "Sun",
          "Sun",
          "Sun",
          "Sun",
          "Sun",
          "Sun",
          "Sun",
          "Sun",
          "Sun",
          "Thur",
          "Thur",
          "Thur",
          "Thur",
          "Thur",
          "Thur",
          "Thur",
          "Thur",
          "Sat",
          "Sat",
          "Sat",
          "Sat",
          "Sat",
          "Sat",
          "Sat",
          "Sat",
          "Sat",
          "Fri",
          "Fri",
          "Fri",
          "Sat",
          "Sat",
          "Sat",
          "Sat",
          "Sat",
          "Sat",
          "Sat",
          "Sat",
          "Sat",
          "Sat",
          "Sat",
          "Sat",
          "Sat"
         ],
         "x0": " ",
         "xaxis": "x",
         "y": [
          10.34,
          21.01,
          23.68,
          25.29,
          8.77,
          26.88,
          15.04,
          14.78,
          10.27,
          15.42,
          18.43,
          21.58,
          16.29,
          20.65,
          17.92,
          39.42,
          19.82,
          17.81,
          13.37,
          12.69,
          21.7,
          9.55,
          18.35,
          17.78,
          24.06,
          16.31,
          18.69,
          31.27,
          16.04,
          17.46,
          13.94,
          9.68,
          30.4,
          18.29,
          22.23,
          32.4,
          28.55,
          18.04,
          12.54,
          9.94,
          25.56,
          19.49,
          38.01,
          11.24,
          48.27,
          20.29,
          13.81,
          11.02,
          18.29,
          17.59,
          20.08,
          20.23,
          15.01,
          12.02,
          10.51,
          17.92,
          27.2,
          22.76,
          17.29,
          19.44,
          16.66,
          32.68,
          15.98,
          13.03,
          18.28,
          24.71,
          21.16,
          28.97,
          22.49,
          40.17,
          27.28,
          12.03,
          21.01,
          12.46,
          15.36,
          20.49,
          25.21,
          18.24,
          14,
          38.07,
          23.95,
          29.93,
          11.69,
          14.26,
          15.95,
          8.52,
          22.82,
          19.08,
          16,
          34.3,
          41.19,
          9.78,
          7.51,
          14.07,
          13.13,
          17.26,
          24.55,
          19.77,
          48.17,
          16.49,
          21.5,
          12.66,
          13.81,
          24.52,
          20.76,
          31.71,
          50.81,
          15.81,
          7.25,
          31.85,
          16.82,
          32.9,
          17.89,
          14.48,
          34.63,
          34.65,
          23.33,
          45.35,
          23.17,
          40.55,
          20.69,
          30.46,
          23.1,
          15.69,
          28.44,
          15.48,
          16.58,
          7.56,
          10.34,
          13.51,
          18.71,
          20.53,
          26.59,
          38.73,
          24.27,
          30.06,
          25.89,
          48.33,
          28.15,
          11.59,
          7.74,
          12.16,
          8.58,
          13.42,
          20.45,
          13.28,
          24.01,
          15.69,
          11.61,
          10.77,
          15.53,
          10.07,
          12.6,
          32.83,
          29.03,
          22.67,
          17.82
         ],
         "y0": " ",
         "yaxis": "y"
        }
       ],
       "layout": {
        "legend": {
         "title": {
          "text": "sex"
         },
         "tracegroupgap": 0
        },
        "margin": {
         "t": 60
        },
        "template": {
         "data": {
          "bar": [
           {
            "error_x": {
             "color": "#2a3f5f"
            },
            "error_y": {
             "color": "#2a3f5f"
            },
            "marker": {
             "line": {
              "color": "#E5ECF6",
              "width": 0.5
             },
             "pattern": {
              "fillmode": "overlay",
              "size": 10,
              "solidity": 0.2
             }
            },
            "type": "bar"
           }
          ],
          "barpolar": [
           {
            "marker": {
             "line": {
              "color": "#E5ECF6",
              "width": 0.5
             },
             "pattern": {
              "fillmode": "overlay",
              "size": 10,
              "solidity": 0.2
             }
            },
            "type": "barpolar"
           }
          ],
          "carpet": [
           {
            "aaxis": {
             "endlinecolor": "#2a3f5f",
             "gridcolor": "white",
             "linecolor": "white",
             "minorgridcolor": "white",
             "startlinecolor": "#2a3f5f"
            },
            "baxis": {
             "endlinecolor": "#2a3f5f",
             "gridcolor": "white",
             "linecolor": "white",
             "minorgridcolor": "white",
             "startlinecolor": "#2a3f5f"
            },
            "type": "carpet"
           }
          ],
          "choropleth": [
           {
            "colorbar": {
             "outlinewidth": 0,
             "ticks": ""
            },
            "type": "choropleth"
           }
          ],
          "contour": [
           {
            "colorbar": {
             "outlinewidth": 0,
             "ticks": ""
            },
            "colorscale": [
             [
              0,
              "#0d0887"
             ],
             [
              0.1111111111111111,
              "#46039f"
             ],
             [
              0.2222222222222222,
              "#7201a8"
             ],
             [
              0.3333333333333333,
              "#9c179e"
             ],
             [
              0.4444444444444444,
              "#bd3786"
             ],
             [
              0.5555555555555556,
              "#d8576b"
             ],
             [
              0.6666666666666666,
              "#ed7953"
             ],
             [
              0.7777777777777778,
              "#fb9f3a"
             ],
             [
              0.8888888888888888,
              "#fdca26"
             ],
             [
              1,
              "#f0f921"
             ]
            ],
            "type": "contour"
           }
          ],
          "contourcarpet": [
           {
            "colorbar": {
             "outlinewidth": 0,
             "ticks": ""
            },
            "type": "contourcarpet"
           }
          ],
          "heatmap": [
           {
            "colorbar": {
             "outlinewidth": 0,
             "ticks": ""
            },
            "colorscale": [
             [
              0,
              "#0d0887"
             ],
             [
              0.1111111111111111,
              "#46039f"
             ],
             [
              0.2222222222222222,
              "#7201a8"
             ],
             [
              0.3333333333333333,
              "#9c179e"
             ],
             [
              0.4444444444444444,
              "#bd3786"
             ],
             [
              0.5555555555555556,
              "#d8576b"
             ],
             [
              0.6666666666666666,
              "#ed7953"
             ],
             [
              0.7777777777777778,
              "#fb9f3a"
             ],
             [
              0.8888888888888888,
              "#fdca26"
             ],
             [
              1,
              "#f0f921"
             ]
            ],
            "type": "heatmap"
           }
          ],
          "heatmapgl": [
           {
            "colorbar": {
             "outlinewidth": 0,
             "ticks": ""
            },
            "colorscale": [
             [
              0,
              "#0d0887"
             ],
             [
              0.1111111111111111,
              "#46039f"
             ],
             [
              0.2222222222222222,
              "#7201a8"
             ],
             [
              0.3333333333333333,
              "#9c179e"
             ],
             [
              0.4444444444444444,
              "#bd3786"
             ],
             [
              0.5555555555555556,
              "#d8576b"
             ],
             [
              0.6666666666666666,
              "#ed7953"
             ],
             [
              0.7777777777777778,
              "#fb9f3a"
             ],
             [
              0.8888888888888888,
              "#fdca26"
             ],
             [
              1,
              "#f0f921"
             ]
            ],
            "type": "heatmapgl"
           }
          ],
          "histogram": [
           {
            "marker": {
             "pattern": {
              "fillmode": "overlay",
              "size": 10,
              "solidity": 0.2
             }
            },
            "type": "histogram"
           }
          ],
          "histogram2d": [
           {
            "colorbar": {
             "outlinewidth": 0,
             "ticks": ""
            },
            "colorscale": [
             [
              0,
              "#0d0887"
             ],
             [
              0.1111111111111111,
              "#46039f"
             ],
             [
              0.2222222222222222,
              "#7201a8"
             ],
             [
              0.3333333333333333,
              "#9c179e"
             ],
             [
              0.4444444444444444,
              "#bd3786"
             ],
             [
              0.5555555555555556,
              "#d8576b"
             ],
             [
              0.6666666666666666,
              "#ed7953"
             ],
             [
              0.7777777777777778,
              "#fb9f3a"
             ],
             [
              0.8888888888888888,
              "#fdca26"
             ],
             [
              1,
              "#f0f921"
             ]
            ],
            "type": "histogram2d"
           }
          ],
          "histogram2dcontour": [
           {
            "colorbar": {
             "outlinewidth": 0,
             "ticks": ""
            },
            "colorscale": [
             [
              0,
              "#0d0887"
             ],
             [
              0.1111111111111111,
              "#46039f"
             ],
             [
              0.2222222222222222,
              "#7201a8"
             ],
             [
              0.3333333333333333,
              "#9c179e"
             ],
             [
              0.4444444444444444,
              "#bd3786"
             ],
             [
              0.5555555555555556,
              "#d8576b"
             ],
             [
              0.6666666666666666,
              "#ed7953"
             ],
             [
              0.7777777777777778,
              "#fb9f3a"
             ],
             [
              0.8888888888888888,
              "#fdca26"
             ],
             [
              1,
              "#f0f921"
             ]
            ],
            "type": "histogram2dcontour"
           }
          ],
          "mesh3d": [
           {
            "colorbar": {
             "outlinewidth": 0,
             "ticks": ""
            },
            "type": "mesh3d"
           }
          ],
          "parcoords": [
           {
            "line": {
             "colorbar": {
              "outlinewidth": 0,
              "ticks": ""
             }
            },
            "type": "parcoords"
           }
          ],
          "pie": [
           {
            "automargin": true,
            "type": "pie"
           }
          ],
          "scatter": [
           {
            "fillpattern": {
             "fillmode": "overlay",
             "size": 10,
             "solidity": 0.2
            },
            "type": "scatter"
           }
          ],
          "scatter3d": [
           {
            "line": {
             "colorbar": {
              "outlinewidth": 0,
              "ticks": ""
             }
            },
            "marker": {
             "colorbar": {
              "outlinewidth": 0,
              "ticks": ""
             }
            },
            "type": "scatter3d"
           }
          ],
          "scattercarpet": [
           {
            "marker": {
             "colorbar": {
              "outlinewidth": 0,
              "ticks": ""
             }
            },
            "type": "scattercarpet"
           }
          ],
          "scattergeo": [
           {
            "marker": {
             "colorbar": {
              "outlinewidth": 0,
              "ticks": ""
             }
            },
            "type": "scattergeo"
           }
          ],
          "scattergl": [
           {
            "marker": {
             "colorbar": {
              "outlinewidth": 0,
              "ticks": ""
             }
            },
            "type": "scattergl"
           }
          ],
          "scattermapbox": [
           {
            "marker": {
             "colorbar": {
              "outlinewidth": 0,
              "ticks": ""
             }
            },
            "type": "scattermapbox"
           }
          ],
          "scatterpolar": [
           {
            "marker": {
             "colorbar": {
              "outlinewidth": 0,
              "ticks": ""
             }
            },
            "type": "scatterpolar"
           }
          ],
          "scatterpolargl": [
           {
            "marker": {
             "colorbar": {
              "outlinewidth": 0,
              "ticks": ""
             }
            },
            "type": "scatterpolargl"
           }
          ],
          "scatterternary": [
           {
            "marker": {
             "colorbar": {
              "outlinewidth": 0,
              "ticks": ""
             }
            },
            "type": "scatterternary"
           }
          ],
          "surface": [
           {
            "colorbar": {
             "outlinewidth": 0,
             "ticks": ""
            },
            "colorscale": [
             [
              0,
              "#0d0887"
             ],
             [
              0.1111111111111111,
              "#46039f"
             ],
             [
              0.2222222222222222,
              "#7201a8"
             ],
             [
              0.3333333333333333,
              "#9c179e"
             ],
             [
              0.4444444444444444,
              "#bd3786"
             ],
             [
              0.5555555555555556,
              "#d8576b"
             ],
             [
              0.6666666666666666,
              "#ed7953"
             ],
             [
              0.7777777777777778,
              "#fb9f3a"
             ],
             [
              0.8888888888888888,
              "#fdca26"
             ],
             [
              1,
              "#f0f921"
             ]
            ],
            "type": "surface"
           }
          ],
          "table": [
           {
            "cells": {
             "fill": {
              "color": "#EBF0F8"
             },
             "line": {
              "color": "white"
             }
            },
            "header": {
             "fill": {
              "color": "#C8D4E3"
             },
             "line": {
              "color": "white"
             }
            },
            "type": "table"
           }
          ]
         },
         "layout": {
          "annotationdefaults": {
           "arrowcolor": "#2a3f5f",
           "arrowhead": 0,
           "arrowwidth": 1
          },
          "autotypenumbers": "strict",
          "coloraxis": {
           "colorbar": {
            "outlinewidth": 0,
            "ticks": ""
           }
          },
          "colorscale": {
           "diverging": [
            [
             0,
             "#8e0152"
            ],
            [
             0.1,
             "#c51b7d"
            ],
            [
             0.2,
             "#de77ae"
            ],
            [
             0.3,
             "#f1b6da"
            ],
            [
             0.4,
             "#fde0ef"
            ],
            [
             0.5,
             "#f7f7f7"
            ],
            [
             0.6,
             "#e6f5d0"
            ],
            [
             0.7,
             "#b8e186"
            ],
            [
             0.8,
             "#7fbc41"
            ],
            [
             0.9,
             "#4d9221"
            ],
            [
             1,
             "#276419"
            ]
           ],
           "sequential": [
            [
             0,
             "#0d0887"
            ],
            [
             0.1111111111111111,
             "#46039f"
            ],
            [
             0.2222222222222222,
             "#7201a8"
            ],
            [
             0.3333333333333333,
             "#9c179e"
            ],
            [
             0.4444444444444444,
             "#bd3786"
            ],
            [
             0.5555555555555556,
             "#d8576b"
            ],
            [
             0.6666666666666666,
             "#ed7953"
            ],
            [
             0.7777777777777778,
             "#fb9f3a"
            ],
            [
             0.8888888888888888,
             "#fdca26"
            ],
            [
             1,
             "#f0f921"
            ]
           ],
           "sequentialminus": [
            [
             0,
             "#0d0887"
            ],
            [
             0.1111111111111111,
             "#46039f"
            ],
            [
             0.2222222222222222,
             "#7201a8"
            ],
            [
             0.3333333333333333,
             "#9c179e"
            ],
            [
             0.4444444444444444,
             "#bd3786"
            ],
            [
             0.5555555555555556,
             "#d8576b"
            ],
            [
             0.6666666666666666,
             "#ed7953"
            ],
            [
             0.7777777777777778,
             "#fb9f3a"
            ],
            [
             0.8888888888888888,
             "#fdca26"
            ],
            [
             1,
             "#f0f921"
            ]
           ]
          },
          "colorway": [
           "#636efa",
           "#EF553B",
           "#00cc96",
           "#ab63fa",
           "#FFA15A",
           "#19d3f3",
           "#FF6692",
           "#B6E880",
           "#FF97FF",
           "#FECB52"
          ],
          "font": {
           "color": "#2a3f5f"
          },
          "geo": {
           "bgcolor": "white",
           "lakecolor": "white",
           "landcolor": "#E5ECF6",
           "showlakes": true,
           "showland": true,
           "subunitcolor": "white"
          },
          "hoverlabel": {
           "align": "left"
          },
          "hovermode": "closest",
          "mapbox": {
           "style": "light"
          },
          "paper_bgcolor": "white",
          "plot_bgcolor": "#E5ECF6",
          "polar": {
           "angularaxis": {
            "gridcolor": "white",
            "linecolor": "white",
            "ticks": ""
           },
           "bgcolor": "#E5ECF6",
           "radialaxis": {
            "gridcolor": "white",
            "linecolor": "white",
            "ticks": ""
           }
          },
          "scene": {
           "xaxis": {
            "backgroundcolor": "#E5ECF6",
            "gridcolor": "white",
            "gridwidth": 2,
            "linecolor": "white",
            "showbackground": true,
            "ticks": "",
            "zerolinecolor": "white"
           },
           "yaxis": {
            "backgroundcolor": "#E5ECF6",
            "gridcolor": "white",
            "gridwidth": 2,
            "linecolor": "white",
            "showbackground": true,
            "ticks": "",
            "zerolinecolor": "white"
           },
           "zaxis": {
            "backgroundcolor": "#E5ECF6",
            "gridcolor": "white",
            "gridwidth": 2,
            "linecolor": "white",
            "showbackground": true,
            "ticks": "",
            "zerolinecolor": "white"
           }
          },
          "shapedefaults": {
           "line": {
            "color": "#2a3f5f"
           }
          },
          "ternary": {
           "aaxis": {
            "gridcolor": "white",
            "linecolor": "white",
            "ticks": ""
           },
           "baxis": {
            "gridcolor": "white",
            "linecolor": "white",
            "ticks": ""
           },
           "bgcolor": "#E5ECF6",
           "caxis": {
            "gridcolor": "white",
            "linecolor": "white",
            "ticks": ""
           }
          },
          "title": {
           "x": 0.05
          },
          "xaxis": {
           "automargin": true,
           "gridcolor": "white",
           "linecolor": "white",
           "ticks": "",
           "title": {
            "standoff": 15
           },
           "zerolinecolor": "white",
           "zerolinewidth": 2
          },
          "yaxis": {
           "automargin": true,
           "gridcolor": "white",
           "linecolor": "white",
           "ticks": "",
           "title": {
            "standoff": 15
           },
           "zerolinecolor": "white",
           "zerolinewidth": 2
          }
         }
        },
        "violinmode": "group",
        "xaxis": {
         "anchor": "y",
         "domain": [
          0,
          1
         ],
         "title": {
          "text": "day"
         }
        },
        "yaxis": {
         "anchor": "x",
         "domain": [
          0,
          1
         ],
         "title": {
          "text": "total_bill"
         }
        }
       }
      }
     },
     "metadata": {},
     "output_type": "display_data"
    }
   ],
   "source": [
    "fig = px.violin(df,x='day',y= 'total_bill',color ='sex',box=True,points='all')\n",
    "fig.show()"
   ]
  },
  {
   "cell_type": "code",
   "execution_count": 45,
   "metadata": {},
   "outputs": [
    {
     "name": "stderr",
     "output_type": "stream",
     "text": [
      "C:\\Users\\lenovo\\AppData\\Local\\Temp\\ipykernel_10472\\4126782728.py:3: FutureWarning:\n",
      "\n",
      "The default value of numeric_only in DataFrame.corr is deprecated. In a future version, it will default to False. Select only valid columns or specify the value of numeric_only to silence this warning.\n",
      "\n"
     ]
    }
   ],
   "source": [
    "# correlation \n",
    "\n",
    "corr = df.corr()"
   ]
  },
  {
   "attachments": {},
   "cell_type": "markdown",
   "metadata": {},
   "source": [
    "# Diamonds Data"
   ]
  },
  {
   "cell_type": "code",
   "execution_count": 46,
   "metadata": {},
   "outputs": [
    {
     "data": {
      "text/html": [
       "<div>\n",
       "<style scoped>\n",
       "    .dataframe tbody tr th:only-of-type {\n",
       "        vertical-align: middle;\n",
       "    }\n",
       "\n",
       "    .dataframe tbody tr th {\n",
       "        vertical-align: top;\n",
       "    }\n",
       "\n",
       "    .dataframe thead th {\n",
       "        text-align: right;\n",
       "    }\n",
       "</style>\n",
       "<table border=\"1\" class=\"dataframe\">\n",
       "  <thead>\n",
       "    <tr style=\"text-align: right;\">\n",
       "      <th></th>\n",
       "      <th>carat</th>\n",
       "      <th>cut</th>\n",
       "      <th>color</th>\n",
       "      <th>clarity</th>\n",
       "      <th>depth</th>\n",
       "      <th>table</th>\n",
       "      <th>price</th>\n",
       "      <th>x</th>\n",
       "      <th>y</th>\n",
       "      <th>z</th>\n",
       "    </tr>\n",
       "  </thead>\n",
       "  <tbody>\n",
       "    <tr>\n",
       "      <th>0</th>\n",
       "      <td>0.23</td>\n",
       "      <td>Ideal</td>\n",
       "      <td>E</td>\n",
       "      <td>SI2</td>\n",
       "      <td>61.5</td>\n",
       "      <td>55.0</td>\n",
       "      <td>326</td>\n",
       "      <td>3.95</td>\n",
       "      <td>3.98</td>\n",
       "      <td>2.43</td>\n",
       "    </tr>\n",
       "    <tr>\n",
       "      <th>1</th>\n",
       "      <td>0.21</td>\n",
       "      <td>Premium</td>\n",
       "      <td>E</td>\n",
       "      <td>SI1</td>\n",
       "      <td>59.8</td>\n",
       "      <td>61.0</td>\n",
       "      <td>326</td>\n",
       "      <td>3.89</td>\n",
       "      <td>3.84</td>\n",
       "      <td>2.31</td>\n",
       "    </tr>\n",
       "    <tr>\n",
       "      <th>2</th>\n",
       "      <td>0.23</td>\n",
       "      <td>Good</td>\n",
       "      <td>E</td>\n",
       "      <td>VS1</td>\n",
       "      <td>56.9</td>\n",
       "      <td>65.0</td>\n",
       "      <td>327</td>\n",
       "      <td>4.05</td>\n",
       "      <td>4.07</td>\n",
       "      <td>2.31</td>\n",
       "    </tr>\n",
       "    <tr>\n",
       "      <th>3</th>\n",
       "      <td>0.29</td>\n",
       "      <td>Premium</td>\n",
       "      <td>I</td>\n",
       "      <td>VS2</td>\n",
       "      <td>62.4</td>\n",
       "      <td>58.0</td>\n",
       "      <td>334</td>\n",
       "      <td>4.20</td>\n",
       "      <td>4.23</td>\n",
       "      <td>2.63</td>\n",
       "    </tr>\n",
       "    <tr>\n",
       "      <th>4</th>\n",
       "      <td>0.31</td>\n",
       "      <td>Good</td>\n",
       "      <td>J</td>\n",
       "      <td>SI2</td>\n",
       "      <td>63.3</td>\n",
       "      <td>58.0</td>\n",
       "      <td>335</td>\n",
       "      <td>4.34</td>\n",
       "      <td>4.35</td>\n",
       "      <td>2.75</td>\n",
       "    </tr>\n",
       "  </tbody>\n",
       "</table>\n",
       "</div>"
      ],
      "text/plain": [
       "   carat      cut color clarity  depth  table  price     x     y     z\n",
       "0   0.23    Ideal     E     SI2   61.5   55.0    326  3.95  3.98  2.43\n",
       "1   0.21  Premium     E     SI1   59.8   61.0    326  3.89  3.84  2.31\n",
       "2   0.23     Good     E     VS1   56.9   65.0    327  4.05  4.07  2.31\n",
       "3   0.29  Premium     I     VS2   62.4   58.0    334  4.20  4.23  2.63\n",
       "4   0.31     Good     J     SI2   63.3   58.0    335  4.34  4.35  2.75"
      ]
     },
     "execution_count": 46,
     "metadata": {},
     "output_type": "execute_result"
    }
   ],
   "source": [
    "diamonds = sns.load_dataset(\"diamonds\")\n",
    "diamonds.head()"
   ]
  },
  {
   "cell_type": "code",
   "execution_count": 47,
   "metadata": {},
   "outputs": [
    {
     "name": "stdout",
     "output_type": "stream",
     "text": [
      "<class 'pandas.core.frame.DataFrame'>\n",
      "RangeIndex: 53940 entries, 0 to 53939\n",
      "Data columns (total 10 columns):\n",
      " #   Column   Non-Null Count  Dtype   \n",
      "---  ------   --------------  -----   \n",
      " 0   carat    53940 non-null  float64 \n",
      " 1   cut      53940 non-null  category\n",
      " 2   color    53940 non-null  category\n",
      " 3   clarity  53940 non-null  category\n",
      " 4   depth    53940 non-null  float64 \n",
      " 5   table    53940 non-null  float64 \n",
      " 6   price    53940 non-null  int64   \n",
      " 7   x        53940 non-null  float64 \n",
      " 8   y        53940 non-null  float64 \n",
      " 9   z        53940 non-null  float64 \n",
      "dtypes: category(3), float64(6), int64(1)\n",
      "memory usage: 3.0 MB\n"
     ]
    }
   ],
   "source": [
    "diamonds.info()"
   ]
  },
  {
   "cell_type": "code",
   "execution_count": 48,
   "metadata": {},
   "outputs": [
    {
     "data": {
      "text/plain": [
       "Index(['carat', 'cut', 'color', 'clarity', 'depth', 'table', 'price', 'x', 'y',\n",
       "       'z'],\n",
       "      dtype='object')"
      ]
     },
     "execution_count": 48,
     "metadata": {},
     "output_type": "execute_result"
    }
   ],
   "source": [
    "diamonds.columns"
   ]
  },
  {
   "cell_type": "code",
   "execution_count": 49,
   "metadata": {},
   "outputs": [
    {
     "data": {
      "application/vnd.plotly.v1+json": {
       "config": {
        "plotlyServerURL": "https://plot.ly"
       },
       "data": [
        {
         "branchvalues": "total",
         "customdata": [
          [
           "(?)",
           "Fair"
          ],
          [
           "(?)",
           "Premium"
          ],
          [
           "(?)",
           "Fair"
          ],
          [
           "(?)",
           "Premium"
          ],
          [
           "(?)",
           "Ideal"
          ],
          [
           "(?)",
           "Fair"
          ],
          [
           "(?)",
           "Good"
          ],
          [
           "(?)",
           "Fair"
          ],
          [
           "(?)",
           "Good"
          ],
          [
           "(?)",
           "Good"
          ],
          [
           "(?)",
           "Premium"
          ],
          [
           "(?)",
           "Very Good"
          ],
          [
           "(?)",
           "Very Good"
          ],
          [
           "(?)",
           "Good"
          ],
          [
           "(?)",
           "Very Good"
          ],
          [
           "(?)",
           "Very Good"
          ],
          [
           "(?)",
           "Good"
          ],
          [
           "(?)",
           "Very Good"
          ],
          [
           "(?)",
           "Premium"
          ],
          [
           "(?)",
           "Ideal"
          ],
          [
           "(?)",
           "Ideal"
          ],
          [
           "(?)",
           "Fair"
          ],
          [
           "(?)",
           "Fair"
          ],
          [
           "(?)",
           "Good"
          ],
          [
           "(?)",
           "Fair"
          ],
          [
           "(?)",
           "Fair"
          ],
          [
           "(?)",
           "Ideal"
          ],
          [
           0.91,
           "Fair"
          ],
          [
           "(?)",
           "Premium"
          ],
          [
           "(?)",
           "Fair"
          ],
          [
           "(?)",
           "Fair"
          ],
          [
           "(?)",
           "Fair"
          ],
          [
           "(?)",
           "Good"
          ],
          [
           "(?)",
           "Good"
          ],
          [
           "(?)",
           "Premium"
          ],
          [
           "(?)",
           "Fair"
          ],
          [
           "(?)",
           "Premium"
          ],
          [
           "(?)",
           "Very Good"
          ],
          [
           "(?)",
           "Very Good"
          ],
          [
           "(?)",
           "Ideal"
          ],
          [
           "(?)",
           "Very Good"
          ],
          [
           "(?)",
           "Fair"
          ],
          [
           "(?)",
           "Fair"
          ],
          [
           "(?)",
           "Ideal"
          ],
          [
           "(?)",
           "Good"
          ],
          [
           "(?)",
           "Ideal"
          ],
          [
           "(?)",
           "Ideal"
          ],
          [
           "(?)",
           "Ideal"
          ],
          [
           "(?)",
           "Ideal"
          ],
          [
           "(?)",
           "Fair"
          ],
          [
           "(?)",
           "Premium"
          ],
          [
           "(?)",
           "Ideal"
          ],
          [
           "(?)",
           "Very Good"
          ],
          [
           "(?)",
           "Good"
          ],
          [
           "(?)",
           "Ideal"
          ],
          [
           "(?)",
           "Premium"
          ],
          [
           "(?)",
           "Ideal"
          ],
          [
           "(?)",
           "Ideal"
          ],
          [
           "(?)",
           "Very Good"
          ],
          [
           "(?)",
           "Ideal"
          ],
          [
           "(?)",
           "Fair"
          ],
          [
           "(?)",
           "Good"
          ],
          [
           "(?)",
           "Fair"
          ],
          [
           "(?)",
           "Fair"
          ],
          [
           "(?)",
           "Fair"
          ],
          [
           "(?)",
           "Premium"
          ],
          [
           "(?)",
           "Good"
          ],
          [
           "(?)",
           "Very Good"
          ],
          [
           "(?)",
           "Ideal"
          ],
          [
           "(?)",
           "Premium"
          ],
          [
           "(?)",
           "Good"
          ],
          [
           "(?)",
           "Fair"
          ],
          [
           "(?)",
           "Good"
          ],
          [
           "(?)",
           "Good"
          ],
          [
           "(?)",
           "Ideal"
          ],
          [
           "(?)",
           "Fair"
          ],
          [
           "(?)",
           "Good"
          ],
          [
           "(?)",
           "Good"
          ],
          [
           "(?)",
           "Fair"
          ],
          [
           "(?)",
           "Good"
          ],
          [
           "(?)",
           "Premium"
          ],
          [
           "(?)",
           "Very Good"
          ],
          [
           "(?)",
           "Good"
          ],
          [
           "(?)",
           "Fair"
          ],
          [
           "(?)",
           "Ideal"
          ],
          [
           "(?)",
           "Ideal"
          ],
          [
           "(?)",
           "Very Good"
          ],
          [
           "(?)",
           "Good"
          ],
          [
           "(?)",
           "Good"
          ],
          [
           "(?)",
           "Fair"
          ],
          [
           "(?)",
           "Very Good"
          ],
          [
           "(?)",
           "Good"
          ],
          [
           "(?)",
           "Ideal"
          ],
          [
           "(?)",
           "Premium"
          ],
          [
           "(?)",
           "Fair"
          ],
          [
           "(?)",
           "Ideal"
          ],
          [
           "(?)",
           "Very Good"
          ],
          [
           "(?)",
           "Good"
          ],
          [
           "(?)",
           "Very Good"
          ],
          [
           "(?)",
           "Fair"
          ],
          [
           "(?)",
           "Very Good"
          ],
          [
           "(?)",
           "Good"
          ],
          [
           "(?)",
           "Fair"
          ],
          [
           "(?)",
           "Premium"
          ],
          [
           "(?)",
           "Very Good"
          ],
          [
           "(?)",
           "Ideal"
          ],
          [
           "(?)",
           "Premium"
          ],
          [
           "(?)",
           "Fair"
          ],
          [
           "(?)",
           "Good"
          ],
          [
           "(?)",
           "Fair"
          ],
          [
           "(?)",
           "Very Good"
          ],
          [
           "(?)",
           "Ideal"
          ],
          [
           "(?)",
           "Good"
          ],
          [
           "(?)",
           "Fair"
          ],
          [
           "(?)",
           "Ideal"
          ],
          [
           "(?)",
           "Premium"
          ],
          [
           "(?)",
           "Fair"
          ],
          [
           "(?)",
           "Good"
          ],
          [
           "(?)",
           "Fair"
          ],
          [
           "(?)",
           "Ideal"
          ],
          [
           "(?)",
           "Ideal"
          ],
          [
           "(?)",
           "Good"
          ],
          [
           "(?)",
           "Very Good"
          ],
          [
           1.01,
           "Fair"
          ],
          [
           "(?)",
           "Ideal"
          ],
          [
           "(?)",
           "Very Good"
          ],
          [
           "(?)",
           "Premium"
          ],
          [
           "(?)",
           "Very Good"
          ],
          [
           "(?)",
           "Good"
          ],
          [
           "(?)",
           "Very Good"
          ],
          [
           "(?)",
           "Very Good"
          ],
          [
           "(?)",
           "Premium"
          ],
          [
           "(?)",
           "Premium"
          ],
          [
           "(?)",
           "Very Good"
          ],
          [
           "(?)",
           "Ideal"
          ],
          [
           "(?)",
           "Good"
          ],
          [
           "(?)",
           "Ideal"
          ],
          [
           "(?)",
           "Fair"
          ],
          [
           "(?)",
           "Very Good"
          ],
          [
           "(?)",
           "Ideal"
          ],
          [
           "(?)",
           "Premium"
          ],
          [
           "(?)",
           "Ideal"
          ],
          [
           "(?)",
           "Premium"
          ],
          [
           "(?)",
           "Ideal"
          ],
          [
           "(?)",
           "Fair"
          ],
          [
           "(?)",
           "Premium"
          ],
          [
           "(?)",
           "Good"
          ],
          [
           "(?)",
           "Fair"
          ],
          [
           "(?)",
           "Very Good"
          ],
          [
           "(?)",
           "Ideal"
          ],
          [
           "(?)",
           "Good"
          ],
          [
           "(?)",
           "Fair"
          ],
          [
           "(?)",
           "Premium"
          ],
          [
           "(?)",
           "Very Good"
          ],
          [
           "(?)",
           "Good"
          ],
          [
           "(?)",
           "Premium"
          ],
          [
           "(?)",
           "Ideal"
          ],
          [
           "(?)",
           "Premium"
          ],
          [
           0.9,
           "Fair"
          ],
          [
           "(?)",
           "Ideal"
          ],
          [
           1,
           "Good"
          ],
          [
           "(?)",
           "Premium"
          ],
          [
           0.7,
           "Fair"
          ],
          [
           "(?)",
           "Ideal"
          ],
          [
           "(?)",
           "Very Good"
          ],
          [
           "(?)",
           "Premium"
          ],
          [
           "(?)",
           "Premium"
          ],
          [
           "(?)",
           "Very Good"
          ],
          [
           "(?)",
           "Very Good"
          ],
          [
           "(?)",
           "Very Good"
          ],
          [
           "(?)",
           "Premium"
          ],
          [
           "(?)",
           "Good"
          ],
          [
           "(?)",
           "Premium"
          ],
          [
           "(?)",
           "Premium"
          ],
          [
           "(?)",
           "Very Good"
          ],
          [
           "(?)",
           "Fair"
          ],
          [
           "(?)",
           "Ideal"
          ],
          [
           "(?)",
           "Very Good"
          ],
          [
           "(?)",
           "Ideal"
          ],
          [
           "(?)",
           "Fair"
          ],
          [
           "(?)",
           "Good"
          ],
          [
           "(?)",
           "Premium"
          ],
          [
           "(?)",
           "Fair"
          ],
          [
           "(?)",
           "Good"
          ],
          [
           "(?)",
           "Very Good"
          ],
          [
           "(?)",
           "Premium"
          ],
          [
           "(?)",
           "Ideal"
          ],
          [
           "(?)",
           "Very Good"
          ],
          [
           "(?)",
           "Good"
          ],
          [
           "(?)",
           "Very Good"
          ],
          [
           "(?)",
           "Premium"
          ],
          [
           "(?)",
           "Fair"
          ],
          [
           "(?)",
           "Good"
          ],
          [
           "(?)",
           "Ideal"
          ],
          [
           "(?)",
           "Fair"
          ],
          [
           "(?)",
           "Very Good"
          ],
          [
           "(?)",
           "Fair"
          ],
          [
           "(?)",
           "Good"
          ],
          [
           "(?)",
           "Ideal"
          ],
          [
           "(?)",
           "Premium"
          ],
          [
           "(?)",
           "Fair"
          ],
          [
           "(?)",
           "Fair"
          ],
          [
           "(?)",
           "Premium"
          ],
          [
           "(?)",
           "Very Good"
          ],
          [
           "(?)",
           "Good"
          ],
          [
           "(?)",
           "Premium"
          ],
          [
           "(?)",
           "Fair"
          ],
          [
           "(?)",
           "Ideal"
          ],
          [
           "(?)",
           "Fair"
          ],
          [
           "(?)",
           "Good"
          ],
          [
           "(?)",
           "Premium"
          ],
          [
           "(?)",
           "Good"
          ],
          [
           "(?)",
           "Very Good"
          ],
          [
           "(?)",
           "Ideal"
          ],
          [
           "(?)",
           "Good"
          ],
          [
           "(?)",
           "Premium"
          ],
          [
           "(?)",
           "Ideal"
          ],
          [
           "(?)",
           "Premium"
          ],
          [
           "(?)",
           "Very Good"
          ],
          [
           "(?)",
           "Ideal"
          ],
          [
           "(?)",
           "Premium"
          ],
          [
           "(?)",
           "Ideal"
          ],
          [
           "(?)",
           "Very Good"
          ],
          [
           "(?)",
           "Good"
          ],
          [
           "(?)",
           "Ideal"
          ],
          [
           "(?)",
           "Very Good"
          ],
          [
           "(?)",
           "Fair"
          ],
          [
           "(?)",
           "Good"
          ],
          [
           "(?)",
           "Good"
          ],
          [
           "(?)",
           "Very Good"
          ],
          [
           "(?)",
           "Premium"
          ],
          [
           "(?)",
           "Ideal"
          ],
          [
           "(?)",
           "Very Good"
          ],
          [
           "(?)",
           "Very Good"
          ],
          [
           "(?)",
           "Premium"
          ],
          [
           "(?)",
           "Ideal"
          ],
          [
           "(?)",
           "Ideal"
          ],
          [
           "(?)",
           "Good"
          ],
          [
           "(?)",
           "Very Good"
          ],
          [
           "(?)",
           "Premium"
          ],
          [
           "(?)",
           "Very Good"
          ],
          [
           "(?)",
           "Premium"
          ],
          [
           null,
           null
          ],
          [
           "(?)",
           "Very Good"
          ],
          [
           "(?)",
           "Good"
          ],
          [
           "(?)",
           "Ideal"
          ],
          [
           "(?)",
           "Very Good"
          ],
          [
           "(?)",
           "Good"
          ],
          [
           "(?)",
           "Premium"
          ],
          [
           "(?)",
           "Good"
          ],
          [
           "(?)",
           "Good"
          ],
          [
           "(?)",
           "Fair"
          ],
          [
           "(?)",
           "Premium"
          ],
          [
           "(?)",
           "Very Good"
          ],
          [
           "(?)",
           "Good"
          ],
          [
           "(?)",
           "Ideal"
          ],
          [
           "(?)",
           "Premium"
          ],
          [
           "(?)",
           "Very Good"
          ],
          [
           "(?)",
           "Ideal"
          ],
          [
           null,
           null
          ],
          [
           "(?)",
           "Premium"
          ],
          [
           "(?)",
           "Very Good"
          ],
          [
           "(?)",
           "Very Good"
          ],
          [
           "(?)",
           "Premium"
          ],
          [
           "(?)",
           "Fair"
          ],
          [
           "(?)",
           "Good"
          ],
          [
           "(?)",
           "Fair"
          ],
          [
           "(?)",
           "Premium"
          ],
          [
           "(?)",
           "Fair"
          ],
          [
           "(?)",
           "Premium"
          ],
          [
           "(?)",
           "Premium"
          ],
          [
           "(?)",
           "Ideal"
          ],
          [
           "(?)",
           "Very Good"
          ],
          [
           null,
           null
          ],
          [
           "(?)",
           "Premium"
          ],
          [
           "(?)",
           "Ideal"
          ],
          [
           "(?)",
           "Good"
          ],
          [
           "(?)",
           "Good"
          ],
          [
           "(?)",
           "Fair"
          ],
          [
           "(?)",
           "Ideal"
          ],
          [
           "(?)",
           "Good"
          ],
          [
           "(?)",
           "Very Good"
          ],
          [
           "(?)",
           "Premium"
          ],
          [
           "(?)",
           "Good"
          ],
          [
           "(?)",
           "Premium"
          ],
          [
           "(?)",
           "Premium"
          ],
          [
           "(?)",
           "Ideal"
          ],
          [
           "(?)",
           "Very Good"
          ],
          [
           "(?)",
           "Very Good"
          ],
          [
           "(?)",
           "Very Good"
          ],
          [
           "(?)",
           "Premium"
          ],
          [
           "(?)",
           "Ideal"
          ],
          [
           "(?)",
           "Good"
          ],
          [
           "(?)",
           "Good"
          ],
          [
           "(?)",
           "Fair"
          ],
          [
           "(?)",
           "Very Good"
          ],
          [
           "(?)",
           "Ideal"
          ],
          [
           "(?)",
           "Good"
          ],
          [
           "(?)",
           "Premium"
          ],
          [
           "(?)",
           "Premium"
          ],
          [
           "(?)",
           "Ideal"
          ],
          [
           "(?)",
           "Very Good"
          ],
          [
           "(?)",
           "Very Good"
          ],
          [
           "(?)",
           "Fair"
          ],
          [
           "(?)",
           "Good"
          ],
          [
           "(?)",
           "Ideal"
          ],
          [
           null,
           null
          ],
          [
           "(?)",
           "Premium"
          ],
          [
           "(?)",
           "Ideal"
          ],
          [
           "(?)",
           "Ideal"
          ],
          [
           "(?)",
           "Good"
          ],
          [
           "(?)",
           "Premium"
          ],
          [
           "(?)",
           "Very Good"
          ],
          [
           "(?)",
           "Premium"
          ],
          [
           "(?)",
           "Very Good"
          ],
          [
           "(?)",
           "Good"
          ],
          [
           "(?)",
           "Fair"
          ],
          [
           "(?)",
           "Ideal"
          ],
          [
           "(?)",
           "Premium"
          ],
          [
           "(?)",
           "Fair"
          ]
         ],
         "domain": {
          "x": [
           0,
           1
          ],
          "y": [
           0,
           1
          ]
         },
         "hovertemplate": "labels=%{label}<br>price=%{value}<br>parent=%{parent}<br>id=%{id}<br>carat=%{customdata[0]}<br>cut=%{customdata[1]}<extra></extra>",
         "ids": [
          "Fair/H/VS1",
          "Premium/H/VVS2",
          "Fair/I/SI1",
          "Premium/G",
          "Ideal/F/I1",
          "Fair/J",
          "Good/G/VS1",
          "Fair/G/VS1",
          "Good/E/IF",
          "Good/H/VS1",
          "Premium/J/SI2",
          "Very Good/I/VVS2",
          "Very Good/G/SI2",
          "Good/G",
          "Very Good/F/VVS1",
          "Very Good/D/VVS1",
          "Good/E/VVS1",
          "Very Good/E/VVS1",
          "Premium/E/I1",
          "Ideal/I/VVS2",
          "Ideal/G/SI1",
          "Fair/E/VVS1",
          "Fair/J/SI2",
          "Good/I/SI2",
          "Fair/I/VS2",
          "Fair/I/SI2",
          "Ideal/D/SI1",
          "Fair/H/VVS1",
          "Premium/F/SI2",
          "Fair/F/VVS2",
          "Fair/E/SI1",
          "Fair/F/SI1",
          "Good/I/SI1",
          "Good/J/SI2",
          "Premium/D/VVS1",
          "Fair/D/VVS2",
          "Premium/I/VVS2",
          "Very Good/I/I1",
          "Very Good/D/IF",
          "Ideal/D/VVS1",
          "Very Good/G/IF",
          "Fair/D/IF",
          "Fair/J/I1",
          "Ideal/E",
          "Good/G/IF",
          "Ideal/H/IF",
          "Ideal/I",
          "Ideal/F/IF",
          "Ideal/E/VS2",
          "Fair/D/SI1",
          "Premium/E/SI1",
          "Ideal/I/VS1",
          "Very Good/E/SI1",
          "Good/E/SI1",
          "Ideal/F/SI1",
          "Premium/G/VS1",
          "Ideal/G/VS1",
          "Ideal/E/SI1",
          "Very Good/I/VS1",
          "Ideal/J/VS2",
          "Fair/J/VS2",
          "Good/J/VS2",
          "Fair/J/VS1",
          "Fair/D/VS2",
          "Fair/E/VS2",
          "Premium/F/VS2",
          "Good/I/VS2",
          "Very Good/I/VS2",
          "Ideal/G/VS2",
          "Premium/G/VS2",
          "Good",
          "Fair/H/VS2",
          "Good/H/VS2",
          "Good/J/VS1",
          "Ideal/D/IF",
          "Fair/G/SI2",
          "Good/H/SI1",
          "Good/I/I1",
          "Fair/I/I1",
          "Good/J/I1",
          "Premium/F",
          "Very Good/F",
          "Good/F",
          "Fair/F",
          "Ideal/G",
          "Ideal/H",
          "Very Good/H",
          "Good/H",
          "Good/I",
          "Fair/I",
          "Very Good/J",
          "Good/J",
          "Ideal",
          "Premium",
          "Fair/H/I1",
          "Ideal/H/I1",
          "Very Good/G/I1",
          "Good/F/I1",
          "Very Good/J/SI1",
          "Fair/J/SI1",
          "Very Good/D/SI2",
          "Good/D/SI2",
          "Fair/D/SI2",
          "Premium/E/SI2",
          "Very Good/E/SI2",
          "Ideal/F/SI2",
          "Premium/G/SI1",
          "Fair/F/SI2",
          "Good/H/SI2",
          "Fair/H/SI2",
          "Very Good/I/SI2",
          "Ideal/J/SI2",
          "Good/D/I1",
          "Fair/D/I1",
          "Ideal/E/I1",
          "Premium/F/I1",
          "Fair/F/VS1",
          "Good/F/VS1",
          "Fair/G/VS2",
          "Ideal/J/VVS1",
          "Ideal/I/VVS1",
          "Good/F/VVS2",
          "Very Good/F/VVS2",
          "Fair/J/VVS2",
          "Ideal/D/VS1",
          "Very Good/G/VVS1",
          "Premium/E/VVS1",
          "Very Good/I/VVS1",
          "Good/I/VVS1",
          "Very Good/F/VS1",
          "Very Good/D/VS1",
          "Premium/G/VVS1",
          "Premium/G/IF",
          "Very Good/J/VVS2",
          "Ideal/H/VVS1",
          "Good/F/IF",
          "Ideal/F/VS1",
          "Fair/E/VS1",
          "Very Good/H/VVS2",
          "Ideal/H/VVS2",
          "Premium/F/IF",
          "Ideal/E/VVS1",
          "Premium/E/VS1",
          "Ideal/E/VS1",
          "Fair/D/VS1",
          "Premium/J/VVS1",
          "Good/D/VS1",
          "Fair/D/VVS1",
          "Very Good/J/SI2",
          "Ideal/D/I1",
          "Good/G/VVS1",
          "Fair/G/VVS1",
          "Premium/F/VS1",
          "Very Good/F/SI2",
          "Good/G/SI2",
          "Premium/G/SI2",
          "Ideal/G/SI2",
          "Premium/I/VVS1",
          "Fair/I/VVS1",
          "Ideal/E/SI2",
          "Good/J/VVS1",
          "Premium/D/SI2",
          "Fair/J/VVS1",
          "Ideal/J/SI1",
          "Very Good/D/VVS2",
          "Premium/H/VVS1",
          "Premium/D/I1",
          "Very Good/F/I1",
          "Very Good/E/I1",
          "Very Good",
          "Premium/D/IF",
          "Good/D/IF",
          "Premium/J",
          "Premium/I",
          "Very Good/F/IF",
          "Fair/F/IF",
          "Ideal/G/IF",
          "Very Good/G",
          "Ideal/F",
          "Fair/E",
          "Good/E",
          "Premium/I/IF",
          "Fair/D",
          "Good/D",
          "Very Good/D",
          "Premium/D",
          "Ideal/D",
          "Very Good/J/I1",
          "Good/H/I1",
          "Very Good/H/I1",
          "Premium/H/I1",
          "Fair/G/I1",
          "Good/G/I1",
          "Ideal/G/I1",
          "Fair/F/I1",
          "Very Good/I/SI1",
          "Fair/E/I1",
          "Good/E/I1",
          "Ideal/F/VVS1",
          "Premium/I/SI1",
          "Fair",
          "Fair/H/SI1",
          "Premium/G/VVS2",
          "Very Good/G/VVS2",
          "Good/G/VVS2",
          "Premium/J/VS2",
          "Fair/G/VVS2",
          "Ideal/H/VS2",
          "Fair/I/VVS2",
          "Good/G/VS2",
          "Premium/J/VVS2",
          "Good/F/VS2",
          "Very Good/F/VS2",
          "Ideal/F/VS2",
          "Good/J/VVS2",
          "Premium/D/VS2",
          "Ideal/D/VS2",
          "Premium/D/VS1",
          "Very Good/J/VS1",
          "Ideal/J/VS1",
          "Premium/H/VS1",
          "Ideal/H/VS1",
          "Very Good/E/VS1",
          "Good/D/SI1",
          "Ideal/G/VVS2",
          "Very Good/G/VS2",
          "Fair/G/SI1",
          "Good/D/VVS2",
          "Good/G/SI1",
          "Very Good/H/SI1",
          "Premium/H/SI1",
          "Ideal/H/SI1",
          "Very Good/G/SI1",
          "Very Good/F/SI1",
          "Premium/F/VVS2",
          "Ideal/I/IF",
          "Ideal/D/VVS2",
          "Good/J/SI1",
          "Very Good/E",
          "Premium/E",
          "Very Good/D/VS2",
          "Premium/E/VS2",
          "Fair/H/IF",
          "Very Good/E/VS2",
          "Good/E/VS2",
          "Ideal/D/SI2",
          "Very Good/I/IF",
          "Good/I/IF",
          "Premium/J/I1",
          "Good/D/VS2",
          "Good/H/IF",
          "Fair/G/IF",
          "Premium/H/IF",
          "Very Good/G/VS1",
          "Good/E/VS1",
          "Ideal/E/IF",
          "Premium/E/IF",
          "Very Good/E/IF",
          "Ideal/J",
          "Fair/E/IF",
          "Premium/D/VVS2",
          "Very Good/I",
          "Very Good/H/VS1",
          "Premium/I/VS1",
          "Fair/H",
          "Good/I/VS1",
          "Fair/I/VS1",
          "Premium/H",
          "Fair/G",
          "Premium/J/VS1",
          "Premium/J/SI1",
          "Ideal/J/I1",
          "Very Good/H/IF",
          "Fair/I/IF",
          "Premium/J/IF",
          "Ideal/F/VVS2",
          "Good/H/VVS2",
          "Good/E/SI2",
          "Fair/F/VVS1",
          "Ideal/G/VVS1",
          "Good/F/SI1",
          "Very Good/J/VS2",
          "Premium/F/SI1",
          "Good/E/VVS2",
          "Premium/D/SI1",
          "Premium/I/SI2",
          "Ideal/I/SI2",
          "Very Good/D/SI1",
          "Very Good/H/VVS1",
          "Very Good/H/SI2",
          "Premium/H/SI2",
          "Ideal/H/SI2",
          "Good/H/VVS1",
          "Good/F/SI2",
          "Fair/E/VVS2",
          "Very Good/D/I1",
          "Ideal/J/IF",
          "Good/F/VVS1",
          "Premium/I/VS2",
          "Premium/I/I1",
          "Ideal/I/I1",
          "Very Good/J/IF",
          "Very Good/J/VVS1",
          "Fair/F/VS2",
          "Good/J/IF",
          "Ideal/J/VVS2",
          "Fair/J/IF",
          "Premium/G/I1",
          "Ideal/I/SI1",
          "Ideal/E/VVS2",
          "Good/D/VVS1",
          "Premium/E/VVS2",
          "Very Good/E/VVS2",
          "Premium/H/VS2",
          "Very Good/H/VS2",
          "Good/I/VVS2",
          "Fair/H/VVS2",
          "Ideal/I/VS2",
          "Premium/F/VVS1",
          "Fair/E/SI2"
         ],
         "labels": [
          "VS1",
          "VVS2",
          "SI1",
          "G",
          "I1",
          "J",
          "VS1",
          "VS1",
          "IF",
          "VS1",
          "SI2",
          "VVS2",
          "SI2",
          "G",
          "VVS1",
          "VVS1",
          "VVS1",
          "VVS1",
          "I1",
          "VVS2",
          "SI1",
          "VVS1",
          "SI2",
          "SI2",
          "VS2",
          "SI2",
          "SI1",
          "VVS1",
          "SI2",
          "VVS2",
          "SI1",
          "SI1",
          "SI1",
          "SI2",
          "VVS1",
          "VVS2",
          "VVS2",
          "I1",
          "IF",
          "VVS1",
          "IF",
          "IF",
          "I1",
          "E",
          "IF",
          "IF",
          "I",
          "IF",
          "VS2",
          "SI1",
          "SI1",
          "VS1",
          "SI1",
          "SI1",
          "SI1",
          "VS1",
          "VS1",
          "SI1",
          "VS1",
          "VS2",
          "VS2",
          "VS2",
          "VS1",
          "VS2",
          "VS2",
          "VS2",
          "VS2",
          "VS2",
          "VS2",
          "VS2",
          "Good",
          "VS2",
          "VS2",
          "VS1",
          "IF",
          "SI2",
          "SI1",
          "I1",
          "I1",
          "I1",
          "F",
          "F",
          "F",
          "F",
          "G",
          "H",
          "H",
          "H",
          "I",
          "I",
          "J",
          "J",
          "Ideal",
          "Premium",
          "I1",
          "I1",
          "I1",
          "I1",
          "SI1",
          "SI1",
          "SI2",
          "SI2",
          "SI2",
          "SI2",
          "SI2",
          "SI2",
          "SI1",
          "SI2",
          "SI2",
          "SI2",
          "SI2",
          "SI2",
          "I1",
          "I1",
          "I1",
          "I1",
          "VS1",
          "VS1",
          "VS2",
          "VVS1",
          "VVS1",
          "VVS2",
          "VVS2",
          "VVS2",
          "VS1",
          "VVS1",
          "VVS1",
          "VVS1",
          "VVS1",
          "VS1",
          "VS1",
          "VVS1",
          "IF",
          "VVS2",
          "VVS1",
          "IF",
          "VS1",
          "VS1",
          "VVS2",
          "VVS2",
          "IF",
          "VVS1",
          "VS1",
          "VS1",
          "VS1",
          "VVS1",
          "VS1",
          "VVS1",
          "SI2",
          "I1",
          "VVS1",
          "VVS1",
          "VS1",
          "SI2",
          "SI2",
          "SI2",
          "SI2",
          "VVS1",
          "VVS1",
          "SI2",
          "VVS1",
          "SI2",
          "VVS1",
          "SI1",
          "VVS2",
          "VVS1",
          "I1",
          "I1",
          "I1",
          "Very Good",
          "IF",
          "IF",
          "J",
          "I",
          "IF",
          "IF",
          "IF",
          "G",
          "F",
          "E",
          "E",
          "IF",
          "D",
          "D",
          "D",
          "D",
          "D",
          "I1",
          "I1",
          "I1",
          "I1",
          "I1",
          "I1",
          "I1",
          "I1",
          "SI1",
          "I1",
          "I1",
          "VVS1",
          "SI1",
          "Fair",
          "SI1",
          "VVS2",
          "VVS2",
          "VVS2",
          "VS2",
          "VVS2",
          "VS2",
          "VVS2",
          "VS2",
          "VVS2",
          "VS2",
          "VS2",
          "VS2",
          "VVS2",
          "VS2",
          "VS2",
          "VS1",
          "VS1",
          "VS1",
          "VS1",
          "VS1",
          "VS1",
          "SI1",
          "VVS2",
          "VS2",
          "SI1",
          "VVS2",
          "SI1",
          "SI1",
          "SI1",
          "SI1",
          "SI1",
          "SI1",
          "VVS2",
          "IF",
          "VVS2",
          "SI1",
          "E",
          "E",
          "VS2",
          "VS2",
          "IF",
          "VS2",
          "VS2",
          "SI2",
          "IF",
          "IF",
          "I1",
          "VS2",
          "IF",
          "IF",
          "IF",
          "VS1",
          "VS1",
          "IF",
          "IF",
          "IF",
          "J",
          "IF",
          "VVS2",
          "I",
          "VS1",
          "VS1",
          "H",
          "VS1",
          "VS1",
          "H",
          "G",
          "VS1",
          "SI1",
          "I1",
          "IF",
          "IF",
          "IF",
          "VVS2",
          "VVS2",
          "SI2",
          "VVS1",
          "VVS1",
          "SI1",
          "VS2",
          "SI1",
          "VVS2",
          "SI1",
          "SI2",
          "SI2",
          "SI1",
          "VVS1",
          "SI2",
          "SI2",
          "SI2",
          "VVS1",
          "SI2",
          "VVS2",
          "I1",
          "IF",
          "VVS1",
          "VS2",
          "I1",
          "I1",
          "IF",
          "VVS1",
          "VS2",
          "IF",
          "VVS2",
          "IF",
          "I1",
          "SI1",
          "VVS2",
          "VVS1",
          "VVS2",
          "VVS2",
          "VS2",
          "VS2",
          "VVS2",
          "VVS2",
          "VS2",
          "VVS1",
          "SI2"
         ],
         "marker": {
          "colors": [
           "#636efa",
           "#EF553B",
           "#636efa",
           "#EF553B",
           "#00cc96",
           "#636efa",
           "#ab63fa",
           "#636efa",
           "#ab63fa",
           "#ab63fa",
           "#EF553B",
           "#FFA15A",
           "#FFA15A",
           "#ab63fa",
           "#FFA15A",
           "#FFA15A",
           "#ab63fa",
           "#FFA15A",
           "#EF553B",
           "#00cc96",
           "#00cc96",
           "#636efa",
           "#636efa",
           "#ab63fa",
           "#636efa",
           "#636efa",
           "#00cc96",
           "#636efa",
           "#EF553B",
           "#636efa",
           "#636efa",
           "#636efa",
           "#ab63fa",
           "#ab63fa",
           "#EF553B",
           "#636efa",
           "#EF553B",
           "#FFA15A",
           "#FFA15A",
           "#00cc96",
           "#FFA15A",
           "#636efa",
           "#636efa",
           "#00cc96",
           "#ab63fa",
           "#00cc96",
           "#00cc96",
           "#00cc96",
           "#00cc96",
           "#636efa",
           "#EF553B",
           "#00cc96",
           "#FFA15A",
           "#ab63fa",
           "#00cc96",
           "#EF553B",
           "#00cc96",
           "#00cc96",
           "#FFA15A",
           "#00cc96",
           "#636efa",
           "#ab63fa",
           "#636efa",
           "#636efa",
           "#636efa",
           "#EF553B",
           "#ab63fa",
           "#FFA15A",
           "#00cc96",
           "#EF553B",
           "#ab63fa",
           "#636efa",
           "#ab63fa",
           "#ab63fa",
           "#00cc96",
           "#636efa",
           "#ab63fa",
           "#ab63fa",
           "#636efa",
           "#ab63fa",
           "#EF553B",
           "#FFA15A",
           "#ab63fa",
           "#636efa",
           "#00cc96",
           "#00cc96",
           "#FFA15A",
           "#ab63fa",
           "#ab63fa",
           "#636efa",
           "#FFA15A",
           "#ab63fa",
           "#00cc96",
           "#EF553B",
           "#636efa",
           "#00cc96",
           "#FFA15A",
           "#ab63fa",
           "#FFA15A",
           "#636efa",
           "#FFA15A",
           "#ab63fa",
           "#636efa",
           "#EF553B",
           "#FFA15A",
           "#00cc96",
           "#EF553B",
           "#636efa",
           "#ab63fa",
           "#636efa",
           "#FFA15A",
           "#00cc96",
           "#ab63fa",
           "#636efa",
           "#00cc96",
           "#EF553B",
           "#636efa",
           "#ab63fa",
           "#636efa",
           "#00cc96",
           "#00cc96",
           "#ab63fa",
           "#FFA15A",
           "#636efa",
           "#00cc96",
           "#FFA15A",
           "#EF553B",
           "#FFA15A",
           "#ab63fa",
           "#FFA15A",
           "#FFA15A",
           "#EF553B",
           "#EF553B",
           "#FFA15A",
           "#00cc96",
           "#ab63fa",
           "#00cc96",
           "#636efa",
           "#FFA15A",
           "#00cc96",
           "#EF553B",
           "#00cc96",
           "#EF553B",
           "#00cc96",
           "#636efa",
           "#EF553B",
           "#ab63fa",
           "#636efa",
           "#FFA15A",
           "#00cc96",
           "#ab63fa",
           "#636efa",
           "#EF553B",
           "#FFA15A",
           "#ab63fa",
           "#EF553B",
           "#00cc96",
           "#EF553B",
           "#636efa",
           "#00cc96",
           "#ab63fa",
           "#EF553B",
           "#636efa",
           "#00cc96",
           "#FFA15A",
           "#EF553B",
           "#EF553B",
           "#FFA15A",
           "#FFA15A",
           "#FFA15A",
           "#EF553B",
           "#ab63fa",
           "#EF553B",
           "#EF553B",
           "#FFA15A",
           "#636efa",
           "#00cc96",
           "#FFA15A",
           "#00cc96",
           "#636efa",
           "#ab63fa",
           "#EF553B",
           "#636efa",
           "#ab63fa",
           "#FFA15A",
           "#EF553B",
           "#00cc96",
           "#FFA15A",
           "#ab63fa",
           "#FFA15A",
           "#EF553B",
           "#636efa",
           "#ab63fa",
           "#00cc96",
           "#636efa",
           "#FFA15A",
           "#636efa",
           "#ab63fa",
           "#00cc96",
           "#EF553B",
           "#636efa",
           "#636efa",
           "#EF553B",
           "#FFA15A",
           "#ab63fa",
           "#EF553B",
           "#636efa",
           "#00cc96",
           "#636efa",
           "#ab63fa",
           "#EF553B",
           "#ab63fa",
           "#FFA15A",
           "#00cc96",
           "#ab63fa",
           "#EF553B",
           "#00cc96",
           "#EF553B",
           "#FFA15A",
           "#00cc96",
           "#EF553B",
           "#00cc96",
           "#FFA15A",
           "#ab63fa",
           "#00cc96",
           "#FFA15A",
           "#636efa",
           "#ab63fa",
           "#ab63fa",
           "#FFA15A",
           "#EF553B",
           "#00cc96",
           "#FFA15A",
           "#FFA15A",
           "#EF553B",
           "#00cc96",
           "#00cc96",
           "#ab63fa",
           "#FFA15A",
           "#EF553B",
           "#FFA15A",
           "#EF553B",
           "#19d3f3",
           "#FFA15A",
           "#ab63fa",
           "#00cc96",
           "#FFA15A",
           "#ab63fa",
           "#EF553B",
           "#ab63fa",
           "#ab63fa",
           "#636efa",
           "#EF553B",
           "#FFA15A",
           "#ab63fa",
           "#00cc96",
           "#EF553B",
           "#FFA15A",
           "#00cc96",
           "#19d3f3",
           "#EF553B",
           "#FFA15A",
           "#FFA15A",
           "#EF553B",
           "#636efa",
           "#ab63fa",
           "#636efa",
           "#EF553B",
           "#636efa",
           "#EF553B",
           "#EF553B",
           "#00cc96",
           "#FFA15A",
           "#19d3f3",
           "#EF553B",
           "#00cc96",
           "#ab63fa",
           "#ab63fa",
           "#636efa",
           "#00cc96",
           "#ab63fa",
           "#FFA15A",
           "#EF553B",
           "#ab63fa",
           "#EF553B",
           "#EF553B",
           "#00cc96",
           "#FFA15A",
           "#FFA15A",
           "#FFA15A",
           "#EF553B",
           "#00cc96",
           "#ab63fa",
           "#ab63fa",
           "#636efa",
           "#FFA15A",
           "#00cc96",
           "#ab63fa",
           "#EF553B",
           "#EF553B",
           "#00cc96",
           "#FFA15A",
           "#FFA15A",
           "#636efa",
           "#ab63fa",
           "#00cc96",
           "#19d3f3",
           "#EF553B",
           "#00cc96",
           "#00cc96",
           "#ab63fa",
           "#EF553B",
           "#FFA15A",
           "#EF553B",
           "#FFA15A",
           "#ab63fa",
           "#636efa",
           "#00cc96",
           "#EF553B",
           "#636efa"
          ]
         },
         "name": "",
         "parents": [
          "Fair/H",
          "Premium/H",
          "Fair/I",
          "Premium",
          "Ideal/F",
          "Fair",
          "Good/G",
          "Fair/G",
          "Good/E",
          "Good/H",
          "Premium/J",
          "Very Good/I",
          "Very Good/G",
          "Good",
          "Very Good/F",
          "Very Good/D",
          "Good/E",
          "Very Good/E",
          "Premium/E",
          "Ideal/I",
          "Ideal/G",
          "Fair/E",
          "Fair/J",
          "Good/I",
          "Fair/I",
          "Fair/I",
          "Ideal/D",
          "Fair/H",
          "Premium/F",
          "Fair/F",
          "Fair/E",
          "Fair/F",
          "Good/I",
          "Good/J",
          "Premium/D",
          "Fair/D",
          "Premium/I",
          "Very Good/I",
          "Very Good/D",
          "Ideal/D",
          "Very Good/G",
          "Fair/D",
          "Fair/J",
          "Ideal",
          "Good/G",
          "Ideal/H",
          "Ideal",
          "Ideal/F",
          "Ideal/E",
          "Fair/D",
          "Premium/E",
          "Ideal/I",
          "Very Good/E",
          "Good/E",
          "Ideal/F",
          "Premium/G",
          "Ideal/G",
          "Ideal/E",
          "Very Good/I",
          "Ideal/J",
          "Fair/J",
          "Good/J",
          "Fair/J",
          "Fair/D",
          "Fair/E",
          "Premium/F",
          "Good/I",
          "Very Good/I",
          "Ideal/G",
          "Premium/G",
          "",
          "Fair/H",
          "Good/H",
          "Good/J",
          "Ideal/D",
          "Fair/G",
          "Good/H",
          "Good/I",
          "Fair/I",
          "Good/J",
          "Premium",
          "Very Good",
          "Good",
          "Fair",
          "Ideal",
          "Ideal",
          "Very Good",
          "Good",
          "Good",
          "Fair",
          "Very Good",
          "Good",
          "",
          "",
          "Fair/H",
          "Ideal/H",
          "Very Good/G",
          "Good/F",
          "Very Good/J",
          "Fair/J",
          "Very Good/D",
          "Good/D",
          "Fair/D",
          "Premium/E",
          "Very Good/E",
          "Ideal/F",
          "Premium/G",
          "Fair/F",
          "Good/H",
          "Fair/H",
          "Very Good/I",
          "Ideal/J",
          "Good/D",
          "Fair/D",
          "Ideal/E",
          "Premium/F",
          "Fair/F",
          "Good/F",
          "Fair/G",
          "Ideal/J",
          "Ideal/I",
          "Good/F",
          "Very Good/F",
          "Fair/J",
          "Ideal/D",
          "Very Good/G",
          "Premium/E",
          "Very Good/I",
          "Good/I",
          "Very Good/F",
          "Very Good/D",
          "Premium/G",
          "Premium/G",
          "Very Good/J",
          "Ideal/H",
          "Good/F",
          "Ideal/F",
          "Fair/E",
          "Very Good/H",
          "Ideal/H",
          "Premium/F",
          "Ideal/E",
          "Premium/E",
          "Ideal/E",
          "Fair/D",
          "Premium/J",
          "Good/D",
          "Fair/D",
          "Very Good/J",
          "Ideal/D",
          "Good/G",
          "Fair/G",
          "Premium/F",
          "Very Good/F",
          "Good/G",
          "Premium/G",
          "Ideal/G",
          "Premium/I",
          "Fair/I",
          "Ideal/E",
          "Good/J",
          "Premium/D",
          "Fair/J",
          "Ideal/J",
          "Very Good/D",
          "Premium/H",
          "Premium/D",
          "Very Good/F",
          "Very Good/E",
          "",
          "Premium/D",
          "Good/D",
          "Premium",
          "Premium",
          "Very Good/F",
          "Fair/F",
          "Ideal/G",
          "Very Good",
          "Ideal",
          "Fair",
          "Good",
          "Premium/I",
          "Fair",
          "Good",
          "Very Good",
          "Premium",
          "Ideal",
          "Very Good/J",
          "Good/H",
          "Very Good/H",
          "Premium/H",
          "Fair/G",
          "Good/G",
          "Ideal/G",
          "Fair/F",
          "Very Good/I",
          "Fair/E",
          "Good/E",
          "Ideal/F",
          "Premium/I",
          "",
          "Fair/H",
          "Premium/G",
          "Very Good/G",
          "Good/G",
          "Premium/J",
          "Fair/G",
          "Ideal/H",
          "Fair/I",
          "Good/G",
          "Premium/J",
          "Good/F",
          "Very Good/F",
          "Ideal/F",
          "Good/J",
          "Premium/D",
          "Ideal/D",
          "Premium/D",
          "Very Good/J",
          "Ideal/J",
          "Premium/H",
          "Ideal/H",
          "Very Good/E",
          "Good/D",
          "Ideal/G",
          "Very Good/G",
          "Fair/G",
          "Good/D",
          "Good/G",
          "Very Good/H",
          "Premium/H",
          "Ideal/H",
          "Very Good/G",
          "Very Good/F",
          "Premium/F",
          "Ideal/I",
          "Ideal/D",
          "Good/J",
          "Very Good",
          "Premium",
          "Very Good/D",
          "Premium/E",
          "Fair/H",
          "Very Good/E",
          "Good/E",
          "Ideal/D",
          "Very Good/I",
          "Good/I",
          "Premium/J",
          "Good/D",
          "Good/H",
          "Fair/G",
          "Premium/H",
          "Very Good/G",
          "Good/E",
          "Ideal/E",
          "Premium/E",
          "Very Good/E",
          "Ideal",
          "Fair/E",
          "Premium/D",
          "Very Good",
          "Very Good/H",
          "Premium/I",
          "Fair",
          "Good/I",
          "Fair/I",
          "Premium",
          "Fair",
          "Premium/J",
          "Premium/J",
          "Ideal/J",
          "Very Good/H",
          "Fair/I",
          "Premium/J",
          "Ideal/F",
          "Good/H",
          "Good/E",
          "Fair/F",
          "Ideal/G",
          "Good/F",
          "Very Good/J",
          "Premium/F",
          "Good/E",
          "Premium/D",
          "Premium/I",
          "Ideal/I",
          "Very Good/D",
          "Very Good/H",
          "Very Good/H",
          "Premium/H",
          "Ideal/H",
          "Good/H",
          "Good/F",
          "Fair/E",
          "Very Good/D",
          "Ideal/J",
          "Good/F",
          "Premium/I",
          "Premium/I",
          "Ideal/I",
          "Very Good/J",
          "Very Good/J",
          "Fair/F",
          "Good/J",
          "Ideal/J",
          "Fair/J",
          "Premium/G",
          "Ideal/I",
          "Ideal/E",
          "Good/D",
          "Premium/E",
          "Very Good/E",
          "Premium/H",
          "Very Good/H",
          "Good/I",
          "Fair/H",
          "Ideal/I",
          "Premium/F",
          "Fair/E"
         ],
         "type": "sunburst",
         "values": [
          147352,
          312849,
          137249,
          13160170,
          163945,
          592103,
          653969,
          157393,
          13673,
          294072,
          1215596,
          217252,
          1536661,
          3591553,
          491818,
          155362,
          81956,
          339566,
          95978,
          508845,
          2271131,
          12346,
          138559,
          561574,
          123396,
          299611,
          1837959,
          4115,
          2482728,
          40182,
          253575,
          314129,
          782586,
          281224,
          150840,
          32463,
          261643,
          48361,
          236860,
          389632,
          278494,
          4859,
          133286,
          10138238,
          89323,
          448105,
          9317974,
          577194,
          2457536,
          247854,
          2064652,
          1609324,
          2020838,
          1122557,
          2255876,
          2510676,
          3923423,
          2208997,
          1081779,
          1129175,
          93560,
          432285,
          94499,
          112822,
          127752,
          2613088,
          655222,
          1576772,
          3922132,
          3285060,
          19275009,
          209548,
          611760,
          190467,
          183881,
          453212,
          982132,
          37579,
          119034,
          15178,
          10081319,
          8177367,
          3177637,
          1194025,
          18171930,
          12115278,
          8272552,
          3001931,
          2650994,
          819953,
          3460182,
          1404271,
          74513487,
          63221498,
          219074,
          205777,
          51117,
          48821,
          914831,
          127510,
          1389594,
          801751,
          243888,
          2330274,
          1904354,
          1963985,
          2435695,
          402290,
          873705,
          548039,
          1324320,
          721069,
          27926,
          29532,
          64069,
          120855,
          135401,
          367951,
          242300,
          58005,
          364157,
          159618,
          862016,
          2998,
          904190,
          516673,
          283485,
          141893,
          58321,
          1137075,
          517209,
          501655,
          288067,
          172853,
          624611,
          46993,
          2158465,
          46311,
          401381,
          748844,
          112145,
          738849,
          1086735,
          1290248,
          14606,
          173865,
          152933,
          13419,
          767091,
          45850,
          110913,
          6649,
          1379831,
          1457667,
          778555,
          2763665,
          2241474,
          153811,
          4194,
          1825021,
          4633,
          1831807,
          1691,
          1243109,
          368757,
          162821,
          45825,
          55288,
          75758,
          48107623,
          90565,
          90273,
          5086030,
          8491146,
          313364,
          9376,
          1083161,
          8903461,
          12912518,
          824838,
          3194260,
          54247,
          699443,
          2254363,
          5250817,
          5820962,
          7450854,
          35827,
          53896,
          63106,
          179600,
          168936,
          60720,
          64711,
          89023,
          1859918,
          18857,
          101157,
          1148943,
          2235798,
          7017600,
          389685,
          1188982,
          1120959,
          248285,
          1247463,
          52684,
          2245754,
          23957,
          795017,
          218394,
          697460,
          1862110,
          2915823,
          56825,
          989662,
          1942973,
          547324,
          520751,
          951620,
          1326977,
          1687423,
          905182,
          716018,
          2937834,
          2120445,
          246976,
          58641,
          854771,
          2698868,
          3738558,
          3639501,
          1650407,
          1998029,
          598522,
          142749,
          1027800,
          407231,
          7715165,
          8270443,
          971865,
          1931278,
          0,
          1674737,
          603523,
          1118569,
          77784,
          10496,
          59504,
          373200,
          23795,
          2976,
          135390,
          1628705,
          330437,
          257456,
          122187,
          186308,
          4406695,
          0,
          365513,
          6328079,
          963801,
          1180000,
          1556112,
          473508,
          112512,
          12311428,
          1331126,
          890041,
          1196855,
          18908,
          76783,
          0,
          84312,
          1728287,
          109260,
          764669,
          23399,
          1728064,
          890377,
          979901,
          2456604,
          176288,
          1799426,
          2230327,
          1970584,
          1598056,
          234852,
          2096558,
          3500571,
          2515263,
          53311,
          889784,
          40551,
          13114,
          62225,
          76633,
          2254249,
          121071,
          69756,
          8593,
          60335,
          180225,
          16428,
          222584,
          0,
          186370,
          2609997,
          1296062,
          33621,
          355854,
          608422,
          2954662,
          1737203,
          71708,
          38299,
          2042562,
          317546,
          325446
         ]
        }
       ],
       "layout": {
        "legend": {
         "tracegroupgap": 0
        },
        "margin": {
         "t": 60
        },
        "template": {
         "data": {
          "bar": [
           {
            "error_x": {
             "color": "#2a3f5f"
            },
            "error_y": {
             "color": "#2a3f5f"
            },
            "marker": {
             "line": {
              "color": "#E5ECF6",
              "width": 0.5
             },
             "pattern": {
              "fillmode": "overlay",
              "size": 10,
              "solidity": 0.2
             }
            },
            "type": "bar"
           }
          ],
          "barpolar": [
           {
            "marker": {
             "line": {
              "color": "#E5ECF6",
              "width": 0.5
             },
             "pattern": {
              "fillmode": "overlay",
              "size": 10,
              "solidity": 0.2
             }
            },
            "type": "barpolar"
           }
          ],
          "carpet": [
           {
            "aaxis": {
             "endlinecolor": "#2a3f5f",
             "gridcolor": "white",
             "linecolor": "white",
             "minorgridcolor": "white",
             "startlinecolor": "#2a3f5f"
            },
            "baxis": {
             "endlinecolor": "#2a3f5f",
             "gridcolor": "white",
             "linecolor": "white",
             "minorgridcolor": "white",
             "startlinecolor": "#2a3f5f"
            },
            "type": "carpet"
           }
          ],
          "choropleth": [
           {
            "colorbar": {
             "outlinewidth": 0,
             "ticks": ""
            },
            "type": "choropleth"
           }
          ],
          "contour": [
           {
            "colorbar": {
             "outlinewidth": 0,
             "ticks": ""
            },
            "colorscale": [
             [
              0,
              "#0d0887"
             ],
             [
              0.1111111111111111,
              "#46039f"
             ],
             [
              0.2222222222222222,
              "#7201a8"
             ],
             [
              0.3333333333333333,
              "#9c179e"
             ],
             [
              0.4444444444444444,
              "#bd3786"
             ],
             [
              0.5555555555555556,
              "#d8576b"
             ],
             [
              0.6666666666666666,
              "#ed7953"
             ],
             [
              0.7777777777777778,
              "#fb9f3a"
             ],
             [
              0.8888888888888888,
              "#fdca26"
             ],
             [
              1,
              "#f0f921"
             ]
            ],
            "type": "contour"
           }
          ],
          "contourcarpet": [
           {
            "colorbar": {
             "outlinewidth": 0,
             "ticks": ""
            },
            "type": "contourcarpet"
           }
          ],
          "heatmap": [
           {
            "colorbar": {
             "outlinewidth": 0,
             "ticks": ""
            },
            "colorscale": [
             [
              0,
              "#0d0887"
             ],
             [
              0.1111111111111111,
              "#46039f"
             ],
             [
              0.2222222222222222,
              "#7201a8"
             ],
             [
              0.3333333333333333,
              "#9c179e"
             ],
             [
              0.4444444444444444,
              "#bd3786"
             ],
             [
              0.5555555555555556,
              "#d8576b"
             ],
             [
              0.6666666666666666,
              "#ed7953"
             ],
             [
              0.7777777777777778,
              "#fb9f3a"
             ],
             [
              0.8888888888888888,
              "#fdca26"
             ],
             [
              1,
              "#f0f921"
             ]
            ],
            "type": "heatmap"
           }
          ],
          "heatmapgl": [
           {
            "colorbar": {
             "outlinewidth": 0,
             "ticks": ""
            },
            "colorscale": [
             [
              0,
              "#0d0887"
             ],
             [
              0.1111111111111111,
              "#46039f"
             ],
             [
              0.2222222222222222,
              "#7201a8"
             ],
             [
              0.3333333333333333,
              "#9c179e"
             ],
             [
              0.4444444444444444,
              "#bd3786"
             ],
             [
              0.5555555555555556,
              "#d8576b"
             ],
             [
              0.6666666666666666,
              "#ed7953"
             ],
             [
              0.7777777777777778,
              "#fb9f3a"
             ],
             [
              0.8888888888888888,
              "#fdca26"
             ],
             [
              1,
              "#f0f921"
             ]
            ],
            "type": "heatmapgl"
           }
          ],
          "histogram": [
           {
            "marker": {
             "pattern": {
              "fillmode": "overlay",
              "size": 10,
              "solidity": 0.2
             }
            },
            "type": "histogram"
           }
          ],
          "histogram2d": [
           {
            "colorbar": {
             "outlinewidth": 0,
             "ticks": ""
            },
            "colorscale": [
             [
              0,
              "#0d0887"
             ],
             [
              0.1111111111111111,
              "#46039f"
             ],
             [
              0.2222222222222222,
              "#7201a8"
             ],
             [
              0.3333333333333333,
              "#9c179e"
             ],
             [
              0.4444444444444444,
              "#bd3786"
             ],
             [
              0.5555555555555556,
              "#d8576b"
             ],
             [
              0.6666666666666666,
              "#ed7953"
             ],
             [
              0.7777777777777778,
              "#fb9f3a"
             ],
             [
              0.8888888888888888,
              "#fdca26"
             ],
             [
              1,
              "#f0f921"
             ]
            ],
            "type": "histogram2d"
           }
          ],
          "histogram2dcontour": [
           {
            "colorbar": {
             "outlinewidth": 0,
             "ticks": ""
            },
            "colorscale": [
             [
              0,
              "#0d0887"
             ],
             [
              0.1111111111111111,
              "#46039f"
             ],
             [
              0.2222222222222222,
              "#7201a8"
             ],
             [
              0.3333333333333333,
              "#9c179e"
             ],
             [
              0.4444444444444444,
              "#bd3786"
             ],
             [
              0.5555555555555556,
              "#d8576b"
             ],
             [
              0.6666666666666666,
              "#ed7953"
             ],
             [
              0.7777777777777778,
              "#fb9f3a"
             ],
             [
              0.8888888888888888,
              "#fdca26"
             ],
             [
              1,
              "#f0f921"
             ]
            ],
            "type": "histogram2dcontour"
           }
          ],
          "mesh3d": [
           {
            "colorbar": {
             "outlinewidth": 0,
             "ticks": ""
            },
            "type": "mesh3d"
           }
          ],
          "parcoords": [
           {
            "line": {
             "colorbar": {
              "outlinewidth": 0,
              "ticks": ""
             }
            },
            "type": "parcoords"
           }
          ],
          "pie": [
           {
            "automargin": true,
            "type": "pie"
           }
          ],
          "scatter": [
           {
            "fillpattern": {
             "fillmode": "overlay",
             "size": 10,
             "solidity": 0.2
            },
            "type": "scatter"
           }
          ],
          "scatter3d": [
           {
            "line": {
             "colorbar": {
              "outlinewidth": 0,
              "ticks": ""
             }
            },
            "marker": {
             "colorbar": {
              "outlinewidth": 0,
              "ticks": ""
             }
            },
            "type": "scatter3d"
           }
          ],
          "scattercarpet": [
           {
            "marker": {
             "colorbar": {
              "outlinewidth": 0,
              "ticks": ""
             }
            },
            "type": "scattercarpet"
           }
          ],
          "scattergeo": [
           {
            "marker": {
             "colorbar": {
              "outlinewidth": 0,
              "ticks": ""
             }
            },
            "type": "scattergeo"
           }
          ],
          "scattergl": [
           {
            "marker": {
             "colorbar": {
              "outlinewidth": 0,
              "ticks": ""
             }
            },
            "type": "scattergl"
           }
          ],
          "scattermapbox": [
           {
            "marker": {
             "colorbar": {
              "outlinewidth": 0,
              "ticks": ""
             }
            },
            "type": "scattermapbox"
           }
          ],
          "scatterpolar": [
           {
            "marker": {
             "colorbar": {
              "outlinewidth": 0,
              "ticks": ""
             }
            },
            "type": "scatterpolar"
           }
          ],
          "scatterpolargl": [
           {
            "marker": {
             "colorbar": {
              "outlinewidth": 0,
              "ticks": ""
             }
            },
            "type": "scatterpolargl"
           }
          ],
          "scatterternary": [
           {
            "marker": {
             "colorbar": {
              "outlinewidth": 0,
              "ticks": ""
             }
            },
            "type": "scatterternary"
           }
          ],
          "surface": [
           {
            "colorbar": {
             "outlinewidth": 0,
             "ticks": ""
            },
            "colorscale": [
             [
              0,
              "#0d0887"
             ],
             [
              0.1111111111111111,
              "#46039f"
             ],
             [
              0.2222222222222222,
              "#7201a8"
             ],
             [
              0.3333333333333333,
              "#9c179e"
             ],
             [
              0.4444444444444444,
              "#bd3786"
             ],
             [
              0.5555555555555556,
              "#d8576b"
             ],
             [
              0.6666666666666666,
              "#ed7953"
             ],
             [
              0.7777777777777778,
              "#fb9f3a"
             ],
             [
              0.8888888888888888,
              "#fdca26"
             ],
             [
              1,
              "#f0f921"
             ]
            ],
            "type": "surface"
           }
          ],
          "table": [
           {
            "cells": {
             "fill": {
              "color": "#EBF0F8"
             },
             "line": {
              "color": "white"
             }
            },
            "header": {
             "fill": {
              "color": "#C8D4E3"
             },
             "line": {
              "color": "white"
             }
            },
            "type": "table"
           }
          ]
         },
         "layout": {
          "annotationdefaults": {
           "arrowcolor": "#2a3f5f",
           "arrowhead": 0,
           "arrowwidth": 1
          },
          "autotypenumbers": "strict",
          "coloraxis": {
           "colorbar": {
            "outlinewidth": 0,
            "ticks": ""
           }
          },
          "colorscale": {
           "diverging": [
            [
             0,
             "#8e0152"
            ],
            [
             0.1,
             "#c51b7d"
            ],
            [
             0.2,
             "#de77ae"
            ],
            [
             0.3,
             "#f1b6da"
            ],
            [
             0.4,
             "#fde0ef"
            ],
            [
             0.5,
             "#f7f7f7"
            ],
            [
             0.6,
             "#e6f5d0"
            ],
            [
             0.7,
             "#b8e186"
            ],
            [
             0.8,
             "#7fbc41"
            ],
            [
             0.9,
             "#4d9221"
            ],
            [
             1,
             "#276419"
            ]
           ],
           "sequential": [
            [
             0,
             "#0d0887"
            ],
            [
             0.1111111111111111,
             "#46039f"
            ],
            [
             0.2222222222222222,
             "#7201a8"
            ],
            [
             0.3333333333333333,
             "#9c179e"
            ],
            [
             0.4444444444444444,
             "#bd3786"
            ],
            [
             0.5555555555555556,
             "#d8576b"
            ],
            [
             0.6666666666666666,
             "#ed7953"
            ],
            [
             0.7777777777777778,
             "#fb9f3a"
            ],
            [
             0.8888888888888888,
             "#fdca26"
            ],
            [
             1,
             "#f0f921"
            ]
           ],
           "sequentialminus": [
            [
             0,
             "#0d0887"
            ],
            [
             0.1111111111111111,
             "#46039f"
            ],
            [
             0.2222222222222222,
             "#7201a8"
            ],
            [
             0.3333333333333333,
             "#9c179e"
            ],
            [
             0.4444444444444444,
             "#bd3786"
            ],
            [
             0.5555555555555556,
             "#d8576b"
            ],
            [
             0.6666666666666666,
             "#ed7953"
            ],
            [
             0.7777777777777778,
             "#fb9f3a"
            ],
            [
             0.8888888888888888,
             "#fdca26"
            ],
            [
             1,
             "#f0f921"
            ]
           ]
          },
          "colorway": [
           "#636efa",
           "#EF553B",
           "#00cc96",
           "#ab63fa",
           "#FFA15A",
           "#19d3f3",
           "#FF6692",
           "#B6E880",
           "#FF97FF",
           "#FECB52"
          ],
          "font": {
           "color": "#2a3f5f"
          },
          "geo": {
           "bgcolor": "white",
           "lakecolor": "white",
           "landcolor": "#E5ECF6",
           "showlakes": true,
           "showland": true,
           "subunitcolor": "white"
          },
          "hoverlabel": {
           "align": "left"
          },
          "hovermode": "closest",
          "mapbox": {
           "style": "light"
          },
          "paper_bgcolor": "white",
          "plot_bgcolor": "#E5ECF6",
          "polar": {
           "angularaxis": {
            "gridcolor": "white",
            "linecolor": "white",
            "ticks": ""
           },
           "bgcolor": "#E5ECF6",
           "radialaxis": {
            "gridcolor": "white",
            "linecolor": "white",
            "ticks": ""
           }
          },
          "scene": {
           "xaxis": {
            "backgroundcolor": "#E5ECF6",
            "gridcolor": "white",
            "gridwidth": 2,
            "linecolor": "white",
            "showbackground": true,
            "ticks": "",
            "zerolinecolor": "white"
           },
           "yaxis": {
            "backgroundcolor": "#E5ECF6",
            "gridcolor": "white",
            "gridwidth": 2,
            "linecolor": "white",
            "showbackground": true,
            "ticks": "",
            "zerolinecolor": "white"
           },
           "zaxis": {
            "backgroundcolor": "#E5ECF6",
            "gridcolor": "white",
            "gridwidth": 2,
            "linecolor": "white",
            "showbackground": true,
            "ticks": "",
            "zerolinecolor": "white"
           }
          },
          "shapedefaults": {
           "line": {
            "color": "#2a3f5f"
           }
          },
          "ternary": {
           "aaxis": {
            "gridcolor": "white",
            "linecolor": "white",
            "ticks": ""
           },
           "baxis": {
            "gridcolor": "white",
            "linecolor": "white",
            "ticks": ""
           },
           "bgcolor": "#E5ECF6",
           "caxis": {
            "gridcolor": "white",
            "linecolor": "white",
            "ticks": ""
           }
          },
          "title": {
           "x": 0.05
          },
          "xaxis": {
           "automargin": true,
           "gridcolor": "white",
           "linecolor": "white",
           "ticks": "",
           "title": {
            "standoff": 15
           },
           "zerolinecolor": "white",
           "zerolinewidth": 2
          },
          "yaxis": {
           "automargin": true,
           "gridcolor": "white",
           "linecolor": "white",
           "ticks": "",
           "title": {
            "standoff": 15
           },
           "zerolinecolor": "white",
           "zerolinewidth": 2
          }
         }
        }
       }
      }
     },
     "metadata": {},
     "output_type": "display_data"
    }
   ],
   "source": [
    "fig = px.sunburst(diamonds,path=['cut','color','clarity'],values='price',color='cut',hover_data=['carat'])\n",
    "fig.show()"
   ]
  },
  {
   "cell_type": "code",
   "execution_count": 50,
   "metadata": {},
   "outputs": [
    {
     "data": {
      "text/html": [
       "<div>\n",
       "<style scoped>\n",
       "    .dataframe tbody tr th:only-of-type {\n",
       "        vertical-align: middle;\n",
       "    }\n",
       "\n",
       "    .dataframe tbody tr th {\n",
       "        vertical-align: top;\n",
       "    }\n",
       "\n",
       "    .dataframe thead th {\n",
       "        text-align: right;\n",
       "    }\n",
       "</style>\n",
       "<table border=\"1\" class=\"dataframe\">\n",
       "  <thead>\n",
       "    <tr style=\"text-align: right;\">\n",
       "      <th></th>\n",
       "      <th>total_bill</th>\n",
       "      <th>tip</th>\n",
       "      <th>sex</th>\n",
       "      <th>smoker</th>\n",
       "      <th>day</th>\n",
       "      <th>time</th>\n",
       "      <th>size</th>\n",
       "    </tr>\n",
       "  </thead>\n",
       "  <tbody>\n",
       "    <tr>\n",
       "      <th>0</th>\n",
       "      <td>16.99</td>\n",
       "      <td>1.01</td>\n",
       "      <td>Female</td>\n",
       "      <td>No</td>\n",
       "      <td>Sun</td>\n",
       "      <td>Dinner</td>\n",
       "      <td>2</td>\n",
       "    </tr>\n",
       "    <tr>\n",
       "      <th>1</th>\n",
       "      <td>10.34</td>\n",
       "      <td>1.66</td>\n",
       "      <td>Male</td>\n",
       "      <td>No</td>\n",
       "      <td>Sun</td>\n",
       "      <td>Dinner</td>\n",
       "      <td>3</td>\n",
       "    </tr>\n",
       "    <tr>\n",
       "      <th>2</th>\n",
       "      <td>21.01</td>\n",
       "      <td>3.50</td>\n",
       "      <td>Male</td>\n",
       "      <td>No</td>\n",
       "      <td>Sun</td>\n",
       "      <td>Dinner</td>\n",
       "      <td>3</td>\n",
       "    </tr>\n",
       "    <tr>\n",
       "      <th>3</th>\n",
       "      <td>23.68</td>\n",
       "      <td>3.31</td>\n",
       "      <td>Male</td>\n",
       "      <td>No</td>\n",
       "      <td>Sun</td>\n",
       "      <td>Dinner</td>\n",
       "      <td>2</td>\n",
       "    </tr>\n",
       "    <tr>\n",
       "      <th>4</th>\n",
       "      <td>24.59</td>\n",
       "      <td>3.61</td>\n",
       "      <td>Female</td>\n",
       "      <td>No</td>\n",
       "      <td>Sun</td>\n",
       "      <td>Dinner</td>\n",
       "      <td>4</td>\n",
       "    </tr>\n",
       "  </tbody>\n",
       "</table>\n",
       "</div>"
      ],
      "text/plain": [
       "   total_bill   tip     sex smoker  day    time  size\n",
       "0       16.99  1.01  Female     No  Sun  Dinner     2\n",
       "1       10.34  1.66    Male     No  Sun  Dinner     3\n",
       "2       21.01  3.50    Male     No  Sun  Dinner     3\n",
       "3       23.68  3.31    Male     No  Sun  Dinner     2\n",
       "4       24.59  3.61  Female     No  Sun  Dinner     4"
      ]
     },
     "execution_count": 50,
     "metadata": {},
     "output_type": "execute_result"
    }
   ],
   "source": [
    "df = sns.load_dataset('tips')\n",
    "df.head()"
   ]
  },
  {
   "cell_type": "code",
   "execution_count": 51,
   "metadata": {},
   "outputs": [
    {
     "data": {
      "application/vnd.plotly.v1+json": {
       "config": {
        "plotlyServerURL": "https://plot.ly"
       },
       "data": [
        {
         "branchvalues": "total",
         "domain": {
          "x": [
           0,
           1
          ],
          "y": [
           0,
           1
          ]
         },
         "hovertemplate": "labels=%{label}<br>total_bill=%{value}<br>parent=%{parent}<br>id=%{id}<extra></extra>",
         "ids": [
          "Thur/Male",
          "Fri/Male",
          "Sat/Male",
          "Sun/Male",
          "Thur/Female",
          "Fri/Female",
          "Sat/Female",
          "Sun/Female",
          "Thur",
          "Fri",
          "Sat",
          "Sun"
         ],
         "labels": [
          "Male",
          "Male",
          "Male",
          "Male",
          "Female",
          "Female",
          "Female",
          "Female",
          "Thur",
          "Fri",
          "Sat",
          "Sun"
         ],
         "name": "",
         "parents": [
          "Thur",
          "Fri",
          "Sat",
          "Sun",
          "Thur",
          "Fri",
          "Sat",
          "Sun",
          "",
          "",
          "",
          ""
         ],
         "type": "sunburst",
         "values": [
          561.4399999999999,
          198.57,
          1227.35,
          1269.46,
          534.89,
          127.31,
          551.05,
          357.7,
          1096.33,
          325.88,
          1778.4,
          1627.16
         ]
        }
       ],
       "layout": {
        "legend": {
         "tracegroupgap": 0
        },
        "margin": {
         "t": 60
        },
        "template": {
         "data": {
          "bar": [
           {
            "error_x": {
             "color": "#2a3f5f"
            },
            "error_y": {
             "color": "#2a3f5f"
            },
            "marker": {
             "line": {
              "color": "#E5ECF6",
              "width": 0.5
             },
             "pattern": {
              "fillmode": "overlay",
              "size": 10,
              "solidity": 0.2
             }
            },
            "type": "bar"
           }
          ],
          "barpolar": [
           {
            "marker": {
             "line": {
              "color": "#E5ECF6",
              "width": 0.5
             },
             "pattern": {
              "fillmode": "overlay",
              "size": 10,
              "solidity": 0.2
             }
            },
            "type": "barpolar"
           }
          ],
          "carpet": [
           {
            "aaxis": {
             "endlinecolor": "#2a3f5f",
             "gridcolor": "white",
             "linecolor": "white",
             "minorgridcolor": "white",
             "startlinecolor": "#2a3f5f"
            },
            "baxis": {
             "endlinecolor": "#2a3f5f",
             "gridcolor": "white",
             "linecolor": "white",
             "minorgridcolor": "white",
             "startlinecolor": "#2a3f5f"
            },
            "type": "carpet"
           }
          ],
          "choropleth": [
           {
            "colorbar": {
             "outlinewidth": 0,
             "ticks": ""
            },
            "type": "choropleth"
           }
          ],
          "contour": [
           {
            "colorbar": {
             "outlinewidth": 0,
             "ticks": ""
            },
            "colorscale": [
             [
              0,
              "#0d0887"
             ],
             [
              0.1111111111111111,
              "#46039f"
             ],
             [
              0.2222222222222222,
              "#7201a8"
             ],
             [
              0.3333333333333333,
              "#9c179e"
             ],
             [
              0.4444444444444444,
              "#bd3786"
             ],
             [
              0.5555555555555556,
              "#d8576b"
             ],
             [
              0.6666666666666666,
              "#ed7953"
             ],
             [
              0.7777777777777778,
              "#fb9f3a"
             ],
             [
              0.8888888888888888,
              "#fdca26"
             ],
             [
              1,
              "#f0f921"
             ]
            ],
            "type": "contour"
           }
          ],
          "contourcarpet": [
           {
            "colorbar": {
             "outlinewidth": 0,
             "ticks": ""
            },
            "type": "contourcarpet"
           }
          ],
          "heatmap": [
           {
            "colorbar": {
             "outlinewidth": 0,
             "ticks": ""
            },
            "colorscale": [
             [
              0,
              "#0d0887"
             ],
             [
              0.1111111111111111,
              "#46039f"
             ],
             [
              0.2222222222222222,
              "#7201a8"
             ],
             [
              0.3333333333333333,
              "#9c179e"
             ],
             [
              0.4444444444444444,
              "#bd3786"
             ],
             [
              0.5555555555555556,
              "#d8576b"
             ],
             [
              0.6666666666666666,
              "#ed7953"
             ],
             [
              0.7777777777777778,
              "#fb9f3a"
             ],
             [
              0.8888888888888888,
              "#fdca26"
             ],
             [
              1,
              "#f0f921"
             ]
            ],
            "type": "heatmap"
           }
          ],
          "heatmapgl": [
           {
            "colorbar": {
             "outlinewidth": 0,
             "ticks": ""
            },
            "colorscale": [
             [
              0,
              "#0d0887"
             ],
             [
              0.1111111111111111,
              "#46039f"
             ],
             [
              0.2222222222222222,
              "#7201a8"
             ],
             [
              0.3333333333333333,
              "#9c179e"
             ],
             [
              0.4444444444444444,
              "#bd3786"
             ],
             [
              0.5555555555555556,
              "#d8576b"
             ],
             [
              0.6666666666666666,
              "#ed7953"
             ],
             [
              0.7777777777777778,
              "#fb9f3a"
             ],
             [
              0.8888888888888888,
              "#fdca26"
             ],
             [
              1,
              "#f0f921"
             ]
            ],
            "type": "heatmapgl"
           }
          ],
          "histogram": [
           {
            "marker": {
             "pattern": {
              "fillmode": "overlay",
              "size": 10,
              "solidity": 0.2
             }
            },
            "type": "histogram"
           }
          ],
          "histogram2d": [
           {
            "colorbar": {
             "outlinewidth": 0,
             "ticks": ""
            },
            "colorscale": [
             [
              0,
              "#0d0887"
             ],
             [
              0.1111111111111111,
              "#46039f"
             ],
             [
              0.2222222222222222,
              "#7201a8"
             ],
             [
              0.3333333333333333,
              "#9c179e"
             ],
             [
              0.4444444444444444,
              "#bd3786"
             ],
             [
              0.5555555555555556,
              "#d8576b"
             ],
             [
              0.6666666666666666,
              "#ed7953"
             ],
             [
              0.7777777777777778,
              "#fb9f3a"
             ],
             [
              0.8888888888888888,
              "#fdca26"
             ],
             [
              1,
              "#f0f921"
             ]
            ],
            "type": "histogram2d"
           }
          ],
          "histogram2dcontour": [
           {
            "colorbar": {
             "outlinewidth": 0,
             "ticks": ""
            },
            "colorscale": [
             [
              0,
              "#0d0887"
             ],
             [
              0.1111111111111111,
              "#46039f"
             ],
             [
              0.2222222222222222,
              "#7201a8"
             ],
             [
              0.3333333333333333,
              "#9c179e"
             ],
             [
              0.4444444444444444,
              "#bd3786"
             ],
             [
              0.5555555555555556,
              "#d8576b"
             ],
             [
              0.6666666666666666,
              "#ed7953"
             ],
             [
              0.7777777777777778,
              "#fb9f3a"
             ],
             [
              0.8888888888888888,
              "#fdca26"
             ],
             [
              1,
              "#f0f921"
             ]
            ],
            "type": "histogram2dcontour"
           }
          ],
          "mesh3d": [
           {
            "colorbar": {
             "outlinewidth": 0,
             "ticks": ""
            },
            "type": "mesh3d"
           }
          ],
          "parcoords": [
           {
            "line": {
             "colorbar": {
              "outlinewidth": 0,
              "ticks": ""
             }
            },
            "type": "parcoords"
           }
          ],
          "pie": [
           {
            "automargin": true,
            "type": "pie"
           }
          ],
          "scatter": [
           {
            "fillpattern": {
             "fillmode": "overlay",
             "size": 10,
             "solidity": 0.2
            },
            "type": "scatter"
           }
          ],
          "scatter3d": [
           {
            "line": {
             "colorbar": {
              "outlinewidth": 0,
              "ticks": ""
             }
            },
            "marker": {
             "colorbar": {
              "outlinewidth": 0,
              "ticks": ""
             }
            },
            "type": "scatter3d"
           }
          ],
          "scattercarpet": [
           {
            "marker": {
             "colorbar": {
              "outlinewidth": 0,
              "ticks": ""
             }
            },
            "type": "scattercarpet"
           }
          ],
          "scattergeo": [
           {
            "marker": {
             "colorbar": {
              "outlinewidth": 0,
              "ticks": ""
             }
            },
            "type": "scattergeo"
           }
          ],
          "scattergl": [
           {
            "marker": {
             "colorbar": {
              "outlinewidth": 0,
              "ticks": ""
             }
            },
            "type": "scattergl"
           }
          ],
          "scattermapbox": [
           {
            "marker": {
             "colorbar": {
              "outlinewidth": 0,
              "ticks": ""
             }
            },
            "type": "scattermapbox"
           }
          ],
          "scatterpolar": [
           {
            "marker": {
             "colorbar": {
              "outlinewidth": 0,
              "ticks": ""
             }
            },
            "type": "scatterpolar"
           }
          ],
          "scatterpolargl": [
           {
            "marker": {
             "colorbar": {
              "outlinewidth": 0,
              "ticks": ""
             }
            },
            "type": "scatterpolargl"
           }
          ],
          "scatterternary": [
           {
            "marker": {
             "colorbar": {
              "outlinewidth": 0,
              "ticks": ""
             }
            },
            "type": "scatterternary"
           }
          ],
          "surface": [
           {
            "colorbar": {
             "outlinewidth": 0,
             "ticks": ""
            },
            "colorscale": [
             [
              0,
              "#0d0887"
             ],
             [
              0.1111111111111111,
              "#46039f"
             ],
             [
              0.2222222222222222,
              "#7201a8"
             ],
             [
              0.3333333333333333,
              "#9c179e"
             ],
             [
              0.4444444444444444,
              "#bd3786"
             ],
             [
              0.5555555555555556,
              "#d8576b"
             ],
             [
              0.6666666666666666,
              "#ed7953"
             ],
             [
              0.7777777777777778,
              "#fb9f3a"
             ],
             [
              0.8888888888888888,
              "#fdca26"
             ],
             [
              1,
              "#f0f921"
             ]
            ],
            "type": "surface"
           }
          ],
          "table": [
           {
            "cells": {
             "fill": {
              "color": "#EBF0F8"
             },
             "line": {
              "color": "white"
             }
            },
            "header": {
             "fill": {
              "color": "#C8D4E3"
             },
             "line": {
              "color": "white"
             }
            },
            "type": "table"
           }
          ]
         },
         "layout": {
          "annotationdefaults": {
           "arrowcolor": "#2a3f5f",
           "arrowhead": 0,
           "arrowwidth": 1
          },
          "autotypenumbers": "strict",
          "coloraxis": {
           "colorbar": {
            "outlinewidth": 0,
            "ticks": ""
           }
          },
          "colorscale": {
           "diverging": [
            [
             0,
             "#8e0152"
            ],
            [
             0.1,
             "#c51b7d"
            ],
            [
             0.2,
             "#de77ae"
            ],
            [
             0.3,
             "#f1b6da"
            ],
            [
             0.4,
             "#fde0ef"
            ],
            [
             0.5,
             "#f7f7f7"
            ],
            [
             0.6,
             "#e6f5d0"
            ],
            [
             0.7,
             "#b8e186"
            ],
            [
             0.8,
             "#7fbc41"
            ],
            [
             0.9,
             "#4d9221"
            ],
            [
             1,
             "#276419"
            ]
           ],
           "sequential": [
            [
             0,
             "#0d0887"
            ],
            [
             0.1111111111111111,
             "#46039f"
            ],
            [
             0.2222222222222222,
             "#7201a8"
            ],
            [
             0.3333333333333333,
             "#9c179e"
            ],
            [
             0.4444444444444444,
             "#bd3786"
            ],
            [
             0.5555555555555556,
             "#d8576b"
            ],
            [
             0.6666666666666666,
             "#ed7953"
            ],
            [
             0.7777777777777778,
             "#fb9f3a"
            ],
            [
             0.8888888888888888,
             "#fdca26"
            ],
            [
             1,
             "#f0f921"
            ]
           ],
           "sequentialminus": [
            [
             0,
             "#0d0887"
            ],
            [
             0.1111111111111111,
             "#46039f"
            ],
            [
             0.2222222222222222,
             "#7201a8"
            ],
            [
             0.3333333333333333,
             "#9c179e"
            ],
            [
             0.4444444444444444,
             "#bd3786"
            ],
            [
             0.5555555555555556,
             "#d8576b"
            ],
            [
             0.6666666666666666,
             "#ed7953"
            ],
            [
             0.7777777777777778,
             "#fb9f3a"
            ],
            [
             0.8888888888888888,
             "#fdca26"
            ],
            [
             1,
             "#f0f921"
            ]
           ]
          },
          "colorway": [
           "#636efa",
           "#EF553B",
           "#00cc96",
           "#ab63fa",
           "#FFA15A",
           "#19d3f3",
           "#FF6692",
           "#B6E880",
           "#FF97FF",
           "#FECB52"
          ],
          "font": {
           "color": "#2a3f5f"
          },
          "geo": {
           "bgcolor": "white",
           "lakecolor": "white",
           "landcolor": "#E5ECF6",
           "showlakes": true,
           "showland": true,
           "subunitcolor": "white"
          },
          "hoverlabel": {
           "align": "left"
          },
          "hovermode": "closest",
          "mapbox": {
           "style": "light"
          },
          "paper_bgcolor": "white",
          "plot_bgcolor": "#E5ECF6",
          "polar": {
           "angularaxis": {
            "gridcolor": "white",
            "linecolor": "white",
            "ticks": ""
           },
           "bgcolor": "#E5ECF6",
           "radialaxis": {
            "gridcolor": "white",
            "linecolor": "white",
            "ticks": ""
           }
          },
          "scene": {
           "xaxis": {
            "backgroundcolor": "#E5ECF6",
            "gridcolor": "white",
            "gridwidth": 2,
            "linecolor": "white",
            "showbackground": true,
            "ticks": "",
            "zerolinecolor": "white"
           },
           "yaxis": {
            "backgroundcolor": "#E5ECF6",
            "gridcolor": "white",
            "gridwidth": 2,
            "linecolor": "white",
            "showbackground": true,
            "ticks": "",
            "zerolinecolor": "white"
           },
           "zaxis": {
            "backgroundcolor": "#E5ECF6",
            "gridcolor": "white",
            "gridwidth": 2,
            "linecolor": "white",
            "showbackground": true,
            "ticks": "",
            "zerolinecolor": "white"
           }
          },
          "shapedefaults": {
           "line": {
            "color": "#2a3f5f"
           }
          },
          "ternary": {
           "aaxis": {
            "gridcolor": "white",
            "linecolor": "white",
            "ticks": ""
           },
           "baxis": {
            "gridcolor": "white",
            "linecolor": "white",
            "ticks": ""
           },
           "bgcolor": "#E5ECF6",
           "caxis": {
            "gridcolor": "white",
            "linecolor": "white",
            "ticks": ""
           }
          },
          "title": {
           "x": 0.05
          },
          "xaxis": {
           "automargin": true,
           "gridcolor": "white",
           "linecolor": "white",
           "ticks": "",
           "title": {
            "standoff": 15
           },
           "zerolinecolor": "white",
           "zerolinewidth": 2
          },
          "yaxis": {
           "automargin": true,
           "gridcolor": "white",
           "linecolor": "white",
           "ticks": "",
           "title": {
            "standoff": 15
           },
           "zerolinecolor": "white",
           "zerolinewidth": 2
          }
         }
        }
       }
      }
     },
     "metadata": {},
     "output_type": "display_data"
    }
   ],
   "source": [
    "fig = px.sunburst(df, path=['day','sex'],values='total_bill')\n",
    "fig.show()"
   ]
  },
  {
   "cell_type": "code",
   "execution_count": 52,
   "metadata": {},
   "outputs": [
    {
     "data": {
      "text/html": [
       "<div>\n",
       "<style scoped>\n",
       "    .dataframe tbody tr th:only-of-type {\n",
       "        vertical-align: middle;\n",
       "    }\n",
       "\n",
       "    .dataframe tbody tr th {\n",
       "        vertical-align: top;\n",
       "    }\n",
       "\n",
       "    .dataframe thead th {\n",
       "        text-align: right;\n",
       "    }\n",
       "</style>\n",
       "<table border=\"1\" class=\"dataframe\">\n",
       "  <thead>\n",
       "    <tr style=\"text-align: right;\">\n",
       "      <th></th>\n",
       "      <th>Detail of Gifts</th>\n",
       "      <th>Item Category</th>\n",
       "      <th>Name of Recipient</th>\n",
       "      <th>Affiliation</th>\n",
       "      <th>Date</th>\n",
       "      <th>Assessed Value</th>\n",
       "      <th>Retention Cost</th>\n",
       "      <th>Retained</th>\n",
       "      <th>Remarks</th>\n",
       "      <th>Column1</th>\n",
       "      <th>...</th>\n",
       "      <th>Column16366</th>\n",
       "      <th>Column16367</th>\n",
       "      <th>Column16368</th>\n",
       "      <th>Column16369</th>\n",
       "      <th>Column16370</th>\n",
       "      <th>Column16371</th>\n",
       "      <th>Column16372</th>\n",
       "      <th>Column16373</th>\n",
       "      <th>Column16374</th>\n",
       "      <th>Column16375</th>\n",
       "    </tr>\n",
       "  </thead>\n",
       "  <tbody>\n",
       "    <tr>\n",
       "      <th>0</th>\n",
       "      <td>Two  small  silver\\nBowls</td>\n",
       "      <td>Decoration Pieces</td>\n",
       "      <td>Mr.  Abdul  Sattar,  Minister  for  Foreign\\nA...</td>\n",
       "      <td>Gen. Musharrafarraf</td>\n",
       "      <td>1/8/2002</td>\n",
       "      <td>5000.0</td>\n",
       "      <td>0.0</td>\n",
       "      <td>Yes</td>\n",
       "      <td>Yes</td>\n",
       "      <td>NaN</td>\n",
       "      <td>...</td>\n",
       "      <td>NaN</td>\n",
       "      <td>NaN</td>\n",
       "      <td>NaN</td>\n",
       "      <td>NaN</td>\n",
       "      <td>NaN</td>\n",
       "      <td>NaN</td>\n",
       "      <td>NaN</td>\n",
       "      <td>NaN</td>\n",
       "      <td>NaN</td>\n",
       "      <td>NaN</td>\n",
       "    </tr>\n",
       "    <tr>\n",
       "      <th>1</th>\n",
       "      <td>One Pilot Pen with\\nink</td>\n",
       "      <td>Pen</td>\n",
       "      <td>Mr.  Abdul  Sattar,  Minister  for  Foreign\\nA...</td>\n",
       "      <td>Gen. Musharraf</td>\n",
       "      <td>1/8/2002</td>\n",
       "      <td>3500.0</td>\n",
       "      <td>0.0</td>\n",
       "      <td>Yes</td>\n",
       "      <td>Yes</td>\n",
       "      <td>NaN</td>\n",
       "      <td>...</td>\n",
       "      <td>NaN</td>\n",
       "      <td>NaN</td>\n",
       "      <td>NaN</td>\n",
       "      <td>NaN</td>\n",
       "      <td>NaN</td>\n",
       "      <td>NaN</td>\n",
       "      <td>NaN</td>\n",
       "      <td>NaN</td>\n",
       "      <td>NaN</td>\n",
       "      <td>NaN</td>\n",
       "    </tr>\n",
       "    <tr>\n",
       "      <th>2</th>\n",
       "      <td>One silver vase</td>\n",
       "      <td>Decoration Pieces</td>\n",
       "      <td>Mr. Shaukat Aziz, Minister for Finance</td>\n",
       "      <td>Gen. Musharraf</td>\n",
       "      <td>1/9/2002</td>\n",
       "      <td>7500.0</td>\n",
       "      <td>0.0</td>\n",
       "      <td>Yes</td>\n",
       "      <td>Yes</td>\n",
       "      <td>NaN</td>\n",
       "      <td>...</td>\n",
       "      <td>NaN</td>\n",
       "      <td>NaN</td>\n",
       "      <td>NaN</td>\n",
       "      <td>NaN</td>\n",
       "      <td>NaN</td>\n",
       "      <td>NaN</td>\n",
       "      <td>NaN</td>\n",
       "      <td>NaN</td>\n",
       "      <td>NaN</td>\n",
       "      <td>NaN</td>\n",
       "    </tr>\n",
       "    <tr>\n",
       "      <th>3</th>\n",
       "      <td>One  (decoration)\\nfolding Screen</td>\n",
       "      <td>Decoration Pieces</td>\n",
       "      <td>Mr.  Abdul Sattar,  Minister  for  Foreign\\nAf...</td>\n",
       "      <td>Gen. Musharraf</td>\n",
       "      <td>1/15/2002</td>\n",
       "      <td>2200.0</td>\n",
       "      <td>0.0</td>\n",
       "      <td>Yes</td>\n",
       "      <td>Yes</td>\n",
       "      <td>NaN</td>\n",
       "      <td>...</td>\n",
       "      <td>NaN</td>\n",
       "      <td>NaN</td>\n",
       "      <td>NaN</td>\n",
       "      <td>NaN</td>\n",
       "      <td>NaN</td>\n",
       "      <td>NaN</td>\n",
       "      <td>NaN</td>\n",
       "      <td>NaN</td>\n",
       "      <td>NaN</td>\n",
       "      <td>NaN</td>\n",
       "    </tr>\n",
       "    <tr>\n",
       "      <th>4</th>\n",
       "      <td>One  Decoration\\nPiece</td>\n",
       "      <td>Decoration Pieces</td>\n",
       "      <td>Mr.  Abdul  Sattar,  Minister  for  Foreign\\nA...</td>\n",
       "      <td>Gen. Musharraf</td>\n",
       "      <td>1/22/2002</td>\n",
       "      <td>2000.0</td>\n",
       "      <td>0.0</td>\n",
       "      <td>Yes</td>\n",
       "      <td>Yes</td>\n",
       "      <td>NaN</td>\n",
       "      <td>...</td>\n",
       "      <td>NaN</td>\n",
       "      <td>NaN</td>\n",
       "      <td>NaN</td>\n",
       "      <td>NaN</td>\n",
       "      <td>NaN</td>\n",
       "      <td>NaN</td>\n",
       "      <td>NaN</td>\n",
       "      <td>NaN</td>\n",
       "      <td>NaN</td>\n",
       "      <td>NaN</td>\n",
       "    </tr>\n",
       "  </tbody>\n",
       "</table>\n",
       "<p>5 rows × 16384 columns</p>\n",
       "</div>"
      ],
      "text/plain": [
       "                     Detail of Gifts      Item Category  \\\n",
       "0          Two  small  silver\\nBowls  Decoration Pieces   \n",
       "1            One Pilot Pen with\\nink                Pen   \n",
       "2                    One silver vase  Decoration Pieces   \n",
       "3  One  (decoration)\\nfolding Screen  Decoration Pieces   \n",
       "4             One  Decoration\\nPiece  Decoration Pieces   \n",
       "\n",
       "                                   Name of Recipient          Affiliation  \\\n",
       "0  Mr.  Abdul  Sattar,  Minister  for  Foreign\\nA...  Gen. Musharrafarraf   \n",
       "1  Mr.  Abdul  Sattar,  Minister  for  Foreign\\nA...       Gen. Musharraf   \n",
       "2             Mr. Shaukat Aziz, Minister for Finance       Gen. Musharraf   \n",
       "3  Mr.  Abdul Sattar,  Minister  for  Foreign\\nAf...       Gen. Musharraf   \n",
       "4  Mr.  Abdul  Sattar,  Minister  for  Foreign\\nA...       Gen. Musharraf   \n",
       "\n",
       "        Date  Assessed Value  Retention Cost Retained Remarks  Column1  ...  \\\n",
       "0   1/8/2002          5000.0             0.0      Yes     Yes      NaN  ...   \n",
       "1   1/8/2002          3500.0             0.0      Yes     Yes      NaN  ...   \n",
       "2   1/9/2002          7500.0             0.0      Yes     Yes      NaN  ...   \n",
       "3  1/15/2002          2200.0             0.0      Yes     Yes      NaN  ...   \n",
       "4  1/22/2002          2000.0             0.0      Yes     Yes      NaN  ...   \n",
       "\n",
       "   Column16366  Column16367  Column16368  Column16369  Column16370  \\\n",
       "0          NaN          NaN          NaN          NaN          NaN   \n",
       "1          NaN          NaN          NaN          NaN          NaN   \n",
       "2          NaN          NaN          NaN          NaN          NaN   \n",
       "3          NaN          NaN          NaN          NaN          NaN   \n",
       "4          NaN          NaN          NaN          NaN          NaN   \n",
       "\n",
       "   Column16371  Column16372  Column16373  Column16374  Column16375  \n",
       "0          NaN          NaN          NaN          NaN          NaN  \n",
       "1          NaN          NaN          NaN          NaN          NaN  \n",
       "2          NaN          NaN          NaN          NaN          NaN  \n",
       "3          NaN          NaN          NaN          NaN          NaN  \n",
       "4          NaN          NaN          NaN          NaN          NaN  \n",
       "\n",
       "[5 rows x 16384 columns]"
      ]
     },
     "execution_count": 52,
     "metadata": {},
     "output_type": "execute_result"
    }
   ],
   "source": [
    "dd = pd.read_csv(\"tosha.csv\")\n",
    "dd.head()"
   ]
  },
  {
   "cell_type": "code",
   "execution_count": 54,
   "metadata": {},
   "outputs": [
    {
     "data": {
      "text/plain": [
       "Index(['Detail of Gifts', 'Item Category', 'Name of Recipient', 'Affiliation',\n",
       "       'Date', 'Assessed Value', 'Retention Cost', 'Retained', 'Remarks',\n",
       "       'Column1',\n",
       "       ...\n",
       "       'Column16366', 'Column16367', 'Column16368', 'Column16369',\n",
       "       'Column16370', 'Column16371', 'Column16372', 'Column16373',\n",
       "       'Column16374', 'Column16375'],\n",
       "      dtype='object', length=16384)"
      ]
     },
     "execution_count": 54,
     "metadata": {},
     "output_type": "execute_result"
    }
   ],
   "source": [
    "dd.columns"
   ]
  },
  {
   "cell_type": "code",
   "execution_count": 55,
   "metadata": {},
   "outputs": [
    {
     "name": "stdout",
     "output_type": "stream",
     "text": [
      "<class 'pandas.core.frame.DataFrame'>\n",
      "RangeIndex: 4214 entries, 0 to 4213\n",
      "Columns: 16384 entries, Detail of Gifts to Column16375\n",
      "dtypes: float64(16377), object(7)\n",
      "memory usage: 526.8+ MB\n"
     ]
    }
   ],
   "source": [
    "dd.info()"
   ]
  },
  {
   "cell_type": "code",
   "execution_count": 56,
   "metadata": {},
   "outputs": [
    {
     "data": {
      "text/html": [
       "<div>\n",
       "<style scoped>\n",
       "    .dataframe tbody tr th:only-of-type {\n",
       "        vertical-align: middle;\n",
       "    }\n",
       "\n",
       "    .dataframe tbody tr th {\n",
       "        vertical-align: top;\n",
       "    }\n",
       "\n",
       "    .dataframe thead th {\n",
       "        text-align: right;\n",
       "    }\n",
       "</style>\n",
       "<table border=\"1\" class=\"dataframe\">\n",
       "  <thead>\n",
       "    <tr style=\"text-align: right;\">\n",
       "      <th></th>\n",
       "      <th>Assessed Value</th>\n",
       "      <th>Retention Cost</th>\n",
       "      <th>Column1</th>\n",
       "      <th>Column2</th>\n",
       "      <th>Column3</th>\n",
       "      <th>Column4</th>\n",
       "      <th>Column5</th>\n",
       "      <th>Column6</th>\n",
       "      <th>Column7</th>\n",
       "      <th>Column8</th>\n",
       "      <th>...</th>\n",
       "      <th>Column16366</th>\n",
       "      <th>Column16367</th>\n",
       "      <th>Column16368</th>\n",
       "      <th>Column16369</th>\n",
       "      <th>Column16370</th>\n",
       "      <th>Column16371</th>\n",
       "      <th>Column16372</th>\n",
       "      <th>Column16373</th>\n",
       "      <th>Column16374</th>\n",
       "      <th>Column16375</th>\n",
       "    </tr>\n",
       "  </thead>\n",
       "  <tbody>\n",
       "    <tr>\n",
       "      <th>count</th>\n",
       "      <td>4.213000e+03</td>\n",
       "      <td>4.205000e+03</td>\n",
       "      <td>0.0</td>\n",
       "      <td>0.0</td>\n",
       "      <td>0.0</td>\n",
       "      <td>0.0</td>\n",
       "      <td>0.0</td>\n",
       "      <td>0.0</td>\n",
       "      <td>0.0</td>\n",
       "      <td>0.0</td>\n",
       "      <td>...</td>\n",
       "      <td>0.0</td>\n",
       "      <td>0.0</td>\n",
       "      <td>0.0</td>\n",
       "      <td>0.0</td>\n",
       "      <td>0.0</td>\n",
       "      <td>0.0</td>\n",
       "      <td>0.0</td>\n",
       "      <td>0.0</td>\n",
       "      <td>0.0</td>\n",
       "      <td>0.0</td>\n",
       "    </tr>\n",
       "    <tr>\n",
       "      <th>mean</th>\n",
       "      <td>3.210531e+05</td>\n",
       "      <td>4.851276e+04</td>\n",
       "      <td>NaN</td>\n",
       "      <td>NaN</td>\n",
       "      <td>NaN</td>\n",
       "      <td>NaN</td>\n",
       "      <td>NaN</td>\n",
       "      <td>NaN</td>\n",
       "      <td>NaN</td>\n",
       "      <td>NaN</td>\n",
       "      <td>...</td>\n",
       "      <td>NaN</td>\n",
       "      <td>NaN</td>\n",
       "      <td>NaN</td>\n",
       "      <td>NaN</td>\n",
       "      <td>NaN</td>\n",
       "      <td>NaN</td>\n",
       "      <td>NaN</td>\n",
       "      <td>NaN</td>\n",
       "      <td>NaN</td>\n",
       "      <td>NaN</td>\n",
       "    </tr>\n",
       "    <tr>\n",
       "      <th>std</th>\n",
       "      <td>3.894070e+06</td>\n",
       "      <td>6.184538e+05</td>\n",
       "      <td>NaN</td>\n",
       "      <td>NaN</td>\n",
       "      <td>NaN</td>\n",
       "      <td>NaN</td>\n",
       "      <td>NaN</td>\n",
       "      <td>NaN</td>\n",
       "      <td>NaN</td>\n",
       "      <td>NaN</td>\n",
       "      <td>...</td>\n",
       "      <td>NaN</td>\n",
       "      <td>NaN</td>\n",
       "      <td>NaN</td>\n",
       "      <td>NaN</td>\n",
       "      <td>NaN</td>\n",
       "      <td>NaN</td>\n",
       "      <td>NaN</td>\n",
       "      <td>NaN</td>\n",
       "      <td>NaN</td>\n",
       "      <td>NaN</td>\n",
       "    </tr>\n",
       "    <tr>\n",
       "      <th>min</th>\n",
       "      <td>0.000000e+00</td>\n",
       "      <td>0.000000e+00</td>\n",
       "      <td>NaN</td>\n",
       "      <td>NaN</td>\n",
       "      <td>NaN</td>\n",
       "      <td>NaN</td>\n",
       "      <td>NaN</td>\n",
       "      <td>NaN</td>\n",
       "      <td>NaN</td>\n",
       "      <td>NaN</td>\n",
       "      <td>...</td>\n",
       "      <td>NaN</td>\n",
       "      <td>NaN</td>\n",
       "      <td>NaN</td>\n",
       "      <td>NaN</td>\n",
       "      <td>NaN</td>\n",
       "      <td>NaN</td>\n",
       "      <td>NaN</td>\n",
       "      <td>NaN</td>\n",
       "      <td>NaN</td>\n",
       "      <td>NaN</td>\n",
       "    </tr>\n",
       "    <tr>\n",
       "      <th>25%</th>\n",
       "      <td>1.700000e+03</td>\n",
       "      <td>0.000000e+00</td>\n",
       "      <td>NaN</td>\n",
       "      <td>NaN</td>\n",
       "      <td>NaN</td>\n",
       "      <td>NaN</td>\n",
       "      <td>NaN</td>\n",
       "      <td>NaN</td>\n",
       "      <td>NaN</td>\n",
       "      <td>NaN</td>\n",
       "      <td>...</td>\n",
       "      <td>NaN</td>\n",
       "      <td>NaN</td>\n",
       "      <td>NaN</td>\n",
       "      <td>NaN</td>\n",
       "      <td>NaN</td>\n",
       "      <td>NaN</td>\n",
       "      <td>NaN</td>\n",
       "      <td>NaN</td>\n",
       "      <td>NaN</td>\n",
       "      <td>NaN</td>\n",
       "    </tr>\n",
       "    <tr>\n",
       "      <th>50%</th>\n",
       "      <td>8.000000e+03</td>\n",
       "      <td>0.000000e+00</td>\n",
       "      <td>NaN</td>\n",
       "      <td>NaN</td>\n",
       "      <td>NaN</td>\n",
       "      <td>NaN</td>\n",
       "      <td>NaN</td>\n",
       "      <td>NaN</td>\n",
       "      <td>NaN</td>\n",
       "      <td>NaN</td>\n",
       "      <td>...</td>\n",
       "      <td>NaN</td>\n",
       "      <td>NaN</td>\n",
       "      <td>NaN</td>\n",
       "      <td>NaN</td>\n",
       "      <td>NaN</td>\n",
       "      <td>NaN</td>\n",
       "      <td>NaN</td>\n",
       "      <td>NaN</td>\n",
       "      <td>NaN</td>\n",
       "      <td>NaN</td>\n",
       "    </tr>\n",
       "    <tr>\n",
       "      <th>75%</th>\n",
       "      <td>4.000000e+04</td>\n",
       "      <td>2.250000e+03</td>\n",
       "      <td>NaN</td>\n",
       "      <td>NaN</td>\n",
       "      <td>NaN</td>\n",
       "      <td>NaN</td>\n",
       "      <td>NaN</td>\n",
       "      <td>NaN</td>\n",
       "      <td>NaN</td>\n",
       "      <td>NaN</td>\n",
       "      <td>...</td>\n",
       "      <td>NaN</td>\n",
       "      <td>NaN</td>\n",
       "      <td>NaN</td>\n",
       "      <td>NaN</td>\n",
       "      <td>NaN</td>\n",
       "      <td>NaN</td>\n",
       "      <td>NaN</td>\n",
       "      <td>NaN</td>\n",
       "      <td>NaN</td>\n",
       "      <td>NaN</td>\n",
       "    </tr>\n",
       "    <tr>\n",
       "      <th>max</th>\n",
       "      <td>1.400000e+08</td>\n",
       "      <td>2.017800e+07</td>\n",
       "      <td>NaN</td>\n",
       "      <td>NaN</td>\n",
       "      <td>NaN</td>\n",
       "      <td>NaN</td>\n",
       "      <td>NaN</td>\n",
       "      <td>NaN</td>\n",
       "      <td>NaN</td>\n",
       "      <td>NaN</td>\n",
       "      <td>...</td>\n",
       "      <td>NaN</td>\n",
       "      <td>NaN</td>\n",
       "      <td>NaN</td>\n",
       "      <td>NaN</td>\n",
       "      <td>NaN</td>\n",
       "      <td>NaN</td>\n",
       "      <td>NaN</td>\n",
       "      <td>NaN</td>\n",
       "      <td>NaN</td>\n",
       "      <td>NaN</td>\n",
       "    </tr>\n",
       "  </tbody>\n",
       "</table>\n",
       "<p>8 rows × 16377 columns</p>\n",
       "</div>"
      ],
      "text/plain": [
       "       Assessed Value  Retention Cost  Column1  Column2  Column3  Column4  \\\n",
       "count    4.213000e+03    4.205000e+03      0.0      0.0      0.0      0.0   \n",
       "mean     3.210531e+05    4.851276e+04      NaN      NaN      NaN      NaN   \n",
       "std      3.894070e+06    6.184538e+05      NaN      NaN      NaN      NaN   \n",
       "min      0.000000e+00    0.000000e+00      NaN      NaN      NaN      NaN   \n",
       "25%      1.700000e+03    0.000000e+00      NaN      NaN      NaN      NaN   \n",
       "50%      8.000000e+03    0.000000e+00      NaN      NaN      NaN      NaN   \n",
       "75%      4.000000e+04    2.250000e+03      NaN      NaN      NaN      NaN   \n",
       "max      1.400000e+08    2.017800e+07      NaN      NaN      NaN      NaN   \n",
       "\n",
       "       Column5  Column6  Column7  Column8  ...  Column16366  Column16367  \\\n",
       "count      0.0      0.0      0.0      0.0  ...          0.0          0.0   \n",
       "mean       NaN      NaN      NaN      NaN  ...          NaN          NaN   \n",
       "std        NaN      NaN      NaN      NaN  ...          NaN          NaN   \n",
       "min        NaN      NaN      NaN      NaN  ...          NaN          NaN   \n",
       "25%        NaN      NaN      NaN      NaN  ...          NaN          NaN   \n",
       "50%        NaN      NaN      NaN      NaN  ...          NaN          NaN   \n",
       "75%        NaN      NaN      NaN      NaN  ...          NaN          NaN   \n",
       "max        NaN      NaN      NaN      NaN  ...          NaN          NaN   \n",
       "\n",
       "       Column16368  Column16369  Column16370  Column16371  Column16372  \\\n",
       "count          0.0          0.0          0.0          0.0          0.0   \n",
       "mean           NaN          NaN          NaN          NaN          NaN   \n",
       "std            NaN          NaN          NaN          NaN          NaN   \n",
       "min            NaN          NaN          NaN          NaN          NaN   \n",
       "25%            NaN          NaN          NaN          NaN          NaN   \n",
       "50%            NaN          NaN          NaN          NaN          NaN   \n",
       "75%            NaN          NaN          NaN          NaN          NaN   \n",
       "max            NaN          NaN          NaN          NaN          NaN   \n",
       "\n",
       "       Column16373  Column16374  Column16375  \n",
       "count          0.0          0.0          0.0  \n",
       "mean           NaN          NaN          NaN  \n",
       "std            NaN          NaN          NaN  \n",
       "min            NaN          NaN          NaN  \n",
       "25%            NaN          NaN          NaN  \n",
       "50%            NaN          NaN          NaN  \n",
       "75%            NaN          NaN          NaN  \n",
       "max            NaN          NaN          NaN  \n",
       "\n",
       "[8 rows x 16377 columns]"
      ]
     },
     "execution_count": 56,
     "metadata": {},
     "output_type": "execute_result"
    }
   ],
   "source": [
    "dd.describe()"
   ]
  },
  {
   "cell_type": "code",
   "execution_count": 58,
   "metadata": {},
   "outputs": [
    {
     "ename": "PermissionError",
     "evalue": "[Errno 13] Permission denied",
     "output_type": "error",
     "traceback": [
      "\u001b[1;31m---------------------------------------------------------------------------\u001b[0m",
      "\u001b[1;31mPermissionError\u001b[0m                           Traceback (most recent call last)",
      "\u001b[1;32me:\\DS Ramadan Course Dr ammar\\Ramadan Batch\\day_9.ipynb Cell 33\u001b[0m in \u001b[0;36m1\n\u001b[1;32m----> <a href='vscode-notebook-cell:/e%3A/DS%20Ramadan%20Course%20Dr%20ammar/Ramadan%20Batch/day_9.ipynb#X44sZmlsZQ%3D%3D?line=0'>1</a>\u001b[0m dd\u001b[39m.\u001b[39;49mto_csv(\u001b[39m\"\u001b[39;49m\u001b[39mtos.csv\u001b[39;49m\u001b[39m\"\u001b[39;49m)\n",
      "File \u001b[1;32mc:\\Users\\lenovo\\AppData\\Local\\Programs\\Python\\Python310\\lib\\site-packages\\pandas\\util\\_decorators.py:211\u001b[0m, in \u001b[0;36mdeprecate_kwarg.<locals>._deprecate_kwarg.<locals>.wrapper\u001b[1;34m(*args, **kwargs)\u001b[0m\n\u001b[0;32m    209\u001b[0m     \u001b[39melse\u001b[39;00m:\n\u001b[0;32m    210\u001b[0m         kwargs[new_arg_name] \u001b[39m=\u001b[39m new_arg_value\n\u001b[1;32m--> 211\u001b[0m \u001b[39mreturn\u001b[39;00m func(\u001b[39m*\u001b[39margs, \u001b[39m*\u001b[39m\u001b[39m*\u001b[39mkwargs)\n",
      "File \u001b[1;32mc:\\Users\\lenovo\\AppData\\Local\\Programs\\Python\\Python310\\lib\\site-packages\\pandas\\core\\generic.py:3720\u001b[0m, in \u001b[0;36mNDFrame.to_csv\u001b[1;34m(self, path_or_buf, sep, na_rep, float_format, columns, header, index, index_label, mode, encoding, compression, quoting, quotechar, lineterminator, chunksize, date_format, doublequote, escapechar, decimal, errors, storage_options)\u001b[0m\n\u001b[0;32m   3709\u001b[0m df \u001b[39m=\u001b[39m \u001b[39mself\u001b[39m \u001b[39mif\u001b[39;00m \u001b[39misinstance\u001b[39m(\u001b[39mself\u001b[39m, ABCDataFrame) \u001b[39melse\u001b[39;00m \u001b[39mself\u001b[39m\u001b[39m.\u001b[39mto_frame()\n\u001b[0;32m   3711\u001b[0m formatter \u001b[39m=\u001b[39m DataFrameFormatter(\n\u001b[0;32m   3712\u001b[0m     frame\u001b[39m=\u001b[39mdf,\n\u001b[0;32m   3713\u001b[0m     header\u001b[39m=\u001b[39mheader,\n\u001b[1;32m   (...)\u001b[0m\n\u001b[0;32m   3717\u001b[0m     decimal\u001b[39m=\u001b[39mdecimal,\n\u001b[0;32m   3718\u001b[0m )\n\u001b[1;32m-> 3720\u001b[0m \u001b[39mreturn\u001b[39;00m DataFrameRenderer(formatter)\u001b[39m.\u001b[39;49mto_csv(\n\u001b[0;32m   3721\u001b[0m     path_or_buf,\n\u001b[0;32m   3722\u001b[0m     lineterminator\u001b[39m=\u001b[39;49mlineterminator,\n\u001b[0;32m   3723\u001b[0m     sep\u001b[39m=\u001b[39;49msep,\n\u001b[0;32m   3724\u001b[0m     encoding\u001b[39m=\u001b[39;49mencoding,\n\u001b[0;32m   3725\u001b[0m     errors\u001b[39m=\u001b[39;49merrors,\n\u001b[0;32m   3726\u001b[0m     compression\u001b[39m=\u001b[39;49mcompression,\n\u001b[0;32m   3727\u001b[0m     quoting\u001b[39m=\u001b[39;49mquoting,\n\u001b[0;32m   3728\u001b[0m     columns\u001b[39m=\u001b[39;49mcolumns,\n\u001b[0;32m   3729\u001b[0m     index_label\u001b[39m=\u001b[39;49mindex_label,\n\u001b[0;32m   3730\u001b[0m     mode\u001b[39m=\u001b[39;49mmode,\n\u001b[0;32m   3731\u001b[0m     chunksize\u001b[39m=\u001b[39;49mchunksize,\n\u001b[0;32m   3732\u001b[0m     quotechar\u001b[39m=\u001b[39;49mquotechar,\n\u001b[0;32m   3733\u001b[0m     date_format\u001b[39m=\u001b[39;49mdate_format,\n\u001b[0;32m   3734\u001b[0m     doublequote\u001b[39m=\u001b[39;49mdoublequote,\n\u001b[0;32m   3735\u001b[0m     escapechar\u001b[39m=\u001b[39;49mescapechar,\n\u001b[0;32m   3736\u001b[0m     storage_options\u001b[39m=\u001b[39;49mstorage_options,\n\u001b[0;32m   3737\u001b[0m )\n",
      "File \u001b[1;32mc:\\Users\\lenovo\\AppData\\Local\\Programs\\Python\\Python310\\lib\\site-packages\\pandas\\util\\_decorators.py:211\u001b[0m, in \u001b[0;36mdeprecate_kwarg.<locals>._deprecate_kwarg.<locals>.wrapper\u001b[1;34m(*args, **kwargs)\u001b[0m\n\u001b[0;32m    209\u001b[0m     \u001b[39melse\u001b[39;00m:\n\u001b[0;32m    210\u001b[0m         kwargs[new_arg_name] \u001b[39m=\u001b[39m new_arg_value\n\u001b[1;32m--> 211\u001b[0m \u001b[39mreturn\u001b[39;00m func(\u001b[39m*\u001b[39margs, \u001b[39m*\u001b[39m\u001b[39m*\u001b[39mkwargs)\n",
      "File \u001b[1;32mc:\\Users\\lenovo\\AppData\\Local\\Programs\\Python\\Python310\\lib\\site-packages\\pandas\\io\\formats\\format.py:1189\u001b[0m, in \u001b[0;36mDataFrameRenderer.to_csv\u001b[1;34m(self, path_or_buf, encoding, sep, columns, index_label, mode, compression, quoting, quotechar, lineterminator, chunksize, date_format, doublequote, escapechar, errors, storage_options)\u001b[0m\n\u001b[0;32m   1168\u001b[0m     created_buffer \u001b[39m=\u001b[39m \u001b[39mFalse\u001b[39;00m\n\u001b[0;32m   1170\u001b[0m csv_formatter \u001b[39m=\u001b[39m CSVFormatter(\n\u001b[0;32m   1171\u001b[0m     path_or_buf\u001b[39m=\u001b[39mpath_or_buf,\n\u001b[0;32m   1172\u001b[0m     lineterminator\u001b[39m=\u001b[39mlineterminator,\n\u001b[1;32m   (...)\u001b[0m\n\u001b[0;32m   1187\u001b[0m     formatter\u001b[39m=\u001b[39m\u001b[39mself\u001b[39m\u001b[39m.\u001b[39mfmt,\n\u001b[0;32m   1188\u001b[0m )\n\u001b[1;32m-> 1189\u001b[0m csv_formatter\u001b[39m.\u001b[39;49msave()\n\u001b[0;32m   1191\u001b[0m \u001b[39mif\u001b[39;00m created_buffer:\n\u001b[0;32m   1192\u001b[0m     \u001b[39massert\u001b[39;00m \u001b[39misinstance\u001b[39m(path_or_buf, StringIO)\n",
      "File \u001b[1;32mc:\\Users\\lenovo\\AppData\\Local\\Programs\\Python\\Python310\\lib\\site-packages\\pandas\\io\\formats\\csvs.py:261\u001b[0m, in \u001b[0;36mCSVFormatter.save\u001b[1;34m(self)\u001b[0m\n\u001b[0;32m    241\u001b[0m \u001b[39mwith\u001b[39;00m get_handle(\n\u001b[0;32m    242\u001b[0m     \u001b[39mself\u001b[39m\u001b[39m.\u001b[39mfilepath_or_buffer,\n\u001b[0;32m    243\u001b[0m     \u001b[39mself\u001b[39m\u001b[39m.\u001b[39mmode,\n\u001b[1;32m   (...)\u001b[0m\n\u001b[0;32m    249\u001b[0m \n\u001b[0;32m    250\u001b[0m     \u001b[39m# Note: self.encoding is irrelevant here\u001b[39;00m\n\u001b[0;32m    251\u001b[0m     \u001b[39mself\u001b[39m\u001b[39m.\u001b[39mwriter \u001b[39m=\u001b[39m csvlib\u001b[39m.\u001b[39mwriter(\n\u001b[0;32m    252\u001b[0m         handles\u001b[39m.\u001b[39mhandle,\n\u001b[0;32m    253\u001b[0m         lineterminator\u001b[39m=\u001b[39m\u001b[39mself\u001b[39m\u001b[39m.\u001b[39mlineterminator,\n\u001b[1;32m   (...)\u001b[0m\n\u001b[0;32m    258\u001b[0m         quotechar\u001b[39m=\u001b[39m\u001b[39mself\u001b[39m\u001b[39m.\u001b[39mquotechar,\n\u001b[0;32m    259\u001b[0m     )\n\u001b[1;32m--> 261\u001b[0m     \u001b[39mself\u001b[39;49m\u001b[39m.\u001b[39;49m_save()\n",
      "File \u001b[1;32mc:\\Users\\lenovo\\AppData\\Local\\Programs\\Python\\Python310\\lib\\site-packages\\pandas\\io\\formats\\csvs.py:265\u001b[0m, in \u001b[0;36mCSVFormatter._save\u001b[1;34m(self)\u001b[0m\n\u001b[0;32m    263\u001b[0m \u001b[39mdef\u001b[39;00m \u001b[39m_save\u001b[39m(\u001b[39mself\u001b[39m) \u001b[39m-\u001b[39m\u001b[39m>\u001b[39m \u001b[39mNone\u001b[39;00m:\n\u001b[0;32m    264\u001b[0m     \u001b[39mif\u001b[39;00m \u001b[39mself\u001b[39m\u001b[39m.\u001b[39m_need_to_save_header:\n\u001b[1;32m--> 265\u001b[0m         \u001b[39mself\u001b[39;49m\u001b[39m.\u001b[39;49m_save_header()\n\u001b[0;32m    266\u001b[0m     \u001b[39mself\u001b[39m\u001b[39m.\u001b[39m_save_body()\n",
      "File \u001b[1;32mc:\\Users\\lenovo\\AppData\\Local\\Programs\\Python\\Python310\\lib\\site-packages\\pandas\\io\\formats\\csvs.py:270\u001b[0m, in \u001b[0;36mCSVFormatter._save_header\u001b[1;34m(self)\u001b[0m\n\u001b[0;32m    268\u001b[0m \u001b[39mdef\u001b[39;00m \u001b[39m_save_header\u001b[39m(\u001b[39mself\u001b[39m) \u001b[39m-\u001b[39m\u001b[39m>\u001b[39m \u001b[39mNone\u001b[39;00m:\n\u001b[0;32m    269\u001b[0m     \u001b[39mif\u001b[39;00m \u001b[39mnot\u001b[39;00m \u001b[39mself\u001b[39m\u001b[39m.\u001b[39mhas_mi_columns \u001b[39mor\u001b[39;00m \u001b[39mself\u001b[39m\u001b[39m.\u001b[39m_has_aliases:\n\u001b[1;32m--> 270\u001b[0m         \u001b[39mself\u001b[39;49m\u001b[39m.\u001b[39;49mwriter\u001b[39m.\u001b[39;49mwriterow(\u001b[39mself\u001b[39;49m\u001b[39m.\u001b[39;49mencoded_labels)\n\u001b[0;32m    271\u001b[0m     \u001b[39melse\u001b[39;00m:\n\u001b[0;32m    272\u001b[0m         \u001b[39mfor\u001b[39;00m row \u001b[39min\u001b[39;00m \u001b[39mself\u001b[39m\u001b[39m.\u001b[39m_generate_multiindex_header_rows():\n",
      "\u001b[1;31mPermissionError\u001b[0m: [Errno 13] Permission denied"
     ]
    }
   ],
   "source": [
    "dd.to_csv(\"tos.csv\")"
   ]
  }
 ],
 "metadata": {
  "kernelspec": {
   "display_name": "Python 3",
   "language": "python",
   "name": "python3"
  },
  "language_info": {
   "codemirror_mode": {
    "name": "ipython",
    "version": 3
   },
   "file_extension": ".py",
   "mimetype": "text/x-python",
   "name": "python",
   "nbconvert_exporter": "python",
   "pygments_lexer": "ipython3",
   "version": "3.10.8"
  },
  "orig_nbformat": 4,
  "vscode": {
   "interpreter": {
    "hash": "213524bb45a1aeaf737b1d8c77d7b8db5d425938d9dffc5f4bc6fe6dd3324700"
   }
  }
 },
 "nbformat": 4,
 "nbformat_minor": 2
}
