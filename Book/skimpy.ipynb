{
 "cells": [
  {
   "cell_type": "code",
   "execution_count": 2,
   "metadata": {},
   "outputs": [],
   "source": [
    "import pandas as pd\n",
    "import numpy as np\n",
    "import matplotlib.pyplot as plt\n",
    "import seaborn as sns"
   ]
  },
  {
   "cell_type": "code",
   "execution_count": 4,
   "metadata": {},
   "outputs": [],
   "source": [
    "df = sns.load_dataset('titanic')"
   ]
  },
  {
   "cell_type": "code",
   "execution_count": 7,
   "metadata": {},
   "outputs": [],
   "source": [
    "from skimpy import skim\n",
    "df = sns.load_dataset('titanic')"
   ]
  },
  {
   "cell_type": "code",
   "execution_count": 8,
   "metadata": {},
   "outputs": [
    {
     "name": "stdout",
     "output_type": "stream",
     "text": [
      "┌────────────────────────────── skimpy summary ───────────────────────────────┐\n",
      "│          Data Summary                Data Types                             │\n",
      "│ ┌───────────────────┬────────┐ ┌─────────────┬───────┐                      │\n",
      "│ │ dataframe         │ Values │ │ Column Type │ Count │                      │\n",
      "│ ├───────────────────┼────────┤ ├─────────────┼───────┤                      │\n",
      "│ │ Number of rows    │ 891    │ │ string      │ 5     │                      │\n",
      "│ │ Number of columns │ 15     │ │ int32       │ 4     │                      │\n",
      "│ └───────────────────┴────────┘ │ float64     │ 2     │                      │\n",
      "│                                │ category    │ 2     │                      │\n",
      "│                                │ bool        │ 2     │                      │\n",
      "│                                └─────────────┴───────┘                      │\n",
      "│        Categories                                                           │\n",
      "│ ┌───────────────────────┐                                                   │\n",
      "│ │ Categorical Variables │                                                   │\n",
      "│ ├───────────────────────┤                                                   │\n",
      "│ │ class                 │                                                   │\n",
      "│ │ deck                  │                                                   │\n",
      "│ └───────────────────────┘                                                   │\n",
      "│                                   number                                    │\n",
      "│ ┌──────────┬─────┬──────┬──────┬──────┬──────┬─────┬─────┬──────┬────────┐  │\n",
      "│ │ column_n │     │      │      │      │      │     │     │      │        │  │\n",
      "│ │ ame      │ NA  │ NA % │ mean │ sd   │ p0   │ p25 │ p75 │ p100 │ hist   │  │\n",
      "│ ├──────────┼─────┼──────┼──────┼──────┼──────┼─────┼─────┼──────┼────────┤  │\n",
      "│ │ survived │   0 │    0 │ 0.38 │ 0.49 │    0 │   0 │   1 │    1 │ █    ▅ │  │\n",
      "│ │ pclass   │   0 │    0 │  2.3 │ 0.84 │    1 │   2 │   3 │    3 │ ▄  ▃ █ │  │\n",
      "│ │ age      │ 180 │   20 │   30 │   15 │ 0.42 │  20 │  38 │   80 │ ▂██▃▁  │  │\n",
      "│ │ sibsp    │   0 │    0 │ 0.52 │  1.1 │    0 │   0 │   1 │    8 │   █    │  │\n",
      "│ │ parch    │   0 │    0 │ 0.38 │ 0.81 │    0 │   0 │   0 │    6 │  █▁▁   │  │\n",
      "│ │ fare     │   0 │    0 │   32 │   50 │    0 │ 7.9 │  31 │  510 │   █    │  │\n",
      "│ └──────────┴─────┴──────┴──────┴──────┴──────┴─────┴─────┴──────┴────────┘  │\n",
      "│                                  category                                   │\n",
      "│ ┌──────────────────────┬─────────┬──────────┬───────────────┬────────────┐  │\n",
      "│ │ column_name          │ NA      │ NA %     │ ordered       │ unique     │  │\n",
      "│ ├──────────────────────┼─────────┼──────────┼───────────────┼────────────┤  │\n",
      "│ │ class                │       0 │        0 │ False         │          3 │  │\n",
      "│ │ deck                 │     690 │       77 │ False         │          8 │  │\n",
      "│ └──────────────────────┴─────────┴──────────┴───────────────┴────────────┘  │\n",
      "│                                   string                                    │\n",
      "│ ┌──────────────────┬──────┬────────┬────────────────────┬────────────────┐  │\n",
      "│ │ column_name      │ NA   │ NA %   │ words per row      │ total words    │  │\n",
      "│ ├──────────────────┼──────┼────────┼────────────────────┼────────────────┤  │\n",
      "│ │ sex              │    0 │      0 │                  1 │            890 │  │\n",
      "│ │ embarked         │    2 │   0.22 │                  1 │            890 │  │\n",
      "│ │ who              │    0 │      0 │                  1 │            890 │  │\n",
      "│ │ embark_town      │    2 │   0.22 │                  1 │            890 │  │\n",
      "│ │ alive            │    0 │      0 │                  1 │            890 │  │\n",
      "│ └──────────────────┴──────┴────────┴────────────────────┴────────────────┘  │\n",
      "│                                    bool                                     │\n",
      "│ ┌────────────────────────┬───────────┬────────────────────┬──────────────┐  │\n",
      "│ │ column_name            │ true      │ true rate          │ hist         │  │\n",
      "│ ├────────────────────────┼───────────┼────────────────────┼──────────────┤  │\n",
      "│ │ adult_male             │       540 │                0.6 │    ▅    █    │  │\n",
      "│ │ alone                  │       540 │                0.6 │    ▅    █    │  │\n",
      "│ └────────────────────────┴───────────┴────────────────────┴──────────────┘  │\n",
      "└──────────────────────────────────── End ────────────────────────────────────┘\n"
     ]
    }
   ],
   "source": [
    "skim(df)"
   ]
  },
  {
   "cell_type": "code",
   "execution_count": null,
   "metadata": {},
   "outputs": [],
   "source": []
  }
 ],
 "metadata": {
  "kernelspec": {
   "display_name": "Python 3",
   "language": "python",
   "name": "python3"
  },
  "language_info": {
   "codemirror_mode": {
    "name": "ipython",
    "version": 3
   },
   "file_extension": ".py",
   "mimetype": "text/x-python",
   "name": "python",
   "nbconvert_exporter": "python",
   "pygments_lexer": "ipython3",
   "version": "3.10.8"
  },
  "orig_nbformat": 4
 },
 "nbformat": 4,
 "nbformat_minor": 2
}
