{
 "cells": [
  {
   "cell_type": "code",
   "execution_count": 2,
   "metadata": {},
   "outputs": [],
   "source": [
    "## how to add image in file \n",
    "##  mixkit    u get audio ,image\n",
    "## pixel\n",
    "## pixaby\n",
    "## videvo\n",
    "## coverr\n",
    "## free website to download copyright of free icon and image"
   ]
  },
  {
   "attachments": {},
   "cell_type": "markdown",
   "metadata": {},
   "source": [
    "#### Tilte\n",
    "#### Author Name\n",
    "#### linkedIn\n",
    "#### kaggle\n",
    "#### github"
   ]
  },
  {
   "cell_type": "code",
   "execution_count": 3,
   "metadata": {},
   "outputs": [],
   "source": [
    "## Table Of Content\n",
    "##### how to add table of content in ipynb file?"
   ]
  },
  {
   "cell_type": "code",
   "execution_count": null,
   "metadata": {},
   "outputs": [],
   "source": [
    "### idea\n",
    "## make a table interactive by using google colab video check dr Ammar"
   ]
  }
 ],
 "metadata": {
  "kernelspec": {
   "display_name": "ramadan_batch",
   "language": "python",
   "name": "python3"
  },
  "language_info": {
   "codemirror_mode": {
    "name": "ipython",
    "version": 3
   },
   "file_extension": ".py",
   "mimetype": "text/x-python",
   "name": "python",
   "nbconvert_exporter": "python",
   "pygments_lexer": "ipython3",
   "version": "3.11.2"
  },
  "orig_nbformat": 4
 },
 "nbformat": 4,
 "nbformat_minor": 2
}
