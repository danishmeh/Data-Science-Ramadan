{
 "cells": [
  {
   "attachments": {},
   "cell_type": "markdown",
   "metadata": {},
   "source": [
    "# **EDA**"
   ]
  },
  {
   "attachments": {},
   "cell_type": "markdown",
   "metadata": {},
   "source": [
    "## Expolatorary Data Analysis"
   ]
  },
  {
   "cell_type": "code",
   "execution_count": 9,
   "metadata": {},
   "outputs": [],
   "source": [
    "import pandas as pd\n",
    "import numpy as np\n",
    "import matplotlib.pyplot as plt\n",
    "import seaborn as sns\n",
    "import plotly as px\n",
    "# from ydata_profiling import ProfileReport"
   ]
  },
  {
   "attachments": {},
   "cell_type": "markdown",
   "metadata": {},
   "source": [
    "## Super Ways to Conduct EDA in one go"
   ]
  },
  {
   "cell_type": "code",
   "execution_count": 10,
   "metadata": {},
   "outputs": [
    {
     "data": {
      "text/html": [
       "<div>\n",
       "<style scoped>\n",
       "    .dataframe tbody tr th:only-of-type {\n",
       "        vertical-align: middle;\n",
       "    }\n",
       "\n",
       "    .dataframe tbody tr th {\n",
       "        vertical-align: top;\n",
       "    }\n",
       "\n",
       "    .dataframe thead th {\n",
       "        text-align: right;\n",
       "    }\n",
       "</style>\n",
       "<table border=\"1\" class=\"dataframe\">\n",
       "  <thead>\n",
       "    <tr style=\"text-align: right;\">\n",
       "      <th></th>\n",
       "      <th>total_bill</th>\n",
       "      <th>tip</th>\n",
       "      <th>sex</th>\n",
       "      <th>smoker</th>\n",
       "      <th>day</th>\n",
       "      <th>time</th>\n",
       "      <th>size</th>\n",
       "    </tr>\n",
       "  </thead>\n",
       "  <tbody>\n",
       "    <tr>\n",
       "      <th>0</th>\n",
       "      <td>16.99</td>\n",
       "      <td>1.01</td>\n",
       "      <td>Female</td>\n",
       "      <td>No</td>\n",
       "      <td>Sun</td>\n",
       "      <td>Dinner</td>\n",
       "      <td>2</td>\n",
       "    </tr>\n",
       "    <tr>\n",
       "      <th>1</th>\n",
       "      <td>10.34</td>\n",
       "      <td>1.66</td>\n",
       "      <td>Male</td>\n",
       "      <td>No</td>\n",
       "      <td>Sun</td>\n",
       "      <td>Dinner</td>\n",
       "      <td>3</td>\n",
       "    </tr>\n",
       "    <tr>\n",
       "      <th>2</th>\n",
       "      <td>21.01</td>\n",
       "      <td>3.50</td>\n",
       "      <td>Male</td>\n",
       "      <td>No</td>\n",
       "      <td>Sun</td>\n",
       "      <td>Dinner</td>\n",
       "      <td>3</td>\n",
       "    </tr>\n",
       "    <tr>\n",
       "      <th>3</th>\n",
       "      <td>23.68</td>\n",
       "      <td>3.31</td>\n",
       "      <td>Male</td>\n",
       "      <td>No</td>\n",
       "      <td>Sun</td>\n",
       "      <td>Dinner</td>\n",
       "      <td>2</td>\n",
       "    </tr>\n",
       "    <tr>\n",
       "      <th>4</th>\n",
       "      <td>24.59</td>\n",
       "      <td>3.61</td>\n",
       "      <td>Female</td>\n",
       "      <td>No</td>\n",
       "      <td>Sun</td>\n",
       "      <td>Dinner</td>\n",
       "      <td>4</td>\n",
       "    </tr>\n",
       "  </tbody>\n",
       "</table>\n",
       "</div>"
      ],
      "text/plain": [
       "   total_bill   tip     sex smoker  day    time  size\n",
       "0       16.99  1.01  Female     No  Sun  Dinner     2\n",
       "1       10.34  1.66    Male     No  Sun  Dinner     3\n",
       "2       21.01  3.50    Male     No  Sun  Dinner     3\n",
       "3       23.68  3.31    Male     No  Sun  Dinner     2\n",
       "4       24.59  3.61  Female     No  Sun  Dinner     4"
      ]
     },
     "execution_count": 10,
     "metadata": {},
     "output_type": "execute_result"
    }
   ],
   "source": [
    "# import dataset\n",
    "df = sns.load_dataset('tips')\n",
    "df.head()"
   ]
  },
  {
   "cell_type": "code",
   "execution_count": null,
   "metadata": {},
   "outputs": [
    {
     "name": "stderr",
     "output_type": "stream",
     "text": [
      "c:\\Users\\lenovo\\miniconda3\\envs\\ramadan_batch\\Lib\\site-packages\\seaborn\\matrix.py:309: UserWarning:\n",
      "\n",
      "Attempting to set identical low and high xlims makes transformation singular; automatically expanding.\n",
      "\n",
      "c:\\Users\\lenovo\\miniconda3\\envs\\ramadan_batch\\Lib\\site-packages\\seaborn\\matrix.py:309: UserWarning:\n",
      "\n",
      "Attempting to set identical low and high ylims makes transformation singular; automatically expanding.\n",
      "\n",
      "2023-04-09 20:58:40,040 - WARNING  - findfont: Font family 'Heiti TC' not found.\n",
      "2023-04-09 20:58:40,065 - WARNING  - findfont: Font family 'Heiti TC' not found.\n",
      "2023-04-09 20:58:40,068 - WARNING  - findfont: Font family 'Heiti TC' not found.\n",
      "2023-04-09 20:58:40,073 - WARNING  - findfont: Font family 'Heiti TC' not found.\n",
      "2023-04-09 20:58:40,082 - WARNING  - findfont: Font family 'Heiti TC' not found.\n",
      "2023-04-09 20:58:40,089 - WARNING  - findfont: Font family 'Heiti TC' not found.\n",
      "2023-04-09 20:58:40,091 - WARNING  - findfont: Font family 'Heiti TC' not found.\n",
      "2023-04-09 20:58:40,096 - WARNING  - findfont: Font family 'Heiti TC' not found.\n",
      "2023-04-09 20:58:40,100 - WARNING  - findfont: Font family 'Heiti TC' not found.\n",
      "2023-04-09 20:58:40,103 - WARNING  - findfont: Font family 'Heiti TC' not found.\n",
      "2023-04-09 20:58:40,111 - WARNING  - findfont: Font family 'Heiti TC' not found.\n",
      "2023-04-09 20:58:40,117 - WARNING  - findfont: Font family 'Heiti TC' not found.\n",
      "2023-04-09 20:58:40,120 - WARNING  - findfont: Font family 'Heiti TC' not found.\n",
      "2023-04-09 20:58:40,128 - WARNING  - findfont: Font family 'Heiti TC' not found.\n",
      "2023-04-09 20:58:40,136 - WARNING  - findfont: Font family 'Heiti TC' not found.\n",
      "2023-04-09 20:58:40,140 - WARNING  - findfont: Font family 'Heiti TC' not found.\n",
      "2023-04-09 20:58:40,148 - WARNING  - findfont: Font family 'Heiti TC' not found.\n",
      "2023-04-09 20:58:40,151 - WARNING  - findfont: Font family 'Heiti TC' not found.\n",
      "2023-04-09 20:58:40,153 - WARNING  - findfont: Font family 'Heiti TC' not found.\n",
      "2023-04-09 20:58:40,211 - WARNING  - findfont: Font family 'Heiti TC' not found.\n",
      "2023-04-09 20:58:40,216 - WARNING  - findfont: Font family 'Heiti TC' not found.\n",
      "2023-04-09 20:58:40,219 - WARNING  - findfont: Font family 'Heiti TC' not found.\n",
      "2023-04-09 20:58:40,221 - WARNING  - findfont: Font family 'Heiti TC' not found.\n",
      "2023-04-09 20:58:40,227 - WARNING  - findfont: Font family 'Heiti TC' not found.\n",
      "2023-04-09 20:58:40,232 - WARNING  - findfont: Font family 'Heiti TC' not found.\n",
      "2023-04-09 20:58:40,236 - WARNING  - findfont: Font family 'Heiti TC' not found.\n",
      "2023-04-09 20:58:40,238 - WARNING  - findfont: Font family 'Heiti TC' not found.\n",
      "2023-04-09 20:58:40,244 - WARNING  - findfont: Font family 'Heiti TC' not found.\n",
      "2023-04-09 20:58:40,249 - WARNING  - findfont: Font family 'Heiti TC' not found.\n",
      "2023-04-09 20:58:40,253 - WARNING  - findfont: Font family 'Heiti TC' not found.\n",
      "2023-04-09 20:58:40,257 - WARNING  - findfont: Font family 'Heiti TC' not found.\n",
      "2023-04-09 20:58:40,265 - WARNING  - findfont: Font family 'Heiti TC' not found.\n",
      "2023-04-09 20:58:40,268 - WARNING  - findfont: Font family 'Heiti TC' not found.\n",
      "2023-04-09 20:58:40,271 - WARNING  - findfont: Font family 'Heiti TC' not found.\n",
      "2023-04-09 20:58:40,274 - WARNING  - findfont: Font family 'Heiti TC' not found.\n",
      "2023-04-09 20:58:40,282 - WARNING  - findfont: Font family 'Heiti TC' not found.\n",
      "2023-04-09 20:58:40,285 - WARNING  - findfont: Font family 'Heiti TC' not found.\n",
      "2023-04-09 20:58:40,288 - WARNING  - findfont: Font family 'Heiti TC' not found.\n",
      "2023-04-09 20:58:42,520 - WARNING  - findfont: Font family 'Heiti TC' not found.\n",
      "2023-04-09 20:58:42,529 - WARNING  - findfont: Font family 'Heiti TC' not found.\n",
      "2023-04-09 20:58:42,533 - WARNING  - findfont: Font family 'Heiti TC' not found.\n",
      "2023-04-09 20:58:42,535 - WARNING  - findfont: Font family 'Heiti TC' not found.\n",
      "2023-04-09 20:58:42,537 - WARNING  - findfont: Font family 'Heiti TC' not found.\n",
      "2023-04-09 20:58:42,539 - WARNING  - findfont: Font family 'Heiti TC' not found.\n",
      "2023-04-09 20:58:42,543 - WARNING  - findfont: Font family 'Heiti TC' not found.\n",
      "2023-04-09 20:58:42,548 - WARNING  - findfont: Font family 'Heiti TC' not found.\n",
      "2023-04-09 20:58:42,556 - WARNING  - findfont: Font family 'Heiti TC' not found.\n",
      "2023-04-09 20:58:42,606 - WARNING  - findfont: Font family 'Heiti TC' not found.\n",
      "2023-04-09 20:58:42,609 - WARNING  - findfont: Font family 'Heiti TC' not found.\n",
      "2023-04-09 20:58:42,612 - WARNING  - findfont: Font family 'Heiti TC' not found.\n",
      "2023-04-09 20:58:42,616 - WARNING  - findfont: Font family 'Heiti TC' not found.\n",
      "2023-04-09 20:58:42,618 - WARNING  - findfont: Font family 'Heiti TC' not found.\n",
      "2023-04-09 20:58:42,621 - WARNING  - findfont: Font family 'Heiti TC' not found.\n",
      "2023-04-09 20:58:42,625 - WARNING  - findfont: Font family 'Heiti TC' not found.\n",
      "2023-04-09 20:58:42,633 - WARNING  - findfont: Font family 'Heiti TC' not found.\n",
      "2023-04-09 20:58:42,636 - WARNING  - findfont: Font family 'Heiti TC' not found.\n",
      "2023-04-09 20:58:42,639 - WARNING  - findfont: Font family 'Heiti TC' not found.\n",
      "2023-04-09 20:58:42,641 - WARNING  - findfont: Font family 'Heiti TC' not found.\n",
      "2023-04-09 20:58:42,643 - WARNING  - findfont: Font family 'Heiti TC' not found.\n",
      "2023-04-09 20:58:42,650 - WARNING  - findfont: Font family 'Heiti TC' not found.\n",
      "2023-04-09 20:58:42,652 - WARNING  - findfont: Font family 'Heiti TC' not found.\n",
      "2023-04-09 20:58:42,654 - WARNING  - findfont: Font family 'Heiti TC' not found.\n",
      "2023-04-09 20:58:42,657 - WARNING  - findfont: Font family 'Heiti TC' not found.\n",
      "2023-04-09 20:58:42,660 - WARNING  - findfont: Font family 'Heiti TC' not found.\n",
      "2023-04-09 20:58:42,664 - WARNING  - findfont: Font family 'Heiti TC' not found.\n",
      "2023-04-09 20:58:42,669 - WARNING  - findfont: Font family 'Heiti TC' not found.\n",
      "2023-04-09 20:58:42,727 - WARNING  - findfont: Font family 'Heiti TC' not found.\n",
      "2023-04-09 20:58:42,731 - WARNING  - findfont: Font family 'Heiti TC' not found.\n",
      "2023-04-09 20:58:42,734 - WARNING  - findfont: Font family 'Heiti TC' not found.\n",
      "2023-04-09 20:58:42,736 - WARNING  - findfont: Font family 'Heiti TC' not found.\n",
      "2023-04-09 20:58:42,738 - WARNING  - findfont: Font family 'Heiti TC' not found.\n",
      "2023-04-09 20:58:42,742 - WARNING  - findfont: Font family 'Heiti TC' not found.\n",
      "2023-04-09 20:58:42,745 - WARNING  - findfont: Font family 'Heiti TC' not found.\n",
      "2023-04-09 20:58:42,749 - WARNING  - findfont: Font family 'Heiti TC' not found.\n",
      "2023-04-09 20:58:42,753 - WARNING  - findfont: Font family 'Heiti TC' not found.\n",
      "2023-04-09 20:58:42,755 - WARNING  - findfont: Font family 'Heiti TC' not found.\n",
      "2023-04-09 20:58:42,758 - WARNING  - findfont: Font family 'Heiti TC' not found.\n",
      "2023-04-09 20:58:42,803 - WARNING  - findfont: Font family 'Heiti TC' not found.\n",
      "2023-04-09 20:58:42,806 - WARNING  - findfont: Font family 'Heiti TC' not found.\n",
      "2023-04-09 20:58:42,809 - WARNING  - findfont: Font family 'Heiti TC' not found.\n",
      "2023-04-09 20:58:42,811 - WARNING  - findfont: Font family 'Heiti TC' not found.\n",
      "2023-04-09 20:58:42,816 - WARNING  - findfont: Font family 'Heiti TC' not found.\n",
      "2023-04-09 20:58:42,818 - WARNING  - findfont: Font family 'Heiti TC' not found.\n",
      "2023-04-09 20:58:42,821 - WARNING  - findfont: Font family 'Heiti TC' not found.\n",
      "c:\\Users\\lenovo\\miniconda3\\envs\\ramadan_batch\\Lib\\site-packages\\scipy\\cluster\\hierarchy.py:2846: UserWarning:\n",
      "\n",
      "Attempting to set identical low and high ylims makes transformation singular; automatically expanding.\n",
      "\n",
      "2023-04-09 20:58:44,165 - WARNING  - findfont: Font family 'Heiti TC' not found.\n",
      "2023-04-09 20:58:44,169 - WARNING  - findfont: Font family 'Heiti TC' not found.\n",
      "2023-04-09 20:58:44,172 - WARNING  - findfont: Font family 'Heiti TC' not found.\n",
      "2023-04-09 20:58:44,174 - WARNING  - findfont: Font family 'Heiti TC' not found.\n",
      "2023-04-09 20:58:44,176 - WARNING  - findfont: Font family 'Heiti TC' not found.\n",
      "2023-04-09 20:58:44,178 - WARNING  - findfont: Font family 'Heiti TC' not found.\n",
      "2023-04-09 20:58:44,181 - WARNING  - findfont: Font family 'Heiti TC' not found.\n",
      "2023-04-09 20:58:44,183 - WARNING  - findfont: Font family 'Heiti TC' not found.\n",
      "2023-04-09 20:58:44,201 - WARNING  - findfont: Font family 'Heiti TC' not found.\n",
      "2023-04-09 20:58:44,204 - WARNING  - findfont: Font family 'Heiti TC' not found.\n",
      "2023-04-09 20:58:44,207 - WARNING  - findfont: Font family 'Heiti TC' not found.\n",
      "2023-04-09 20:58:44,209 - WARNING  - findfont: Font family 'Heiti TC' not found.\n",
      "2023-04-09 20:58:44,212 - WARNING  - findfont: Font family 'Heiti TC' not found.\n",
      "2023-04-09 20:58:44,217 - WARNING  - findfont: Font family 'Heiti TC' not found.\n",
      "2023-04-09 20:58:44,220 - WARNING  - findfont: Font family 'Heiti TC' not found.\n",
      "2023-04-09 20:58:44,242 - WARNING  - findfont: Font family 'Heiti TC' not found.\n",
      "2023-04-09 20:58:44,254 - WARNING  - findfont: Font family 'Heiti TC' not found.\n",
      "2023-04-09 20:58:44,256 - WARNING  - findfont: Font family 'Heiti TC' not found.\n",
      "2023-04-09 20:58:44,259 - WARNING  - findfont: Font family 'Heiti TC' not found.\n",
      "2023-04-09 20:58:44,263 - WARNING  - findfont: Font family 'Heiti TC' not found.\n",
      "2023-04-09 20:58:44,266 - WARNING  - findfont: Font family 'Heiti TC' not found.\n",
      "2023-04-09 20:58:44,269 - WARNING  - findfont: Font family 'Heiti TC' not found.\n",
      "2023-04-09 20:58:44,272 - WARNING  - findfont: Font family 'Heiti TC' not found.\n",
      "2023-04-09 20:58:44,274 - WARNING  - findfont: Font family 'Heiti TC' not found.\n",
      "2023-04-09 20:58:44,277 - WARNING  - findfont: Font family 'Heiti TC' not found.\n",
      "2023-04-09 20:58:44,280 - WARNING  - findfont: Font family 'Heiti TC' not found.\n",
      "2023-04-09 20:58:45,452 - WARNING  - findfont: Font family 'Heiti TC' not found.\n",
      "2023-04-09 20:58:45,463 - WARNING  - findfont: Font family 'Heiti TC' not found.\n",
      "2023-04-09 20:58:45,466 - WARNING  - findfont: Font family 'Heiti TC' not found.\n",
      "2023-04-09 20:58:45,471 - WARNING  - findfont: Font family 'Heiti TC' not found.\n",
      "2023-04-09 20:58:45,475 - WARNING  - findfont: Font family 'Heiti TC' not found.\n",
      "2023-04-09 20:58:45,479 - WARNING  - findfont: Font family 'Heiti TC' not found.\n",
      "2023-04-09 20:58:45,483 - WARNING  - findfont: Font family 'Heiti TC' not found.\n",
      "2023-04-09 20:58:45,487 - WARNING  - findfont: Font family 'Heiti TC' not found.\n",
      "2023-04-09 20:58:45,491 - WARNING  - findfont: Font family 'Heiti TC' not found.\n",
      "2023-04-09 20:58:45,494 - WARNING  - findfont: Font family 'Heiti TC' not found.\n",
      "2023-04-09 20:58:45,497 - WARNING  - findfont: Font family 'Heiti TC' not found.\n",
      "2023-04-09 20:58:45,502 - WARNING  - findfont: Font family 'Heiti TC' not found.\n",
      "2023-04-09 20:58:45,661 - WARNING  - findfont: Font family 'Heiti TC' not found.\n",
      "2023-04-09 20:58:45,665 - WARNING  - findfont: Font family 'Heiti TC' not found.\n",
      "2023-04-09 20:58:45,668 - WARNING  - findfont: Font family 'Heiti TC' not found.\n",
      "2023-04-09 20:58:45,671 - WARNING  - findfont: Font family 'Heiti TC' not found.\n",
      "2023-04-09 20:58:45,674 - WARNING  - findfont: Font family 'Heiti TC' not found.\n",
      "2023-04-09 20:58:45,676 - WARNING  - findfont: Font family 'Heiti TC' not found.\n",
      "2023-04-09 20:58:45,679 - WARNING  - findfont: Font family 'Heiti TC' not found.\n",
      "2023-04-09 20:58:45,686 - WARNING  - findfont: Font family 'Heiti TC' not found.\n",
      "2023-04-09 20:58:45,688 - WARNING  - findfont: Font family 'Heiti TC' not found.\n",
      "2023-04-09 20:58:45,690 - WARNING  - findfont: Font family 'Heiti TC' not found.\n",
      "2023-04-09 20:58:45,692 - WARNING  - findfont: Font family 'Heiti TC' not found.\n",
      "2023-04-09 20:58:45,695 - WARNING  - findfont: Font family 'Heiti TC' not found.\n",
      "2023-04-09 20:58:46,080 - WARNING  - findfont: Font family 'Heiti TC' not found.\n",
      "2023-04-09 20:58:46,091 - WARNING  - findfont: Font family 'Heiti TC' not found.\n",
      "2023-04-09 20:58:46,093 - WARNING  - findfont: Font family 'Heiti TC' not found.\n",
      "2023-04-09 20:58:46,096 - WARNING  - findfont: Font family 'Heiti TC' not found.\n",
      "2023-04-09 20:58:46,099 - WARNING  - findfont: Font family 'Heiti TC' not found.\n",
      "2023-04-09 20:58:46,103 - WARNING  - findfont: Font family 'Heiti TC' not found.\n",
      "2023-04-09 20:58:46,106 - WARNING  - findfont: Font family 'Heiti TC' not found.\n",
      "2023-04-09 20:58:46,109 - WARNING  - findfont: Font family 'Heiti TC' not found.\n",
      "2023-04-09 20:58:46,132 - WARNING  - findfont: Font family 'Heiti TC' not found.\n",
      "2023-04-09 20:58:46,138 - WARNING  - findfont: Font family 'Heiti TC' not found.\n",
      "2023-04-09 20:58:46,141 - WARNING  - findfont: Font family 'Heiti TC' not found.\n",
      "2023-04-09 20:58:46,144 - WARNING  - findfont: Font family 'Heiti TC' not found.\n",
      "2023-04-09 20:58:46,147 - WARNING  - findfont: Font family 'Heiti TC' not found.\n",
      "2023-04-09 20:58:46,153 - WARNING  - findfont: Font family 'Heiti TC' not found.\n",
      "2023-04-09 20:58:46,157 - WARNING  - findfont: Font family 'Heiti TC' not found.\n",
      "2023-04-09 20:58:46,173 - WARNING  - findfont: Font family 'Heiti TC' not found.\n",
      "2023-04-09 20:58:46,175 - WARNING  - findfont: Font family 'Heiti TC' not found.\n",
      "2023-04-09 20:58:46,178 - WARNING  - findfont: Font family 'Heiti TC' not found.\n",
      "2023-04-09 20:58:46,180 - WARNING  - findfont: Font family 'Heiti TC' not found.\n",
      "2023-04-09 20:58:46,184 - WARNING  - findfont: Font family 'Heiti TC' not found.\n",
      "2023-04-09 20:58:46,188 - WARNING  - findfont: Font family 'Heiti TC' not found.\n",
      "2023-04-09 20:58:46,192 - WARNING  - findfont: Font family 'Heiti TC' not found.\n",
      "2023-04-09 20:58:46,194 - WARNING  - findfont: Font family 'Heiti TC' not found.\n",
      "2023-04-09 20:58:46,199 - WARNING  - findfont: Font family 'Heiti TC' not found.\n",
      "2023-04-09 20:58:46,203 - WARNING  - findfont: Font family 'Heiti TC' not found.\n",
      "2023-04-09 20:58:46,206 - WARNING  - findfont: Font family 'Heiti TC' not found.\n"
     ]
    }
   ],
   "source": [
    "## Profile Report Generation\n",
    "# report = ProfileReport(df)"
   ]
  },
  {
   "cell_type": "code",
   "execution_count": null,
   "metadata": {},
   "outputs": [],
   "source": [
    "report.to_file(\"eda_report.html\")"
   ]
  },
  {
   "cell_type": "code",
   "execution_count": null,
   "metadata": {},
   "outputs": [],
   "source": [
    "report.to_file(\"eda_report.csv\")"
   ]
  },
  {
   "cell_type": "code",
   "execution_count": null,
   "metadata": {},
   "outputs": [],
   "source": [
    "from skimpy import skim\n",
    "skim(df)"
   ]
  },
  {
   "attachments": {},
   "cell_type": "markdown",
   "metadata": {},
   "source": [
    "# dtale"
   ]
  },
  {
   "cell_type": "code",
   "execution_count": 16,
   "metadata": {},
   "outputs": [
    {
     "name": "stderr",
     "output_type": "stream",
     "text": [
      "c:\\Users\\lenovo\\miniconda3\\envs\\ramadan_batch\\Lib\\site-packages\\dtale\\views.py:755: FutureWarning:\n",
      "\n",
      "['sex', 'smoker', 'day', 'time'] did not aggregate successfully. If any error is raised this will raise in a future version of pandas. Drop these columns/ops to avoid this warning.\n",
      "\n"
     ]
    },
    {
     "data": {
      "text/html": [
       "\n",
       "        <iframe\n",
       "            width=\"100%\"\n",
       "            height=\"475\"\n",
       "            src=\"http://DESKTOP-OJDAM6P:40000/dtale/iframe/2\"\n",
       "            frameborder=\"0\"\n",
       "            allowfullscreen\n",
       "            \n",
       "        ></iframe>\n",
       "        "
      ],
      "text/plain": [
       "<IPython.lib.display.IFrame at 0x298977af690>"
      ]
     },
     "metadata": {},
     "output_type": "display_data"
    },
    {
     "data": {
      "text/plain": []
     },
     "execution_count": 16,
     "metadata": {},
     "output_type": "execute_result"
    }
   ],
   "source": [
    "# import dataset\n",
    "df = sns.load_dataset('tips')\n",
    "# pip install dtale\n",
    "import dtale as dt\n",
    "dt.show(df)"
   ]
  },
  {
   "cell_type": "code",
   "execution_count": 26,
   "metadata": {},
   "outputs": [
    {
     "name": "stderr",
     "output_type": "stream",
     "text": [
      "c:\\Users\\lenovo\\miniconda3\\envs\\ramadan_batch\\Lib\\site-packages\\dtale\\views.py:755: FutureWarning:\n",
      "\n",
      "['cut', 'color', 'clarity'] did not aggregate successfully. If any error is raised this will raise in a future version of pandas. Drop these columns/ops to avoid this warning.\n",
      "\n"
     ]
    },
    {
     "data": {
      "text/html": [
       "\n",
       "        <iframe\n",
       "            width=\"100%\"\n",
       "            height=\"475\"\n",
       "            src=\"http://DESKTOP-OJDAM6P:40000/dtale/iframe/9\"\n",
       "            frameborder=\"0\"\n",
       "            allowfullscreen\n",
       "            \n",
       "        ></iframe>\n",
       "        "
      ],
      "text/plain": [
       "<IPython.lib.display.IFrame at 0x29897800f50>"
      ]
     },
     "metadata": {},
     "output_type": "display_data"
    },
    {
     "data": {
      "text/plain": []
     },
     "execution_count": 26,
     "metadata": {},
     "output_type": "execute_result"
    }
   ],
   "source": [
    "diamonds = sns.load_dataset(\"diamonds\")\n",
    "dt.show(diamonds)\n",
    "### how to kill this d\n"
   ]
  },
  {
   "cell_type": "code",
   "execution_count": 27,
   "metadata": {},
   "outputs": [
    {
     "name": "stderr",
     "output_type": "stream",
     "text": [
      "c:\\Users\\lenovo\\miniconda3\\envs\\ramadan_batch\\Lib\\site-packages\\dtale\\views.py:755: FutureWarning:\n",
      "\n",
      "['cut', 'color', 'clarity'] did not aggregate successfully. If any error is raised this will raise in a future version of pandas. Drop these columns/ops to avoid this warning.\n",
      "\n",
      "2023-04-09 21:18:44,467 - INFO     - Executing shutdown...\n",
      "2023-04-09 21:18:44,472 - ERROR    - Exception on /shutdown [GET]\n",
      "Traceback (most recent call last):\n",
      "  File \"c:\\Users\\lenovo\\miniconda3\\envs\\ramadan_batch\\Lib\\site-packages\\flask\\app.py\", line 2528, in wsgi_app\n",
      "    response = self.full_dispatch_request()\n",
      "               ^^^^^^^^^^^^^^^^^^^^^^^^^^^^\n",
      "  File \"c:\\Users\\lenovo\\miniconda3\\envs\\ramadan_batch\\Lib\\site-packages\\flask\\app.py\", line 1825, in full_dispatch_request\n",
      "    rv = self.handle_user_exception(e)\n",
      "         ^^^^^^^^^^^^^^^^^^^^^^^^^^^^^\n",
      "  File \"c:\\Users\\lenovo\\miniconda3\\envs\\ramadan_batch\\Lib\\site-packages\\flask\\app.py\", line 1823, in full_dispatch_request\n",
      "    rv = self.dispatch_request()\n",
      "         ^^^^^^^^^^^^^^^^^^^^^^^\n",
      "  File \"c:\\Users\\lenovo\\miniconda3\\envs\\ramadan_batch\\Lib\\site-packages\\flask\\app.py\", line 1799, in dispatch_request\n",
      "    return self.ensure_sync(self.view_functions[rule.endpoint])(**view_args)\n",
      "           ^^^^^^^^^^^^^^^^^^^^^^^^^^^^^^^^^^^^^^^^^^^^^^^^^^^^^^^^^^^^^^^^^\n",
      "  File \"c:\\Users\\lenovo\\miniconda3\\envs\\ramadan_batch\\Lib\\site-packages\\dtale\\app.py\", line 435, in shutdown\n",
      "    shutdown_server()\n",
      "  File \"c:\\Users\\lenovo\\miniconda3\\envs\\ramadan_batch\\Lib\\site-packages\\dtale\\app.py\", line 421, in shutdown_server\n",
      "    raise RuntimeError(\"Not running with the Werkzeug Server\")\n",
      "RuntimeError: Not running with the Werkzeug Server\n"
     ]
    }
   ],
   "source": [
    "d = dt.show(diamonds)\n",
    "d.kill()"
   ]
  },
  {
   "cell_type": "code",
   "execution_count": null,
   "metadata": {},
   "outputs": [],
   "source": []
  }
 ],
 "metadata": {
  "kernelspec": {
   "display_name": "Python 3",
   "language": "python",
   "name": "python3"
  },
  "language_info": {
   "codemirror_mode": {
    "name": "ipython",
    "version": 3
   },
   "file_extension": ".py",
   "mimetype": "text/x-python",
   "name": "python",
   "nbconvert_exporter": "python",
   "pygments_lexer": "ipython3",
   "version": "3.11.2"
  },
  "orig_nbformat": 4
 },
 "nbformat": 4,
 "nbformat_minor": 2
}
